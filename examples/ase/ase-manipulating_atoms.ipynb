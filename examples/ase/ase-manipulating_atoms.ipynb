{
 "cells": [
  {
   "cell_type": "markdown",
   "metadata": {},
   "source": [
    "# Jupyter example\n",
    "## ASE: Manipulating atoms\n",
    "https://wiki.fysik.dtu.dk/ase/tutorials/manipulating_atoms.html"
   ]
  },
  {
   "cell_type": "code",
   "execution_count": 1,
   "metadata": {},
   "outputs": [],
   "source": [
    "from ase import Atoms\n",
    "atoms = Atoms('Ni4', [(0, 0, 0),(0.45, 0, 0),(0, 0.5, 0),(0.5, 0.5, 0)],cell=[1, 1, 1])"
   ]
  },
  {
   "cell_type": "code",
   "execution_count": 2,
   "metadata": {},
   "outputs": [
    {
     "data": {
      "text/plain": [
       "4"
      ]
     },
     "execution_count": 2,
     "metadata": {},
     "output_type": "execute_result"
    }
   ],
   "source": [
    "len(atoms)"
   ]
  },
  {
   "cell_type": "code",
   "execution_count": 3,
   "metadata": {},
   "outputs": [
    {
     "data": {
      "text/plain": [
       "array([[1., 0., 0.],\n",
       "       [0., 1., 0.],\n",
       "       [0., 0., 1.]])"
      ]
     },
     "execution_count": 3,
     "metadata": {},
     "output_type": "execute_result"
    }
   ],
   "source": [
    "atoms.get_cell()"
   ]
  },
  {
   "cell_type": "code",
   "execution_count": 4,
   "metadata": {},
   "outputs": [],
   "source": [
    "from numpy import sqrt\n",
    "a = 3.55\n",
    "cell = [(2/sqrt(2.)*a, 0, 0),(1/sqrt(2.)*a, sqrt(3./2.)*a, 0),(0, 0, 10*sqrt(3.)/3.*a)]\n",
    "atoms.set_cell(cell, scale_atoms=True)"
   ]
  },
  {
   "cell_type": "code",
   "execution_count": 5,
   "metadata": {},
   "outputs": [
    {
     "data": {
      "text/plain": [
       "array([[0.        , 0.        , 0.        ],\n",
       "       [2.25920617, 0.        , 0.        ],\n",
       "       [1.25511454, 2.17392215, 0.        ],\n",
       "       [3.76534361, 2.17392215, 0.        ]])"
      ]
     },
     "execution_count": 5,
     "metadata": {},
     "output_type": "execute_result"
    }
   ],
   "source": [
    "atoms.get_positions()"
   ]
  },
  {
   "cell_type": "code",
   "execution_count": 6,
   "metadata": {},
   "outputs": [
    {
     "data": {
      "application/vnd.jupyter.widget-view+json": {
       "model_id": "695da6e28c49456e9e82261b7a1c701d",
       "version_major": 2,
       "version_minor": 0
      },
      "text/plain": [
       "HBox(children=(NGLWidget(), VBox(children=(Dropdown(description='Show', options=('All', 'Ni'), value='All'), D…"
      ]
     },
     "metadata": {},
     "output_type": "display_data"
    }
   ],
   "source": [
    "from ase.visualize import view\n",
    "view(atoms,viewer='ngl')"
   ]
  },
  {
   "cell_type": "code",
   "execution_count": 7,
   "metadata": {},
   "outputs": [],
   "source": [
    "from numpy import identity\n",
    "from ase import Atom\n",
    "xyzcell = identity(3) # The 3x3 unit matrix\n",
    "atoms.set_cell(xyzcell, scale_atoms=True)  # Set the unit cell and rescale\n",
    "atoms.append(Atom('Ni', (1/6., 1/6., .1)))\n",
    "atoms.set_cell(cell, scale_atoms=True)  # Set the unit cell and scale back"
   ]
  },
  {
   "cell_type": "code",
   "execution_count": 8,
   "metadata": {},
   "outputs": [
    {
     "data": {
      "application/vnd.jupyter.widget-view+json": {
       "model_id": "a1863aa2ad9345b69e467f39b9175ccd",
       "version_major": 2,
       "version_minor": 0
      },
      "text/plain": [
       "HBox(children=(NGLWidget(), VBox(children=(Dropdown(description='Show', options=('All', 'Ni'), value='All'), D…"
      ]
     },
     "metadata": {},
     "output_type": "display_data"
    }
   ],
   "source": [
    "view(atoms,viewer='ngl')"
   ]
  },
  {
   "cell_type": "code",
   "execution_count": 10,
   "metadata": {},
   "outputs": [
    {
     "data": {
      "application/vnd.jupyter.widget-view+json": {
       "model_id": "2f983a58e98f49edb4b55b83352710de",
       "version_major": 2,
       "version_minor": 0
      },
      "text/plain": [
       "HBox(children=(NGLWidget(), VBox(children=(Dropdown(description='Show', options=('All', 'O', 'H'), value='All'…"
      ]
     },
     "metadata": {},
     "output_type": "display_data"
    }
   ],
   "source": [
    "from ase.io import read\n",
    "W = read('WL.traj')\n",
    "view(W,viewer='ngl')"
   ]
  },
  {
   "cell_type": "code",
   "execution_count": 11,
   "metadata": {},
   "outputs": [],
   "source": [
    "cellW = W.get_cell()"
   ]
  },
  {
   "cell_type": "code",
   "execution_count": 12,
   "metadata": {},
   "outputs": [],
   "source": [
    "from ase.build import fcc111\n",
    "slab = fcc111('Ni', size=[2, 4, 3], a=3.55, orthogonal=True)\n",
    "cell = slab.get_cell()\n",
    "W.set_cell([[cellW[1, 1], 0, 0],[0, cellW[0, 0], 0],cellW[2]],scale_atoms=False)"
   ]
  },
  {
   "cell_type": "code",
   "execution_count": 13,
   "metadata": {},
   "outputs": [
    {
     "data": {
      "application/vnd.jupyter.widget-view+json": {
       "model_id": "399742a7fd844f429c33c9068f3222be",
       "version_major": 2,
       "version_minor": 0
      },
      "text/plain": [
       "HBox(children=(NGLWidget(), VBox(children=(Dropdown(description='Show', options=('All', 'O', 'H'), value='All'…"
      ]
     },
     "metadata": {},
     "output_type": "display_data"
    }
   ],
   "source": [
    "W.rotate(90, 'z', center=(0, 0, 0))\n",
    "view(W,viewer='ngl')"
   ]
  },
  {
   "cell_type": "code",
   "execution_count": 14,
   "metadata": {},
   "outputs": [],
   "source": [
    "W.wrap()"
   ]
  },
  {
   "cell_type": "code",
   "execution_count": 15,
   "metadata": {},
   "outputs": [
    {
     "data": {
      "application/vnd.jupyter.widget-view+json": {
       "model_id": "8cf66a157b514680b88114c46754b49f",
       "version_major": 2,
       "version_minor": 0
      },
      "text/plain": [
       "HBox(children=(NGLWidget(), VBox(children=(Dropdown(description='Show', options=('All', 'O', 'H'), value='All'…"
      ]
     },
     "metadata": {},
     "output_type": "display_data"
    }
   ],
   "source": [
    "view(W,viewer='ngl')"
   ]
  },
  {
   "cell_type": "code",
   "execution_count": 16,
   "metadata": {},
   "outputs": [],
   "source": [
    "import numpy as np\n",
    "cell1 = np.array([cell[0], cell[1], cellW[2]])\n",
    "W.set_cell(cell1, scale_atoms=True)\n",
    "p = slab.get_positions()\n",
    "W.center(vacuum=p[:, 2].max() + 1.5, axis=2)"
   ]
  },
  {
   "cell_type": "code",
   "execution_count": 18,
   "metadata": {},
   "outputs": [
    {
     "data": {
      "application/vnd.jupyter.widget-view+json": {
       "model_id": "4610492fd32d443daff985b55d41c69c",
       "version_major": 2,
       "version_minor": 0
      },
      "text/plain": [
       "HBox(children=(NGLWidget(), VBox(children=(Dropdown(description='Show', options=('All', 'O', 'H', 'Ni'), value…"
      ]
     },
     "metadata": {},
     "output_type": "display_data"
    }
   ],
   "source": [
    "interface = slab.copy()\n",
    "interface.extend(W)\n",
    "interface.center(vacuum=6, axis=2)\n",
    "view(interface,viewer='ngl')"
   ]
  },
  {
   "cell_type": "code",
   "execution_count": null,
   "metadata": {},
   "outputs": [],
   "source": []
  }
 ],
 "metadata": {
  "kernelspec": {
   "display_name": "Python 3",
   "language": "python",
   "name": "python3"
  },
  "language_info": {
   "codemirror_mode": {
    "name": "ipython",
    "version": 3
   },
   "file_extension": ".py",
   "mimetype": "text/x-python",
   "name": "python",
   "nbconvert_exporter": "python",
   "pygments_lexer": "ipython3",
   "version": "3.7.0"
  },
  "widgets": {
   "application/vnd.jupyter.widget-state+json": {
    "state": {
     "060352ef4e794ad5962fbcf3097b0ee8": {
      "model_module": "@jupyter-widgets/base",
      "model_module_version": "1.0.0",
      "model_name": "LayoutModel",
      "state": {}
     },
     "06caec5a5d6e4e08bd783340fa38de50": {
      "model_module": "@jupyter-widgets/base",
      "model_module_version": "1.0.0",
      "model_name": "LayoutModel",
      "state": {}
     },
     "089f6dfa404040b6b33cde28ecbb44fd": {
      "model_module": "@jupyter-widgets/base",
      "model_module_version": "1.0.0",
      "model_name": "LayoutModel",
      "state": {}
     },
     "0c97c4515bb644e5a37dff9df9e7e784": {
      "model_module": "@jupyter-widgets/base",
      "model_module_version": "1.0.0",
      "model_name": "LayoutModel",
      "state": {}
     },
     "0d6ce83c4c644004af7e766ebee09519": {
      "model_module": "@jupyter-widgets/controls",
      "model_module_version": "1.2.0",
      "model_name": "FloatSliderModel",
      "state": {
       "_model_module_version": "1.2.0",
       "_view_module_version": "1.2.0",
       "description": "Ball size",
       "layout": "IPY_MODEL_87d15133596146ceb9d65f642d06a703",
       "max": 1.5,
       "step": 0.01,
       "style": "IPY_MODEL_6eca7a42ba0b46b3b7b026d70415c969",
       "value": 0.8
      }
     },
     "0e35581bd1b7486b96a14cc2728fe616": {
      "model_module": "@jupyter-widgets/base",
      "model_module_version": "1.0.0",
      "model_name": "LayoutModel",
      "state": {}
     },
     "11e3b773b2c046e988a40b230d38bb49": {
      "model_module": "@jupyter-widgets/controls",
      "model_module_version": "1.2.0",
      "model_name": "DescriptionStyleModel",
      "state": {
       "_model_module_version": "1.2.0",
       "description_width": ""
      }
     },
     "128a1bd406a1420da22f4090869a6828": {
      "model_module": "@jupyter-widgets/controls",
      "model_module_version": "1.2.0",
      "model_name": "FloatSliderModel",
      "state": {
       "_model_module_version": "1.2.0",
       "_view_module_version": "1.2.0",
       "description": "Ball size",
       "layout": "IPY_MODEL_652dc4d4aa56421da3f3156500cc1a74",
       "max": 1.5,
       "step": 0.01,
       "style": "IPY_MODEL_a579d653b3e24e6fa0556ef8c61f0c29",
       "value": 0.8
      }
     },
     "14e25a569c934c0993d749d8572a5c72": {
      "model_module": "@jupyter-widgets/controls",
      "model_module_version": "1.2.0",
      "model_name": "ImageModel",
      "state": {
       "_model_module_version": "1.2.0",
       "_view_module_version": "1.2.0",
       "layout": "IPY_MODEL_c2411489b2cc48308de5595b48e7ae6d",
       "value": {},
       "width": "900.0"
      }
     },
     "152f3057e0aa46d2ab478fadf95698dc": {
      "model_module": "@jupyter-widgets/controls",
      "model_module_version": "1.2.0",
      "model_name": "DropdownModel",
      "state": {
       "_model_module_version": "1.2.0",
       "_options_labels": [
        " ",
        "picking",
        "random",
        "uniform",
        "atomindex",
        "residueindex",
        "chainindex",
        "modelindex",
        "sstruc",
        "element",
        "resname",
        "bfactor",
        "hydrophobicity",
        "value",
        "volume",
        "occupancy"
       ],
       "_view_module_version": "1.2.0",
       "description": "Color scheme",
       "index": 9,
       "layout": "IPY_MODEL_914cdb72ae3d4eac90046d43964c9d85",
       "style": "IPY_MODEL_37427365585949e6ba018a99418d6e5c"
      }
     },
     "189ab70cd9d7489f9e28e1a852b296c9": {
      "model_module": "@jupyter-widgets/controls",
      "model_module_version": "1.2.0",
      "model_name": "VBoxModel",
      "state": {
       "_model_module_version": "1.2.0",
       "_view_module_version": "1.2.0",
       "children": [
        "IPY_MODEL_adf75500e7304f23825f90a596f93842",
        "IPY_MODEL_ec8b059c91eb4382a136a4a23ea22735",
        "IPY_MODEL_cc2bf6662118492cbc7e3ebf2904561b"
       ],
       "layout": "IPY_MODEL_a6cdb1af049c4e83aae1ecdd49b7fbc4"
      }
     },
     "2048eeb2be8a4153b072407233698a88": {
      "model_module": "@jupyter-widgets/controls",
      "model_module_version": "1.2.0",
      "model_name": "DropdownModel",
      "state": {
       "_model_module_version": "1.2.0",
       "_options_labels": [
        " ",
        "picking",
        "random",
        "uniform",
        "atomindex",
        "residueindex",
        "chainindex",
        "modelindex",
        "sstruc",
        "element",
        "resname",
        "bfactor",
        "hydrophobicity",
        "value",
        "volume",
        "occupancy"
       ],
       "_view_module_version": "1.2.0",
       "description": "Color scheme",
       "index": 9,
       "layout": "IPY_MODEL_9e5f118bf6c84d37a547f372110cbc3c",
       "style": "IPY_MODEL_4d6252b862dd4916aefd08dc3a8b41dd"
      }
     },
     "2548eed7b0aa4df8892066800ca59a46": {
      "model_module": "@jupyter-widgets/base",
      "model_module_version": "1.0.0",
      "model_name": "LayoutModel",
      "state": {}
     },
     "28baf903a3f54b8cb2a5a4909666f4ea": {
      "model_module": "nglview-js-widgets",
      "model_module_version": "1.1.7",
      "model_name": "NGLModel",
      "state": {
       "_camera_orientation": [
        11.962750814154791,
        -4.7544630793863,
        -5.602879233832506,
        0,
        -0.17643027716540552,
        10.515766248169628,
        -9.300113681825396,
        0,
        7.346158672357837,
        7.994893555534623,
        8.900573673642196,
        0,
        0,
        -2.8989999294281006,
        -6,
        1
       ],
       "_camera_str": "orthographic",
       "_image_data": "",
       "_model_module_version": "1.1.7",
       "_n_dragged_files": 0,
       "_ngl_coordinate_resource": {},
       "_ngl_full_stage_parameters": {
        "ambientColor": 14540253,
        "ambientIntensity": 0.2,
        "backgroundColor": "white",
        "cameraEyeSep": 0.3,
        "cameraFov": 40,
        "cameraType": "orthographic",
        "clipDist": 0,
        "clipFar": 100,
        "clipNear": 0,
        "fogFar": 100,
        "fogNear": 50,
        "hoverTimeout": 0,
        "impostor": true,
        "lightColor": 14540253,
        "lightIntensity": 1,
        "mousePreset": "default",
        "panSpeed": 1,
        "quality": "medium",
        "rotateSpeed": 2,
        "sampleLevel": 0,
        "tooltip": true,
        "workerDefault": true,
        "zoomSpeed": 1.2
       },
       "_ngl_full_stage_parameters_embed": {},
       "_ngl_msg_archive": [],
       "_ngl_original_stage_parameters": {
        "ambientColor": 14540253,
        "ambientIntensity": 0.2,
        "backgroundColor": "white",
        "cameraEyeSep": 0.3,
        "cameraFov": 40,
        "cameraType": "perspective",
        "clipDist": 10,
        "clipFar": 100,
        "clipNear": 0,
        "fogFar": 100,
        "fogNear": 50,
        "hoverTimeout": 0,
        "impostor": true,
        "lightColor": 14540253,
        "lightIntensity": 1,
        "mousePreset": "default",
        "panSpeed": 1,
        "quality": "medium",
        "rotateSpeed": 2,
        "sampleLevel": 0,
        "tooltip": true,
        "workerDefault": true,
        "zoomSpeed": 1.2
       },
       "_ngl_repr_dict": {
        "0": {
         "0": {
          "params": {
           "clipCenter": {
            "x": 0,
            "y": 0,
            "z": 0
           },
           "clipNear": 0,
           "clipRadius": 0,
           "colorMode": "hcl",
           "colorReverse": false,
           "colorScale": "",
           "colorScheme": "element",
           "colorValue": "orange",
           "defaultAssembly": "",
           "depthWrite": true,
           "diffuse": 16777215,
           "diffuseInterior": false,
           "disableImpostor": false,
           "disablePicking": false,
           "flatShaded": false,
           "interiorColor": 2236962,
           "interiorDarkening": 0,
           "lazy": false,
           "matrix": {
            "elements": [
             1,
             0,
             0,
             0,
             0,
             1,
             0,
             0,
             0,
             0,
             1,
             0,
             0,
             0,
             0,
             1
            ]
           },
           "metalness": 0,
           "opacity": 1,
           "quality": "medium",
           "radialSegments": 10,
           "radiusData": {},
           "radiusScale": 1,
           "radiusSize": 0.04785664188797733,
           "radiusType": "vdw",
           "roughness": 0.4,
           "sele": "all",
           "side": "double",
           "sphereDetail": 1,
           "useInteriorColor": true,
           "visible": true,
           "wireframe": false
          },
          "type": "unitcell"
         },
         "1": {
          "params": {
           "assembly": "default",
           "clipCenter": {
            "x": 0,
            "y": 0,
            "z": 0
           },
           "clipNear": 0,
           "clipRadius": 0,
           "colorMode": "hcl",
           "colorReverse": false,
           "colorScale": "rainbow",
           "colorScheme": "element",
           "colorValue": 9474192,
           "defaultAssembly": "",
           "depthWrite": true,
           "diffuse": 16777215,
           "diffuseInterior": false,
           "disableImpostor": false,
           "disablePicking": false,
           "flatShaded": false,
           "interiorColor": 2236962,
           "interiorDarkening": 0,
           "lazy": false,
           "matrix": {
            "elements": [
             1,
             0,
             0,
             0,
             0,
             1,
             0,
             0,
             0,
             0,
             1,
             0,
             0,
             0,
             0,
             1
            ]
           },
           "metalness": 0,
           "opacity": 1,
           "quality": "medium",
           "radiusData": {},
           "radiusScale": 1,
           "radiusSize": 1,
           "radiusType": "covalent",
           "roughness": 0.4,
           "sele": "all",
           "side": "double",
           "sphereDetail": 1,
           "useInteriorColor": true,
           "visible": true,
           "wireframe": false
          },
          "type": "spacefill"
         }
        }
       },
       "_ngl_serialize": false,
       "_ngl_version": "2.0.0-dev.33",
       "_scene_position": {},
       "_scene_rotation": {},
       "_view_module_version": "1.1.7",
       "background": "white",
       "count": 1,
       "frame": 0,
       "layout": "IPY_MODEL_9460e304e30041db84ce70f2e652a40b",
       "n_components": 1,
       "picked": {
        "atom": {
         "altloc": "",
         "atomname": "NI",
         "bfactor": 0,
         "chainname": "A",
         "covalent": 1.24,
         "element": "NI",
         "hetero": 0,
         "index": 2,
         "modelIndex": 0,
         "residueIndex": 0,
         "resname": "MOL",
         "resno": 1,
         "serial": 2,
         "vdw": 2,
         "x": 0,
         "y": 2.8989999294281006,
         "z": 6
        }
       }
      }
     },
     "29202402a1dc4456a8921e73ed3d15d0": {
      "model_module": "@jupyter-widgets/controls",
      "model_module_version": "1.2.0",
      "model_name": "DropdownModel",
      "state": {
       "_model_module_version": "1.2.0",
       "_options_labels": [
        " ",
        "picking",
        "random",
        "uniform",
        "atomindex",
        "residueindex",
        "chainindex",
        "modelindex",
        "sstruc",
        "element",
        "resname",
        "bfactor",
        "hydrophobicity",
        "value",
        "volume",
        "occupancy"
       ],
       "_view_module_version": "1.2.0",
       "description": "Color scheme",
       "index": 9,
       "layout": "IPY_MODEL_480e33e255d94ecaa2318db2ac2eafc8",
       "style": "IPY_MODEL_7321c49d457341e3b9ec4420f6f758ec"
      }
     },
     "2a29881e6dc64f468372c861924dacaf": {
      "model_module": "@jupyter-widgets/base",
      "model_module_version": "1.0.0",
      "model_name": "LayoutModel",
      "state": {}
     },
     "2ab55c4b35c64c95b4e9519985638b8d": {
      "model_module": "@jupyter-widgets/controls",
      "model_module_version": "1.2.0",
      "model_name": "VBoxModel",
      "state": {
       "_model_module_version": "1.2.0",
       "_view_module_version": "1.2.0",
       "children": [
        "IPY_MODEL_3e80c7cf68da4ef3bb8b5221f90e68f4",
        "IPY_MODEL_152f3057e0aa46d2ab478fadf95698dc",
        "IPY_MODEL_4f6b0c748f56448bbbb536909e43128d"
       ],
       "layout": "IPY_MODEL_de323286397c4055b00d01b94524dd6e"
      }
     },
     "2e70c6cc3071430aa260116a7a1c5889": {
      "model_module": "@jupyter-widgets/base",
      "model_module_version": "1.0.0",
      "model_name": "LayoutModel",
      "state": {}
     },
     "2f983a58e98f49edb4b55b83352710de": {
      "model_module": "@jupyter-widgets/controls",
      "model_module_version": "1.2.0",
      "model_name": "HBoxModel",
      "state": {
       "_model_module_version": "1.2.0",
       "_view_module_version": "1.2.0",
       "children": [
        "IPY_MODEL_e01165a20dd94328a83e058b73b56aaf",
        "IPY_MODEL_2ab55c4b35c64c95b4e9519985638b8d"
       ],
       "layout": "IPY_MODEL_06caec5a5d6e4e08bd783340fa38de50"
      }
     },
     "363b874eea8a4999a5cfd03a33ac69e5": {
      "model_module": "@jupyter-widgets/controls",
      "model_module_version": "1.2.0",
      "model_name": "VBoxModel",
      "state": {
       "_model_module_version": "1.2.0",
       "_view_module_version": "1.2.0",
       "children": [
        "IPY_MODEL_f1cf7fc655c94b98baf314e0399cb0aa",
        "IPY_MODEL_2048eeb2be8a4153b072407233698a88",
        "IPY_MODEL_cb85ce9efbb54ecfb4cf13e47e21f393"
       ],
       "layout": "IPY_MODEL_ff1691fd1d204aa394679b1de511e1d0"
      }
     },
     "364799da078e474c90b9482fef4edf62": {
      "model_module": "@jupyter-widgets/controls",
      "model_module_version": "1.2.0",
      "model_name": "DescriptionStyleModel",
      "state": {
       "_model_module_version": "1.2.0",
       "description_width": ""
      }
     },
     "37427365585949e6ba018a99418d6e5c": {
      "model_module": "@jupyter-widgets/controls",
      "model_module_version": "1.2.0",
      "model_name": "DescriptionStyleModel",
      "state": {
       "_model_module_version": "1.2.0",
       "description_width": ""
      }
     },
     "399742a7fd844f429c33c9068f3222be": {
      "model_module": "@jupyter-widgets/controls",
      "model_module_version": "1.2.0",
      "model_name": "HBoxModel",
      "state": {
       "_model_module_version": "1.2.0",
       "_view_module_version": "1.2.0",
       "children": [
        "IPY_MODEL_87fd20d6a7344e31a112941561a5dddd",
        "IPY_MODEL_fc80c43a1e72430490db3ff7dc216a3b"
       ],
       "layout": "IPY_MODEL_b495389f3f1749af9015f6057918cd4d"
      }
     },
     "3aea56275d274e7bbe3ecb2f3668b442": {
      "model_module": "@jupyter-widgets/controls",
      "model_module_version": "1.2.0",
      "model_name": "VBoxModel",
      "state": {
       "_model_module_version": "1.2.0",
       "_view_module_version": "1.2.0",
       "children": [
        "IPY_MODEL_c03cad95b7344b9ebeb1d08ade9d9675",
        "IPY_MODEL_a72dc42f34244cf3b6f7a70580e864e9",
        "IPY_MODEL_128a1bd406a1420da22f4090869a6828"
       ],
       "layout": "IPY_MODEL_b95fe2c3f2f941f9a9adbcd0d8b27e69"
      }
     },
     "3e80c7cf68da4ef3bb8b5221f90e68f4": {
      "model_module": "@jupyter-widgets/controls",
      "model_module_version": "1.2.0",
      "model_name": "DropdownModel",
      "state": {
       "_model_module_version": "1.2.0",
       "_options_labels": [
        "All",
        "O",
        "H"
       ],
       "_view_module_version": "1.2.0",
       "description": "Show",
       "index": 0,
       "layout": "IPY_MODEL_5f2b8573a99848adbd5052e5f6bfdc00",
       "style": "IPY_MODEL_83e3d5fa5bdc40c7837020545149bf62"
      }
     },
     "3fbcb2d74f6a4138a40b1f71f2d66f37": {
      "model_module": "nglview-js-widgets",
      "model_module_version": "1.1.7",
      "model_name": "NGLModel",
      "state": {
       "_camera_orientation": [
        9.520093172178576,
        0,
        0,
        0,
        0,
        9.520093172178576,
        0,
        0,
        0,
        0,
        9.520093172178576,
        0,
        -1.8825000524520874,
        -1.0870000123977661,
        0,
        1
       ],
       "_camera_str": "orthographic",
       "_image_data": "",
       "_model_module_version": "1.1.7",
       "_n_dragged_files": 0,
       "_ngl_coordinate_resource": {},
       "_ngl_full_stage_parameters": {
        "ambientColor": 14540253,
        "ambientIntensity": 0.2,
        "backgroundColor": "white",
        "cameraEyeSep": 0.3,
        "cameraFov": 40,
        "cameraType": "orthographic",
        "clipDist": 0,
        "clipFar": 100,
        "clipNear": 0,
        "fogFar": 100,
        "fogNear": 50,
        "hoverTimeout": 0,
        "impostor": true,
        "lightColor": 14540253,
        "lightIntensity": 1,
        "mousePreset": "default",
        "panSpeed": 1,
        "quality": "medium",
        "rotateSpeed": 2,
        "sampleLevel": 0,
        "tooltip": true,
        "workerDefault": true,
        "zoomSpeed": 1.2
       },
       "_ngl_full_stage_parameters_embed": {},
       "_ngl_msg_archive": [],
       "_ngl_original_stage_parameters": {
        "ambientColor": 14540253,
        "ambientIntensity": 0.2,
        "backgroundColor": "white",
        "cameraEyeSep": 0.3,
        "cameraFov": 40,
        "cameraType": "perspective",
        "clipDist": 10,
        "clipFar": 100,
        "clipNear": 0,
        "fogFar": 100,
        "fogNear": 50,
        "hoverTimeout": 0,
        "impostor": true,
        "lightColor": 14540253,
        "lightIntensity": 1,
        "mousePreset": "default",
        "panSpeed": 1,
        "quality": "medium",
        "rotateSpeed": 2,
        "sampleLevel": 0,
        "tooltip": true,
        "workerDefault": true,
        "zoomSpeed": 1.2
       },
       "_ngl_repr_dict": {
        "0": {
         "0": {
          "params": {
           "clipCenter": {
            "x": 0,
            "y": 0,
            "z": 0
           },
           "clipNear": 0,
           "clipRadius": 0,
           "colorMode": "hcl",
           "colorReverse": false,
           "colorScale": "",
           "colorScheme": "element",
           "colorValue": "orange",
           "defaultAssembly": "",
           "depthWrite": true,
           "diffuse": 16777215,
           "diffuseInterior": false,
           "disableImpostor": false,
           "disablePicking": false,
           "flatShaded": false,
           "interiorColor": 2236962,
           "interiorDarkening": 0,
           "lazy": false,
           "matrix": {
            "elements": [
             1,
             0,
             0,
             0,
             0,
             1,
             0,
             0,
             0,
             0,
             1,
             0,
             0,
             0,
             0,
             1
            ]
           },
           "metalness": 0,
           "opacity": 1,
           "quality": "medium",
           "radialSegments": 10,
           "radiusData": {},
           "radiusScale": 1,
           "radiusSize": 0.5,
           "radiusType": "vdw",
           "roughness": 0.4,
           "sele": "all",
           "side": "double",
           "sphereDetail": 1,
           "useInteriorColor": true,
           "visible": true,
           "wireframe": false
          },
          "type": "unitcell"
         },
         "1": {
          "params": {
           "assembly": "default",
           "clipCenter": {
            "x": 0,
            "y": 0,
            "z": 0
           },
           "clipNear": 0,
           "clipRadius": 0,
           "colorMode": "hcl",
           "colorReverse": false,
           "colorScale": "rainbow",
           "colorScheme": "element",
           "colorValue": 9474192,
           "defaultAssembly": "",
           "depthWrite": true,
           "diffuse": 16777215,
           "diffuseInterior": false,
           "disableImpostor": false,
           "disablePicking": false,
           "flatShaded": false,
           "interiorColor": 2236962,
           "interiorDarkening": 0,
           "lazy": false,
           "matrix": {
            "elements": [
             1,
             0,
             0,
             0,
             0,
             1,
             0,
             0,
             0,
             0,
             1,
             0,
             0,
             0,
             0,
             1
            ]
           },
           "metalness": 0,
           "opacity": 1,
           "quality": "medium",
           "radiusData": {},
           "radiusScale": 1,
           "radiusSize": 1,
           "radiusType": "covalent",
           "roughness": 0.4,
           "sele": "all",
           "side": "double",
           "sphereDetail": 1,
           "useInteriorColor": true,
           "visible": true,
           "wireframe": false
          },
          "type": "spacefill"
         }
        }
       },
       "_ngl_serialize": false,
       "_ngl_version": "2.0.0-dev.33",
       "_scene_position": {},
       "_scene_rotation": {},
       "_view_module_version": "1.1.7",
       "background": "white",
       "count": 1,
       "frame": 0,
       "layout": "IPY_MODEL_99974bdfaf034980b196f468f5325b87",
       "n_components": 1,
       "picked": {}
      }
     },
     "403fa56429df486596316c60c58056a6": {
      "model_module": "@jupyter-widgets/base",
      "model_module_version": "1.0.0",
      "model_name": "LayoutModel",
      "state": {}
     },
     "4610492fd32d443daff985b55d41c69c": {
      "model_module": "@jupyter-widgets/controls",
      "model_module_version": "1.2.0",
      "model_name": "HBoxModel",
      "state": {
       "_model_module_version": "1.2.0",
       "_view_module_version": "1.2.0",
       "children": [
        "IPY_MODEL_bfec823d0b984204abe8a4a35a7ffc68",
        "IPY_MODEL_363b874eea8a4999a5cfd03a33ac69e5"
       ],
       "layout": "IPY_MODEL_2e70c6cc3071430aa260116a7a1c5889"
      }
     },
     "480e33e255d94ecaa2318db2ac2eafc8": {
      "model_module": "@jupyter-widgets/base",
      "model_module_version": "1.0.0",
      "model_name": "LayoutModel",
      "state": {}
     },
     "4d6252b862dd4916aefd08dc3a8b41dd": {
      "model_module": "@jupyter-widgets/controls",
      "model_module_version": "1.2.0",
      "model_name": "DescriptionStyleModel",
      "state": {
       "_model_module_version": "1.2.0",
       "description_width": ""
      }
     },
     "4e458247326f4472b7f72d7eb0605d2d": {
      "model_module": "@jupyter-widgets/controls",
      "model_module_version": "1.2.0",
      "model_name": "DescriptionStyleModel",
      "state": {
       "_model_module_version": "1.2.0",
       "description_width": ""
      }
     },
     "4e45b771edad40f8ac7f05d72108bcdc": {
      "model_module": "@jupyter-widgets/controls",
      "model_module_version": "1.2.0",
      "model_name": "DropdownModel",
      "state": {
       "_model_module_version": "1.2.0",
       "_options_labels": [
        "All",
        "O",
        "H"
       ],
       "_view_module_version": "1.2.0",
       "description": "Show",
       "index": 0,
       "layout": "IPY_MODEL_0e35581bd1b7486b96a14cc2728fe616",
       "style": "IPY_MODEL_f47efb0523a34e3b83f9245cdd404a31"
      }
     },
     "4f02138227bd4efeab36040df3a2f7a5": {
      "model_module": "@jupyter-widgets/base",
      "model_module_version": "1.0.0",
      "model_name": "LayoutModel",
      "state": {}
     },
     "4f6b0c748f56448bbbb536909e43128d": {
      "model_module": "@jupyter-widgets/controls",
      "model_module_version": "1.2.0",
      "model_name": "FloatSliderModel",
      "state": {
       "_model_module_version": "1.2.0",
       "_view_module_version": "1.2.0",
       "description": "Ball size",
       "layout": "IPY_MODEL_c49fc9c225bd419e9557da52bf4b7ff5",
       "max": 1.5,
       "step": 0.01,
       "style": "IPY_MODEL_854efd708a344caaab9621582e8d8ad7",
       "value": 0.8
      }
     },
     "4fb9aa6208f74d968460a83a90e6afec": {
      "model_module": "@jupyter-widgets/base",
      "model_module_version": "1.0.0",
      "model_name": "LayoutModel",
      "state": {}
     },
     "51ccefef48d541ec84369c3defa042e3": {
      "model_module": "@jupyter-widgets/base",
      "model_module_version": "1.0.0",
      "model_name": "LayoutModel",
      "state": {}
     },
     "58298f73112740eb92c578c562e25cd5": {
      "model_module": "@jupyter-widgets/controls",
      "model_module_version": "1.2.0",
      "model_name": "DescriptionStyleModel",
      "state": {
       "_model_module_version": "1.2.0",
       "description_width": ""
      }
     },
     "5d7f23e3c45a40c6bb2299f266f89ee3": {
      "model_module": "@jupyter-widgets/base",
      "model_module_version": "1.0.0",
      "model_name": "LayoutModel",
      "state": {}
     },
     "5f2b8573a99848adbd5052e5f6bfdc00": {
      "model_module": "@jupyter-widgets/base",
      "model_module_version": "1.0.0",
      "model_name": "LayoutModel",
      "state": {}
     },
     "5f8ef885169643eeaf0c39be259581d3": {
      "model_module": "@jupyter-widgets/controls",
      "model_module_version": "1.2.0",
      "model_name": "ImageModel",
      "state": {
       "_model_module_version": "1.2.0",
       "_view_module_version": "1.2.0",
       "layout": "IPY_MODEL_c5fb21270cf84d0eb8fda92a3e8b09ee",
       "value": {},
       "width": "900.0"
      }
     },
     "5fdf0314f67d4db4b922f7a1c27759d9": {
      "model_module": "@jupyter-widgets/controls",
      "model_module_version": "1.2.0",
      "model_name": "VBoxModel",
      "state": {
       "_model_module_version": "1.2.0",
       "_view_module_version": "1.2.0",
       "children": [
        "IPY_MODEL_7340c5009c594ec4a950bf41f16707ae",
        "IPY_MODEL_b89f1d7dcf5c45b098ebed30263f7b8e",
        "IPY_MODEL_8c222960efbf4fc4adde118719da7896"
       ],
       "layout": "IPY_MODEL_dd66b37ca8cd40b6b7152bfa16bd5151"
      }
     },
     "62acc2955a224ff181e2359ea5b080fb": {
      "model_module": "@jupyter-widgets/base",
      "model_module_version": "1.0.0",
      "model_name": "LayoutModel",
      "state": {}
     },
     "6512f530769c4075a82fb155653070d1": {
      "model_module": "@jupyter-widgets/base",
      "model_module_version": "1.0.0",
      "model_name": "LayoutModel",
      "state": {}
     },
     "652dc4d4aa56421da3f3156500cc1a74": {
      "model_module": "@jupyter-widgets/base",
      "model_module_version": "1.0.0",
      "model_name": "LayoutModel",
      "state": {}
     },
     "67af42c19dd44fb79dea5892bcacea28": {
      "model_module": "@jupyter-widgets/controls",
      "model_module_version": "1.2.0",
      "model_name": "HBoxModel",
      "state": {
       "_model_module_version": "1.2.0",
       "_view_module_version": "1.2.0",
       "children": [
        "IPY_MODEL_28baf903a3f54b8cb2a5a4909666f4ea",
        "IPY_MODEL_ddb851ca0427478a8a6a770cc719a846"
       ],
       "layout": "IPY_MODEL_ab232aeb8cc84a1d93fb72fac23b21fa"
      }
     },
     "695da6e28c49456e9e82261b7a1c701d": {
      "model_module": "@jupyter-widgets/controls",
      "model_module_version": "1.2.0",
      "model_name": "HBoxModel",
      "state": {
       "_model_module_version": "1.2.0",
       "_view_module_version": "1.2.0",
       "children": [
        "IPY_MODEL_3fbcb2d74f6a4138a40b1f71f2d66f37",
        "IPY_MODEL_5fdf0314f67d4db4b922f7a1c27759d9"
       ],
       "layout": "IPY_MODEL_2548eed7b0aa4df8892066800ca59a46"
      }
     },
     "6b6e819ca2e345718a89a09cf0c7ddc8": {
      "model_module": "@jupyter-widgets/controls",
      "model_module_version": "1.2.0",
      "model_name": "FloatSliderModel",
      "state": {
       "_model_module_version": "1.2.0",
       "_view_module_version": "1.2.0",
       "description": "Ball size",
       "layout": "IPY_MODEL_beae847feca743e5bcb2f95eaff4e24e",
       "max": 1.5,
       "step": 0.01,
       "style": "IPY_MODEL_6e09691d0a5044a6a14746b1f803c5d6",
       "value": 0.8
      }
     },
     "6b75fc9e314b4f98b76fa74d7e6b2613": {
      "model_module": "@jupyter-widgets/base",
      "model_module_version": "1.0.0",
      "model_name": "LayoutModel",
      "state": {}
     },
     "6e09691d0a5044a6a14746b1f803c5d6": {
      "model_module": "@jupyter-widgets/controls",
      "model_module_version": "1.2.0",
      "model_name": "SliderStyleModel",
      "state": {
       "_model_module_version": "1.2.0",
       "description_width": ""
      }
     },
     "6eca7a42ba0b46b3b7b026d70415c969": {
      "model_module": "@jupyter-widgets/controls",
      "model_module_version": "1.2.0",
      "model_name": "SliderStyleModel",
      "state": {
       "_model_module_version": "1.2.0",
       "description_width": ""
      }
     },
     "6fce7ede0aea4340af9397900e54bec7": {
      "model_module": "@jupyter-widgets/controls",
      "model_module_version": "1.2.0",
      "model_name": "SliderStyleModel",
      "state": {
       "_model_module_version": "1.2.0",
       "description_width": ""
      }
     },
     "7321c49d457341e3b9ec4420f6f758ec": {
      "model_module": "@jupyter-widgets/controls",
      "model_module_version": "1.2.0",
      "model_name": "DescriptionStyleModel",
      "state": {
       "_model_module_version": "1.2.0",
       "description_width": ""
      }
     },
     "7340c5009c594ec4a950bf41f16707ae": {
      "model_module": "@jupyter-widgets/controls",
      "model_module_version": "1.2.0",
      "model_name": "DropdownModel",
      "state": {
       "_model_module_version": "1.2.0",
       "_options_labels": [
        "All",
        "Ni"
       ],
       "_view_module_version": "1.2.0",
       "description": "Show",
       "index": 0,
       "layout": "IPY_MODEL_51ccefef48d541ec84369c3defa042e3",
       "style": "IPY_MODEL_11e3b773b2c046e988a40b230d38bb49"
      }
     },
     "7af66766c1d048b2b4a80e5cf987d6e0": {
      "model_module": "@jupyter-widgets/controls",
      "model_module_version": "1.2.0",
      "model_name": "ImageModel",
      "state": {
       "_model_module_version": "1.2.0",
       "_view_module_version": "1.2.0",
       "layout": "IPY_MODEL_de1384925c0a4a55a9e9f595c547eb7f",
       "value": {},
       "width": "900.0"
      }
     },
     "83e3d5fa5bdc40c7837020545149bf62": {
      "model_module": "@jupyter-widgets/controls",
      "model_module_version": "1.2.0",
      "model_name": "DescriptionStyleModel",
      "state": {
       "_model_module_version": "1.2.0",
       "description_width": ""
      }
     },
     "854efd708a344caaab9621582e8d8ad7": {
      "model_module": "@jupyter-widgets/controls",
      "model_module_version": "1.2.0",
      "model_name": "SliderStyleModel",
      "state": {
       "_model_module_version": "1.2.0",
       "description_width": ""
      }
     },
     "87d15133596146ceb9d65f642d06a703": {
      "model_module": "@jupyter-widgets/base",
      "model_module_version": "1.0.0",
      "model_name": "LayoutModel",
      "state": {}
     },
     "87fd20d6a7344e31a112941561a5dddd": {
      "model_module": "nglview-js-widgets",
      "model_module_version": "1.1.7",
      "model_name": "NGLModel",
      "state": {
       "_camera_orientation": [
        15.994595009423982,
        0,
        0,
        0,
        0,
        15.994595009423982,
        0,
        0,
        0,
        0,
        15.994595009423982,
        0,
        1.1375000476837158,
        -3.8320000767707825,
        -13.42199993133545,
        1
       ],
       "_camera_str": "orthographic",
       "_image_data": "",
       "_model_module_version": "1.1.7",
       "_n_dragged_files": 0,
       "_ngl_coordinate_resource": {},
       "_ngl_full_stage_parameters": {
        "ambientColor": 14540253,
        "ambientIntensity": 0.2,
        "backgroundColor": "white",
        "cameraEyeSep": 0.3,
        "cameraFov": 40,
        "cameraType": "orthographic",
        "clipDist": 0,
        "clipFar": 100,
        "clipNear": 0,
        "fogFar": 100,
        "fogNear": 50,
        "hoverTimeout": 0,
        "impostor": true,
        "lightColor": 14540253,
        "lightIntensity": 1,
        "mousePreset": "default",
        "panSpeed": 1,
        "quality": "medium",
        "rotateSpeed": 2,
        "sampleLevel": 0,
        "tooltip": true,
        "workerDefault": true,
        "zoomSpeed": 1.2
       },
       "_ngl_full_stage_parameters_embed": {},
       "_ngl_msg_archive": [],
       "_ngl_original_stage_parameters": {
        "ambientColor": 14540253,
        "ambientIntensity": 0.2,
        "backgroundColor": "white",
        "cameraEyeSep": 0.3,
        "cameraFov": 40,
        "cameraType": "perspective",
        "clipDist": 10,
        "clipFar": 100,
        "clipNear": 0,
        "fogFar": 100,
        "fogNear": 50,
        "hoverTimeout": 0,
        "impostor": true,
        "lightColor": 14540253,
        "lightIntensity": 1,
        "mousePreset": "default",
        "panSpeed": 1,
        "quality": "medium",
        "rotateSpeed": 2,
        "sampleLevel": 0,
        "tooltip": true,
        "workerDefault": true,
        "zoomSpeed": 1.2
       },
       "_ngl_repr_dict": {
        "0": {
         "0": {
          "params": {
           "clipCenter": {
            "x": 0,
            "y": 0,
            "z": 0
           },
           "clipNear": 0,
           "clipRadius": 0,
           "colorMode": "hcl",
           "colorReverse": false,
           "colorScale": "",
           "colorScheme": "element",
           "colorValue": "orange",
           "defaultAssembly": "",
           "depthWrite": true,
           "diffuse": 16777215,
           "diffuseInterior": false,
           "disableImpostor": false,
           "disablePicking": false,
           "flatShaded": false,
           "interiorColor": 2236962,
           "interiorDarkening": 0,
           "lazy": false,
           "matrix": {
            "elements": [
             1,
             0,
             0,
             0,
             0,
             1,
             0,
             0,
             0,
             0,
             1,
             0,
             0,
             0,
             0,
             1
            ]
           },
           "metalness": 0,
           "opacity": 1,
           "quality": "medium",
           "radialSegments": 10,
           "radiusData": {},
           "radiusScale": 1,
           "radiusSize": 0.051938155176290426,
           "radiusType": "vdw",
           "roughness": 0.4,
           "sele": "all",
           "side": "double",
           "sphereDetail": 1,
           "useInteriorColor": true,
           "visible": true,
           "wireframe": false
          },
          "type": "unitcell"
         },
         "1": {
          "params": {
           "assembly": "default",
           "clipCenter": {
            "x": 0,
            "y": 0,
            "z": 0
           },
           "clipNear": 0,
           "clipRadius": 0,
           "colorMode": "hcl",
           "colorReverse": false,
           "colorScale": "rainbow",
           "colorScheme": "element",
           "colorValue": 9474192,
           "defaultAssembly": "",
           "depthWrite": true,
           "diffuse": 16777215,
           "diffuseInterior": false,
           "disableImpostor": false,
           "disablePicking": false,
           "flatShaded": false,
           "interiorColor": 2236962,
           "interiorDarkening": 0,
           "lazy": false,
           "matrix": {
            "elements": [
             1,
             0,
             0,
             0,
             0,
             1,
             0,
             0,
             0,
             0,
             1,
             0,
             0,
             0,
             0,
             1
            ]
           },
           "metalness": 0,
           "opacity": 1,
           "quality": "medium",
           "radiusData": {},
           "radiusScale": 1,
           "radiusSize": 1,
           "radiusType": "covalent",
           "roughness": 0.4,
           "sele": "all",
           "side": "double",
           "sphereDetail": 1,
           "useInteriorColor": true,
           "visible": true,
           "wireframe": false
          },
          "type": "spacefill"
         }
        }
       },
       "_ngl_serialize": false,
       "_ngl_version": "2.0.0-dev.33",
       "_scene_position": {},
       "_scene_rotation": {},
       "_view_module_version": "1.1.7",
       "background": "white",
       "count": 1,
       "frame": 0,
       "layout": "IPY_MODEL_8e432a6cee1144ee9597c0269f6d0858",
       "n_components": 1,
       "picked": {}
      }
     },
     "8c222960efbf4fc4adde118719da7896": {
      "model_module": "@jupyter-widgets/controls",
      "model_module_version": "1.2.0",
      "model_name": "FloatSliderModel",
      "state": {
       "_model_module_version": "1.2.0",
       "_view_module_version": "1.2.0",
       "description": "Ball size",
       "layout": "IPY_MODEL_b4d7c547d9194c489efeb1ae0feab374",
       "max": 1.5,
       "step": 0.01,
       "style": "IPY_MODEL_ed62818a612545f0a93faaac2453fc19",
       "value": 0.8
      }
     },
     "8cf66a157b514680b88114c46754b49f": {
      "model_module": "@jupyter-widgets/controls",
      "model_module_version": "1.2.0",
      "model_name": "HBoxModel",
      "state": {
       "_model_module_version": "1.2.0",
       "_view_module_version": "1.2.0",
       "children": [
        "IPY_MODEL_b061f2e650d147418f1c8b5505f39736",
        "IPY_MODEL_3aea56275d274e7bbe3ecb2f3668b442"
       ],
       "layout": "IPY_MODEL_ba35bcb90f934cd1a6ae962b55aaecb9"
      }
     },
     "8d844b67ebd840b1b057553c7493fa1b": {
      "model_module": "@jupyter-widgets/base",
      "model_module_version": "1.0.0",
      "model_name": "LayoutModel",
      "state": {}
     },
     "8e432a6cee1144ee9597c0269f6d0858": {
      "model_module": "@jupyter-widgets/base",
      "model_module_version": "1.0.0",
      "model_name": "LayoutModel",
      "state": {}
     },
     "914cdb72ae3d4eac90046d43964c9d85": {
      "model_module": "@jupyter-widgets/base",
      "model_module_version": "1.0.0",
      "model_name": "LayoutModel",
      "state": {}
     },
     "9460e304e30041db84ce70f2e652a40b": {
      "model_module": "@jupyter-widgets/base",
      "model_module_version": "1.0.0",
      "model_name": "LayoutModel",
      "state": {}
     },
     "967828d66a974a35bc39c8b99e0dab26": {
      "model_module": "@jupyter-widgets/controls",
      "model_module_version": "1.2.0",
      "model_name": "ImageModel",
      "state": {
       "_model_module_version": "1.2.0",
       "_view_module_version": "1.2.0",
       "layout": "IPY_MODEL_e6ba32ee414a44dc8723cf18d6ecb74c",
       "value": {},
       "width": "900.0"
      }
     },
     "99974bdfaf034980b196f468f5325b87": {
      "model_module": "@jupyter-widgets/base",
      "model_module_version": "1.0.0",
      "model_name": "LayoutModel",
      "state": {}
     },
     "9ca17d341abe4cc2b759ec955b059372": {
      "model_module": "@jupyter-widgets/base",
      "model_module_version": "1.0.0",
      "model_name": "LayoutModel",
      "state": {}
     },
     "9e5f118bf6c84d37a547f372110cbc3c": {
      "model_module": "@jupyter-widgets/base",
      "model_module_version": "1.0.0",
      "model_name": "LayoutModel",
      "state": {}
     },
     "9f5a4cb736a6499ba84c9c6ace29d4e2": {
      "model_module": "@jupyter-widgets/base",
      "model_module_version": "1.0.0",
      "model_name": "LayoutModel",
      "state": {}
     },
     "9ff3f01debd04f64b2234e073866a152": {
      "model_module": "@jupyter-widgets/base",
      "model_module_version": "1.0.0",
      "model_name": "LayoutModel",
      "state": {}
     },
     "a1863aa2ad9345b69e467f39b9175ccd": {
      "model_module": "@jupyter-widgets/controls",
      "model_module_version": "1.2.0",
      "model_name": "HBoxModel",
      "state": {
       "_model_module_version": "1.2.0",
       "_view_module_version": "1.2.0",
       "children": [
        "IPY_MODEL_c68aeb707f404183ae96ea3e08c9e533",
        "IPY_MODEL_189ab70cd9d7489f9e28e1a852b296c9"
       ],
       "layout": "IPY_MODEL_6b75fc9e314b4f98b76fa74d7e6b2613"
      }
     },
     "a579d653b3e24e6fa0556ef8c61f0c29": {
      "model_module": "@jupyter-widgets/controls",
      "model_module_version": "1.2.0",
      "model_name": "SliderStyleModel",
      "state": {
       "_model_module_version": "1.2.0",
       "description_width": ""
      }
     },
     "a6cdb1af049c4e83aae1ecdd49b7fbc4": {
      "model_module": "@jupyter-widgets/base",
      "model_module_version": "1.0.0",
      "model_name": "LayoutModel",
      "state": {}
     },
     "a72dc42f34244cf3b6f7a70580e864e9": {
      "model_module": "@jupyter-widgets/controls",
      "model_module_version": "1.2.0",
      "model_name": "DropdownModel",
      "state": {
       "_model_module_version": "1.2.0",
       "_options_labels": [
        " ",
        "picking",
        "random",
        "uniform",
        "atomindex",
        "residueindex",
        "chainindex",
        "modelindex",
        "sstruc",
        "element",
        "resname",
        "bfactor",
        "hydrophobicity",
        "value",
        "volume",
        "occupancy"
       ],
       "_view_module_version": "1.2.0",
       "description": "Color scheme",
       "index": 9,
       "layout": "IPY_MODEL_6512f530769c4075a82fb155653070d1",
       "style": "IPY_MODEL_364799da078e474c90b9482fef4edf62"
      }
     },
     "ab232aeb8cc84a1d93fb72fac23b21fa": {
      "model_module": "@jupyter-widgets/base",
      "model_module_version": "1.0.0",
      "model_name": "LayoutModel",
      "state": {}
     },
     "abceaa36d4704b509239dbdbf6e4f305": {
      "model_module": "@jupyter-widgets/controls",
      "model_module_version": "1.2.0",
      "model_name": "SliderStyleModel",
      "state": {
       "_model_module_version": "1.2.0",
       "description_width": ""
      }
     },
     "ac683a14a9a147ff8ae3e3221aa4ff6a": {
      "model_module": "@jupyter-widgets/controls",
      "model_module_version": "1.2.0",
      "model_name": "DescriptionStyleModel",
      "state": {
       "_model_module_version": "1.2.0",
       "description_width": ""
      }
     },
     "ad49776487194669a25f6c32e462dada": {
      "model_module": "@jupyter-widgets/controls",
      "model_module_version": "1.2.0",
      "model_name": "ImageModel",
      "state": {
       "_model_module_version": "1.2.0",
       "_view_module_version": "1.2.0",
       "layout": "IPY_MODEL_5d7f23e3c45a40c6bb2299f266f89ee3",
       "value": {},
       "width": "900.0"
      }
     },
     "adf75500e7304f23825f90a596f93842": {
      "model_module": "@jupyter-widgets/controls",
      "model_module_version": "1.2.0",
      "model_name": "DropdownModel",
      "state": {
       "_model_module_version": "1.2.0",
       "_options_labels": [
        "All",
        "Ni"
       ],
       "_view_module_version": "1.2.0",
       "description": "Show",
       "index": 0,
       "layout": "IPY_MODEL_0c97c4515bb644e5a37dff9df9e7e784",
       "style": "IPY_MODEL_4e458247326f4472b7f72d7eb0605d2d"
      }
     },
     "b061f2e650d147418f1c8b5505f39736": {
      "model_module": "nglview-js-widgets",
      "model_module_version": "1.1.7",
      "model_name": "NGLModel",
      "state": {
       "_camera_orientation": [
        16.09051292739229,
        0,
        0,
        0,
        0,
        16.09051292739229,
        0,
        0,
        0,
        0,
        16.09051292739229,
        0,
        -2.052500069141388,
        -3.8320000767707825,
        -13.42199993133545,
        1
       ],
       "_camera_str": "orthographic",
       "_image_data": "",
       "_model_module_version": "1.1.7",
       "_n_dragged_files": 0,
       "_ngl_coordinate_resource": {},
       "_ngl_full_stage_parameters": {
        "ambientColor": 14540253,
        "ambientIntensity": 0.2,
        "backgroundColor": "white",
        "cameraEyeSep": 0.3,
        "cameraFov": 40,
        "cameraType": "orthographic",
        "clipDist": 0,
        "clipFar": 100,
        "clipNear": 0,
        "fogFar": 100,
        "fogNear": 50,
        "hoverTimeout": 0,
        "impostor": true,
        "lightColor": 14540253,
        "lightIntensity": 1,
        "mousePreset": "default",
        "panSpeed": 1,
        "quality": "medium",
        "rotateSpeed": 2,
        "sampleLevel": 0,
        "tooltip": true,
        "workerDefault": true,
        "zoomSpeed": 1.2
       },
       "_ngl_full_stage_parameters_embed": {},
       "_ngl_msg_archive": [],
       "_ngl_original_stage_parameters": {
        "ambientColor": 14540253,
        "ambientIntensity": 0.2,
        "backgroundColor": "white",
        "cameraEyeSep": 0.3,
        "cameraFov": 40,
        "cameraType": "perspective",
        "clipDist": 10,
        "clipFar": 100,
        "clipNear": 0,
        "fogFar": 100,
        "fogNear": 50,
        "hoverTimeout": 0,
        "impostor": true,
        "lightColor": 14540253,
        "lightIntensity": 1,
        "mousePreset": "default",
        "panSpeed": 1,
        "quality": "medium",
        "rotateSpeed": 2,
        "sampleLevel": 0,
        "tooltip": true,
        "workerDefault": true,
        "zoomSpeed": 1.2
       },
       "_ngl_repr_dict": {
        "0": {
         "0": {
          "params": {
           "clipCenter": {
            "x": 0,
            "y": 0,
            "z": 0
           },
           "clipNear": 0,
           "clipRadius": 0,
           "colorMode": "hcl",
           "colorReverse": false,
           "colorScale": "",
           "colorScheme": "element",
           "colorValue": "orange",
           "defaultAssembly": "",
           "depthWrite": true,
           "diffuse": 16777215,
           "diffuseInterior": false,
           "disableImpostor": false,
           "disablePicking": false,
           "flatShaded": false,
           "interiorColor": 2236962,
           "interiorDarkening": 0,
           "lazy": false,
           "matrix": {
            "elements": [
             1,
             0,
             0,
             0,
             0,
             1,
             0,
             0,
             0,
             0,
             1,
             0,
             0,
             0,
             0,
             1
            ]
           },
           "metalness": 0,
           "opacity": 1,
           "quality": "medium",
           "radialSegments": 10,
           "radiusData": {},
           "radiusScale": 1,
           "radiusSize": 0.051938155176290426,
           "radiusType": "vdw",
           "roughness": 0.4,
           "sele": "all",
           "side": "double",
           "sphereDetail": 1,
           "useInteriorColor": true,
           "visible": true,
           "wireframe": false
          },
          "type": "unitcell"
         },
         "1": {
          "params": {
           "assembly": "default",
           "clipCenter": {
            "x": 0,
            "y": 0,
            "z": 0
           },
           "clipNear": 0,
           "clipRadius": 0,
           "colorMode": "hcl",
           "colorReverse": false,
           "colorScale": "rainbow",
           "colorScheme": "element",
           "colorValue": 9474192,
           "defaultAssembly": "",
           "depthWrite": true,
           "diffuse": 16777215,
           "diffuseInterior": false,
           "disableImpostor": false,
           "disablePicking": false,
           "flatShaded": false,
           "interiorColor": 2236962,
           "interiorDarkening": 0,
           "lazy": false,
           "matrix": {
            "elements": [
             1,
             0,
             0,
             0,
             0,
             1,
             0,
             0,
             0,
             0,
             1,
             0,
             0,
             0,
             0,
             1
            ]
           },
           "metalness": 0,
           "opacity": 1,
           "quality": "medium",
           "radiusData": {},
           "radiusScale": 1,
           "radiusSize": 1,
           "radiusType": "covalent",
           "roughness": 0.4,
           "sele": "all",
           "side": "double",
           "sphereDetail": 1,
           "useInteriorColor": true,
           "visible": true,
           "wireframe": false
          },
          "type": "spacefill"
         }
        }
       },
       "_ngl_serialize": false,
       "_ngl_version": "2.0.0-dev.33",
       "_scene_position": {},
       "_scene_rotation": {},
       "_view_module_version": "1.1.7",
       "background": "white",
       "count": 1,
       "frame": 0,
       "layout": "IPY_MODEL_f45a328eb8b7428ca3d64e9e63cce279",
       "n_components": 1,
       "picked": {}
      }
     },
     "b233a1a392bf416dac14d6ea8ff68db0": {
      "model_module": "@jupyter-widgets/controls",
      "model_module_version": "1.2.0",
      "model_name": "DescriptionStyleModel",
      "state": {
       "_model_module_version": "1.2.0",
       "description_width": ""
      }
     },
     "b36c6aea28124297870c085f3d4fd886": {
      "model_module": "@jupyter-widgets/controls",
      "model_module_version": "1.2.0",
      "model_name": "DescriptionStyleModel",
      "state": {
       "_model_module_version": "1.2.0",
       "description_width": ""
      }
     },
     "b495389f3f1749af9015f6057918cd4d": {
      "model_module": "@jupyter-widgets/base",
      "model_module_version": "1.0.0",
      "model_name": "LayoutModel",
      "state": {}
     },
     "b4d7c547d9194c489efeb1ae0feab374": {
      "model_module": "@jupyter-widgets/base",
      "model_module_version": "1.0.0",
      "model_name": "LayoutModel",
      "state": {}
     },
     "b7b662e0ca3f4291b87a9e35892f4be6": {
      "model_module": "@jupyter-widgets/controls",
      "model_module_version": "1.2.0",
      "model_name": "DropdownModel",
      "state": {
       "_model_module_version": "1.2.0",
       "_options_labels": [
        " ",
        "picking",
        "random",
        "uniform",
        "atomindex",
        "residueindex",
        "chainindex",
        "modelindex",
        "sstruc",
        "element",
        "resname",
        "bfactor",
        "hydrophobicity",
        "value",
        "volume",
        "occupancy"
       ],
       "_view_module_version": "1.2.0",
       "description": "Color scheme",
       "index": 9,
       "layout": "IPY_MODEL_fdcb2c140ee84aacb0a49a0ea46f9c5b",
       "style": "IPY_MODEL_b233a1a392bf416dac14d6ea8ff68db0"
      }
     },
     "b89f1d7dcf5c45b098ebed30263f7b8e": {
      "model_module": "@jupyter-widgets/controls",
      "model_module_version": "1.2.0",
      "model_name": "DropdownModel",
      "state": {
       "_model_module_version": "1.2.0",
       "_options_labels": [
        " ",
        "picking",
        "random",
        "uniform",
        "atomindex",
        "residueindex",
        "chainindex",
        "modelindex",
        "sstruc",
        "element",
        "resname",
        "bfactor",
        "hydrophobicity",
        "value",
        "volume",
        "occupancy"
       ],
       "_view_module_version": "1.2.0",
       "description": "Color scheme",
       "index": 9,
       "layout": "IPY_MODEL_9f5a4cb736a6499ba84c9c6ace29d4e2",
       "style": "IPY_MODEL_b36c6aea28124297870c085f3d4fd886"
      }
     },
     "b95fe2c3f2f941f9a9adbcd0d8b27e69": {
      "model_module": "@jupyter-widgets/base",
      "model_module_version": "1.0.0",
      "model_name": "LayoutModel",
      "state": {}
     },
     "ba35bcb90f934cd1a6ae962b55aaecb9": {
      "model_module": "@jupyter-widgets/base",
      "model_module_version": "1.0.0",
      "model_name": "LayoutModel",
      "state": {}
     },
     "bb45fefffda246ca972982463ff256ff": {
      "model_module": "@jupyter-widgets/base",
      "model_module_version": "1.0.0",
      "model_name": "LayoutModel",
      "state": {}
     },
     "beae847feca743e5bcb2f95eaff4e24e": {
      "model_module": "@jupyter-widgets/base",
      "model_module_version": "1.0.0",
      "model_name": "LayoutModel",
      "state": {}
     },
     "bfec823d0b984204abe8a4a35a7ffc68": {
      "model_module": "nglview-js-widgets",
      "model_module_version": "1.1.7",
      "model_name": "NGLModel",
      "state": {
       "_camera_orientation": [
        16.675164150824024,
        0,
        0,
        0,
        0,
        16.675164150824024,
        0,
        0,
        0,
        0,
        16.675164150824024,
        0,
        -2.064500093460083,
        -3.9855000972747803,
        -10.043000221252441,
        1
       ],
       "_camera_str": "orthographic",
       "_image_data": "",
       "_model_module_version": "1.1.7",
       "_n_dragged_files": 0,
       "_ngl_coordinate_resource": {},
       "_ngl_full_stage_parameters": {
        "ambientColor": 14540253,
        "ambientIntensity": 0.2,
        "backgroundColor": "white",
        "cameraEyeSep": 0.3,
        "cameraFov": 40,
        "cameraType": "orthographic",
        "clipDist": 0,
        "clipFar": 100,
        "clipNear": 0,
        "fogFar": 100,
        "fogNear": 50,
        "hoverTimeout": 0,
        "impostor": true,
        "lightColor": 14540253,
        "lightIntensity": 1,
        "mousePreset": "default",
        "panSpeed": 1,
        "quality": "medium",
        "rotateSpeed": 2,
        "sampleLevel": 0,
        "tooltip": true,
        "workerDefault": true,
        "zoomSpeed": 1.2
       },
       "_ngl_full_stage_parameters_embed": {},
       "_ngl_msg_archive": [],
       "_ngl_original_stage_parameters": {
        "ambientColor": 14540253,
        "ambientIntensity": 0.2,
        "backgroundColor": "white",
        "cameraEyeSep": 0.3,
        "cameraFov": 40,
        "cameraType": "perspective",
        "clipDist": 10,
        "clipFar": 100,
        "clipNear": 0,
        "fogFar": 100,
        "fogNear": 50,
        "hoverTimeout": 0,
        "impostor": true,
        "lightColor": 14540253,
        "lightIntensity": 1,
        "mousePreset": "default",
        "panSpeed": 1,
        "quality": "medium",
        "rotateSpeed": 2,
        "sampleLevel": 0,
        "tooltip": true,
        "workerDefault": true,
        "zoomSpeed": 1.2
       },
       "_ngl_repr_dict": {
        "0": {
         "0": {
          "params": {
           "clipCenter": {
            "x": 0,
            "y": 0,
            "z": 0
           },
           "clipNear": 0,
           "clipRadius": 0,
           "colorMode": "hcl",
           "colorReverse": false,
           "colorScale": "",
           "colorScheme": "element",
           "colorValue": "orange",
           "defaultAssembly": "",
           "depthWrite": true,
           "diffuse": 16777215,
           "diffuseInterior": false,
           "disableImpostor": false,
           "disablePicking": false,
           "flatShaded": false,
           "interiorColor": 2236962,
           "interiorDarkening": 0,
           "lazy": false,
           "matrix": {
            "elements": [
             1,
             0,
             0,
             0,
             0,
             1,
             0,
             0,
             0,
             0,
             1,
             0,
             0,
             0,
             0,
             1
            ]
           },
           "metalness": 0,
           "opacity": 1,
           "quality": "medium",
           "radialSegments": 10,
           "radiusData": {},
           "radiusScale": 1,
           "radiusSize": 0.04785664188797733,
           "radiusType": "vdw",
           "roughness": 0.4,
           "sele": "all",
           "side": "double",
           "sphereDetail": 1,
           "useInteriorColor": true,
           "visible": true,
           "wireframe": false
          },
          "type": "unitcell"
         },
         "1": {
          "params": {
           "assembly": "default",
           "clipCenter": {
            "x": 0,
            "y": 0,
            "z": 0
           },
           "clipNear": 0,
           "clipRadius": 0,
           "colorMode": "hcl",
           "colorReverse": false,
           "colorScale": "rainbow",
           "colorScheme": "element",
           "colorValue": 9474192,
           "defaultAssembly": "",
           "depthWrite": true,
           "diffuse": 16777215,
           "diffuseInterior": false,
           "disableImpostor": false,
           "disablePicking": false,
           "flatShaded": false,
           "interiorColor": 2236962,
           "interiorDarkening": 0,
           "lazy": false,
           "matrix": {
            "elements": [
             1,
             0,
             0,
             0,
             0,
             1,
             0,
             0,
             0,
             0,
             1,
             0,
             0,
             0,
             0,
             1
            ]
           },
           "metalness": 0,
           "opacity": 1,
           "quality": "medium",
           "radiusData": {},
           "radiusScale": 1,
           "radiusSize": 1,
           "radiusType": "covalent",
           "roughness": 0.4,
           "sele": "all",
           "side": "double",
           "sphereDetail": 1,
           "useInteriorColor": true,
           "visible": true,
           "wireframe": false
          },
          "type": "spacefill"
         }
        }
       },
       "_ngl_serialize": false,
       "_ngl_version": "2.0.0-dev.33",
       "_scene_position": {},
       "_scene_rotation": {},
       "_view_module_version": "1.1.7",
       "background": "white",
       "count": 1,
       "frame": 0,
       "layout": "IPY_MODEL_9ff3f01debd04f64b2234e073866a152",
       "n_components": 1,
       "picked": {}
      }
     },
     "c03cad95b7344b9ebeb1d08ade9d9675": {
      "model_module": "@jupyter-widgets/controls",
      "model_module_version": "1.2.0",
      "model_name": "DropdownModel",
      "state": {
       "_model_module_version": "1.2.0",
       "_options_labels": [
        "All",
        "O",
        "H"
       ],
       "_view_module_version": "1.2.0",
       "description": "Show",
       "index": 0,
       "layout": "IPY_MODEL_4f02138227bd4efeab36040df3a2f7a5",
       "style": "IPY_MODEL_58298f73112740eb92c578c562e25cd5"
      }
     },
     "c09a6a23a7394c4e8e0437d3b901fe40": {
      "model_module": "@jupyter-widgets/controls",
      "model_module_version": "1.2.0",
      "model_name": "ImageModel",
      "state": {
       "_model_module_version": "1.2.0",
       "_view_module_version": "1.2.0",
       "layout": "IPY_MODEL_9ca17d341abe4cc2b759ec955b059372",
       "value": {},
       "width": "900.0"
      }
     },
     "c2411489b2cc48308de5595b48e7ae6d": {
      "model_module": "@jupyter-widgets/base",
      "model_module_version": "1.0.0",
      "model_name": "LayoutModel",
      "state": {}
     },
     "c49fc9c225bd419e9557da52bf4b7ff5": {
      "model_module": "@jupyter-widgets/base",
      "model_module_version": "1.0.0",
      "model_name": "LayoutModel",
      "state": {}
     },
     "c4ebb4a8318d4d2fb8aef0d9890703e1": {
      "model_module": "@jupyter-widgets/controls",
      "model_module_version": "1.2.0",
      "model_name": "ImageModel",
      "state": {
       "_model_module_version": "1.2.0",
       "_view_module_version": "1.2.0",
       "layout": "IPY_MODEL_8d844b67ebd840b1b057553c7493fa1b",
       "value": {},
       "width": "900.0"
      }
     },
     "c5fb21270cf84d0eb8fda92a3e8b09ee": {
      "model_module": "@jupyter-widgets/base",
      "model_module_version": "1.0.0",
      "model_name": "LayoutModel",
      "state": {}
     },
     "c68aeb707f404183ae96ea3e08c9e533": {
      "model_module": "nglview-js-widgets",
      "model_module_version": "1.1.7",
      "model_name": "NGLModel",
      "state": {
       "_camera_orientation": [
        -6.2691927892979145,
        8.192035168187541,
        7.796516831113311,
        0,
        10.50868348615751,
        7.513811990286267,
        0.5550620563773512,
        0,
        -4.178837910521871,
        6.605382827804031,
        -10.300685634450598,
        0,
        -1.8825000524520874,
        -1.0870000123977661,
        -1.024999976158142,
        1
       ],
       "_camera_str": "orthographic",
       "_image_data": "",
       "_model_module_version": "1.1.7",
       "_n_dragged_files": 0,
       "_ngl_coordinate_resource": {},
       "_ngl_full_stage_parameters": {
        "ambientColor": 14540253,
        "ambientIntensity": 0.2,
        "backgroundColor": "white",
        "cameraEyeSep": 0.3,
        "cameraFov": 40,
        "cameraType": "orthographic",
        "clipDist": 0,
        "clipFar": 100,
        "clipNear": 0,
        "fogFar": 100,
        "fogNear": 50,
        "hoverTimeout": 0,
        "impostor": true,
        "lightColor": 14540253,
        "lightIntensity": 1,
        "mousePreset": "default",
        "panSpeed": 1,
        "quality": "medium",
        "rotateSpeed": 2,
        "sampleLevel": 0,
        "tooltip": true,
        "workerDefault": true,
        "zoomSpeed": 1.2
       },
       "_ngl_full_stage_parameters_embed": {},
       "_ngl_msg_archive": [],
       "_ngl_original_stage_parameters": {
        "ambientColor": 14540253,
        "ambientIntensity": 0.2,
        "backgroundColor": "white",
        "cameraEyeSep": 0.3,
        "cameraFov": 40,
        "cameraType": "perspective",
        "clipDist": 10,
        "clipFar": 100,
        "clipNear": 0,
        "fogFar": 100,
        "fogNear": 50,
        "hoverTimeout": 0,
        "impostor": true,
        "lightColor": 14540253,
        "lightIntensity": 1,
        "mousePreset": "default",
        "panSpeed": 1,
        "quality": "medium",
        "rotateSpeed": 2,
        "sampleLevel": 0,
        "tooltip": true,
        "workerDefault": true,
        "zoomSpeed": 1.2
       },
       "_ngl_repr_dict": {
        "0": {
         "0": {
          "params": {
           "clipCenter": {
            "x": 0,
            "y": 0,
            "z": 0
           },
           "clipNear": 0,
           "clipRadius": 0,
           "colorMode": "hcl",
           "colorReverse": false,
           "colorScale": "",
           "colorScheme": "element",
           "colorValue": "orange",
           "defaultAssembly": "",
           "depthWrite": true,
           "diffuse": 16777215,
           "diffuseInterior": false,
           "disableImpostor": false,
           "disablePicking": false,
           "flatShaded": false,
           "interiorColor": 2236962,
           "interiorDarkening": 0,
           "lazy": false,
           "matrix": {
            "elements": [
             1,
             0,
             0,
             0,
             0,
             1,
             0,
             0,
             0,
             0,
             1,
             0,
             0,
             0,
             0,
             1
            ]
           },
           "metalness": 0,
           "opacity": 1,
           "quality": "medium",
           "radialSegments": 10,
           "radiusData": {},
           "radiusScale": 1,
           "radiusSize": 0.5,
           "radiusType": "vdw",
           "roughness": 0.4,
           "sele": "all",
           "side": "double",
           "sphereDetail": 1,
           "useInteriorColor": true,
           "visible": true,
           "wireframe": false
          },
          "type": "unitcell"
         },
         "1": {
          "params": {
           "assembly": "default",
           "clipCenter": {
            "x": 0,
            "y": 0,
            "z": 0
           },
           "clipNear": 0,
           "clipRadius": 0,
           "colorMode": "hcl",
           "colorReverse": false,
           "colorScale": "rainbow",
           "colorScheme": "element",
           "colorValue": 9474192,
           "defaultAssembly": "",
           "depthWrite": true,
           "diffuse": 16777215,
           "diffuseInterior": false,
           "disableImpostor": false,
           "disablePicking": false,
           "flatShaded": false,
           "interiorColor": 2236962,
           "interiorDarkening": 0,
           "lazy": false,
           "matrix": {
            "elements": [
             1,
             0,
             0,
             0,
             0,
             1,
             0,
             0,
             0,
             0,
             1,
             0,
             0,
             0,
             0,
             1
            ]
           },
           "metalness": 0,
           "opacity": 1,
           "quality": "medium",
           "radiusData": {},
           "radiusScale": 1,
           "radiusSize": 1,
           "radiusType": "covalent",
           "roughness": 0.4,
           "sele": "all",
           "side": "double",
           "sphereDetail": 1,
           "useInteriorColor": true,
           "visible": true,
           "wireframe": false
          },
          "type": "spacefill"
         }
        }
       },
       "_ngl_serialize": false,
       "_ngl_version": "2.0.0-dev.33",
       "_scene_position": {},
       "_scene_rotation": {},
       "_view_module_version": "1.1.7",
       "background": "white",
       "count": 1,
       "frame": 0,
       "layout": "IPY_MODEL_ddb1abc9aad145e985c1e91ab83f1fdb",
       "n_components": 1,
       "picked": {}
      }
     },
     "c7ca3cb700c64539b43c6b14818aaa48": {
      "model_module": "@jupyter-widgets/controls",
      "model_module_version": "1.2.0",
      "model_name": "DropdownModel",
      "state": {
       "_model_module_version": "1.2.0",
       "_options_labels": [
        "All",
        "O",
        "H",
        "Ni"
       ],
       "_view_module_version": "1.2.0",
       "description": "Show",
       "index": 0,
       "layout": "IPY_MODEL_403fa56429df486596316c60c58056a6",
       "style": "IPY_MODEL_ac683a14a9a147ff8ae3e3221aa4ff6a"
      }
     },
     "cb85ce9efbb54ecfb4cf13e47e21f393": {
      "model_module": "@jupyter-widgets/controls",
      "model_module_version": "1.2.0",
      "model_name": "FloatSliderModel",
      "state": {
       "_model_module_version": "1.2.0",
       "_view_module_version": "1.2.0",
       "description": "Ball size",
       "layout": "IPY_MODEL_4fb9aa6208f74d968460a83a90e6afec",
       "max": 1.5,
       "step": 0.01,
       "style": "IPY_MODEL_6fce7ede0aea4340af9397900e54bec7",
       "value": 0.8
      }
     },
     "cc2bf6662118492cbc7e3ebf2904561b": {
      "model_module": "@jupyter-widgets/controls",
      "model_module_version": "1.2.0",
      "model_name": "FloatSliderModel",
      "state": {
       "_model_module_version": "1.2.0",
       "_view_module_version": "1.2.0",
       "description": "Ball size",
       "layout": "IPY_MODEL_089f6dfa404040b6b33cde28ecbb44fd",
       "max": 1.5,
       "step": 0.01,
       "style": "IPY_MODEL_abceaa36d4704b509239dbdbf6e4f305",
       "value": 0.8
      }
     },
     "cd13c52d65354778a29bf0dd808b1589": {
      "model_module": "@jupyter-widgets/controls",
      "model_module_version": "1.2.0",
      "model_name": "DescriptionStyleModel",
      "state": {
       "_model_module_version": "1.2.0",
       "description_width": ""
      }
     },
     "dd66b37ca8cd40b6b7152bfa16bd5151": {
      "model_module": "@jupyter-widgets/base",
      "model_module_version": "1.0.0",
      "model_name": "LayoutModel",
      "state": {}
     },
     "ddb1abc9aad145e985c1e91ab83f1fdb": {
      "model_module": "@jupyter-widgets/base",
      "model_module_version": "1.0.0",
      "model_name": "LayoutModel",
      "state": {}
     },
     "ddb851ca0427478a8a6a770cc719a846": {
      "model_module": "@jupyter-widgets/controls",
      "model_module_version": "1.2.0",
      "model_name": "VBoxModel",
      "state": {
       "_model_module_version": "1.2.0",
       "_view_module_version": "1.2.0",
       "children": [
        "IPY_MODEL_c7ca3cb700c64539b43c6b14818aaa48",
        "IPY_MODEL_29202402a1dc4456a8921e73ed3d15d0",
        "IPY_MODEL_6b6e819ca2e345718a89a09cf0c7ddc8"
       ],
       "layout": "IPY_MODEL_62acc2955a224ff181e2359ea5b080fb"
      }
     },
     "de1384925c0a4a55a9e9f595c547eb7f": {
      "model_module": "@jupyter-widgets/base",
      "model_module_version": "1.0.0",
      "model_name": "LayoutModel",
      "state": {}
     },
     "de323286397c4055b00d01b94524dd6e": {
      "model_module": "@jupyter-widgets/base",
      "model_module_version": "1.0.0",
      "model_name": "LayoutModel",
      "state": {}
     },
     "e01165a20dd94328a83e058b73b56aaf": {
      "model_module": "nglview-js-widgets",
      "model_module_version": "1.1.7",
      "model_name": "NGLModel",
      "state": {
       "_camera_orientation": [
        16.10779058733671,
        0,
        0,
        0,
        0,
        16.10779058733671,
        0,
        0,
        0,
        0,
        16.10779058733671,
        0,
        -3.8320000767707825,
        -1.1375000476837158,
        -13.42199993133545,
        1
       ],
       "_camera_str": "orthographic",
       "_image_data": "",
       "_model_module_version": "1.1.7",
       "_n_dragged_files": 0,
       "_ngl_coordinate_resource": {},
       "_ngl_full_stage_parameters": {
        "ambientColor": 14540253,
        "ambientIntensity": 0.2,
        "backgroundColor": "white",
        "cameraEyeSep": 0.3,
        "cameraFov": 40,
        "cameraType": "orthographic",
        "clipDist": 0,
        "clipFar": 100,
        "clipNear": 0,
        "fogFar": 100,
        "fogNear": 50,
        "hoverTimeout": 0,
        "impostor": true,
        "lightColor": 14540253,
        "lightIntensity": 1,
        "mousePreset": "default",
        "panSpeed": 1,
        "quality": "medium",
        "rotateSpeed": 2,
        "sampleLevel": 0,
        "tooltip": true,
        "workerDefault": true,
        "zoomSpeed": 1.2
       },
       "_ngl_full_stage_parameters_embed": {},
       "_ngl_msg_archive": [],
       "_ngl_original_stage_parameters": {
        "ambientColor": 14540253,
        "ambientIntensity": 0.2,
        "backgroundColor": "white",
        "cameraEyeSep": 0.3,
        "cameraFov": 40,
        "cameraType": "perspective",
        "clipDist": 10,
        "clipFar": 100,
        "clipNear": 0,
        "fogFar": 100,
        "fogNear": 50,
        "hoverTimeout": 0,
        "impostor": true,
        "lightColor": 14540253,
        "lightIntensity": 1,
        "mousePreset": "default",
        "panSpeed": 1,
        "quality": "medium",
        "rotateSpeed": 2,
        "sampleLevel": 0,
        "tooltip": true,
        "workerDefault": true,
        "zoomSpeed": 1.2
       },
       "_ngl_repr_dict": {
        "0": {
         "0": {
          "params": {
           "clipCenter": {
            "x": 0,
            "y": 0,
            "z": 0
           },
           "clipNear": 0,
           "clipRadius": 0,
           "colorMode": "hcl",
           "colorReverse": false,
           "colorScale": "",
           "colorScheme": "element",
           "colorValue": "orange",
           "defaultAssembly": "",
           "depthWrite": true,
           "diffuse": 16777215,
           "diffuseInterior": false,
           "disableImpostor": false,
           "disablePicking": false,
           "flatShaded": false,
           "interiorColor": 2236962,
           "interiorDarkening": 0,
           "lazy": false,
           "matrix": {
            "elements": [
             1,
             0,
             0,
             0,
             0,
             1,
             0,
             0,
             0,
             0,
             1,
             0,
             0,
             0,
             0,
             1
            ]
           },
           "metalness": 0,
           "opacity": 1,
           "quality": "medium",
           "radialSegments": 10,
           "radiusData": {},
           "radiusScale": 1,
           "radiusSize": 0.051938155176290426,
           "radiusType": "vdw",
           "roughness": 0.4,
           "sele": "all",
           "side": "double",
           "sphereDetail": 1,
           "useInteriorColor": true,
           "visible": true,
           "wireframe": false
          },
          "type": "unitcell"
         },
         "1": {
          "params": {
           "assembly": "default",
           "clipCenter": {
            "x": 0,
            "y": 0,
            "z": 0
           },
           "clipNear": 0,
           "clipRadius": 0,
           "colorMode": "hcl",
           "colorReverse": false,
           "colorScale": "rainbow",
           "colorScheme": "element",
           "colorValue": 9474192,
           "defaultAssembly": "",
           "depthWrite": true,
           "diffuse": 16777215,
           "diffuseInterior": false,
           "disableImpostor": false,
           "disablePicking": false,
           "flatShaded": false,
           "interiorColor": 2236962,
           "interiorDarkening": 0,
           "lazy": false,
           "matrix": {
            "elements": [
             1,
             0,
             0,
             0,
             0,
             1,
             0,
             0,
             0,
             0,
             1,
             0,
             0,
             0,
             0,
             1
            ]
           },
           "metalness": 0,
           "opacity": 1,
           "quality": "medium",
           "radiusData": {},
           "radiusScale": 1,
           "radiusSize": 1,
           "radiusType": "covalent",
           "roughness": 0.4,
           "sele": "all",
           "side": "double",
           "sphereDetail": 1,
           "useInteriorColor": true,
           "visible": true,
           "wireframe": false
          },
          "type": "spacefill"
         }
        }
       },
       "_ngl_serialize": false,
       "_ngl_version": "2.0.0-dev.33",
       "_scene_position": {},
       "_scene_rotation": {},
       "_view_module_version": "1.1.7",
       "background": "white",
       "count": 1,
       "frame": 0,
       "layout": "IPY_MODEL_e0898ef9481c41d9a0227a165ce4b484",
       "n_components": 1,
       "picked": {}
      }
     },
     "e0898ef9481c41d9a0227a165ce4b484": {
      "model_module": "@jupyter-widgets/base",
      "model_module_version": "1.0.0",
      "model_name": "LayoutModel",
      "state": {}
     },
     "e6ba32ee414a44dc8723cf18d6ecb74c": {
      "model_module": "@jupyter-widgets/base",
      "model_module_version": "1.0.0",
      "model_name": "LayoutModel",
      "state": {}
     },
     "ec8b059c91eb4382a136a4a23ea22735": {
      "model_module": "@jupyter-widgets/controls",
      "model_module_version": "1.2.0",
      "model_name": "DropdownModel",
      "state": {
       "_model_module_version": "1.2.0",
       "_options_labels": [
        " ",
        "picking",
        "random",
        "uniform",
        "atomindex",
        "residueindex",
        "chainindex",
        "modelindex",
        "sstruc",
        "element",
        "resname",
        "bfactor",
        "hydrophobicity",
        "value",
        "volume",
        "occupancy"
       ],
       "_view_module_version": "1.2.0",
       "description": "Color scheme",
       "index": 9,
       "layout": "IPY_MODEL_2a29881e6dc64f468372c861924dacaf",
       "style": "IPY_MODEL_f187902b486f434886d6da304688eabe"
      }
     },
     "ed62818a612545f0a93faaac2453fc19": {
      "model_module": "@jupyter-widgets/controls",
      "model_module_version": "1.2.0",
      "model_name": "SliderStyleModel",
      "state": {
       "_model_module_version": "1.2.0",
       "description_width": ""
      }
     },
     "f187902b486f434886d6da304688eabe": {
      "model_module": "@jupyter-widgets/controls",
      "model_module_version": "1.2.0",
      "model_name": "DescriptionStyleModel",
      "state": {
       "_model_module_version": "1.2.0",
       "description_width": ""
      }
     },
     "f1cf7fc655c94b98baf314e0399cb0aa": {
      "model_module": "@jupyter-widgets/controls",
      "model_module_version": "1.2.0",
      "model_name": "DropdownModel",
      "state": {
       "_model_module_version": "1.2.0",
       "_options_labels": [
        "All",
        "O",
        "H",
        "Ni"
       ],
       "_view_module_version": "1.2.0",
       "description": "Show",
       "index": 0,
       "layout": "IPY_MODEL_060352ef4e794ad5962fbcf3097b0ee8",
       "style": "IPY_MODEL_cd13c52d65354778a29bf0dd808b1589"
      }
     },
     "f45a328eb8b7428ca3d64e9e63cce279": {
      "model_module": "@jupyter-widgets/base",
      "model_module_version": "1.0.0",
      "model_name": "LayoutModel",
      "state": {}
     },
     "f47efb0523a34e3b83f9245cdd404a31": {
      "model_module": "@jupyter-widgets/controls",
      "model_module_version": "1.2.0",
      "model_name": "DescriptionStyleModel",
      "state": {
       "_model_module_version": "1.2.0",
       "description_width": ""
      }
     },
     "fc80c43a1e72430490db3ff7dc216a3b": {
      "model_module": "@jupyter-widgets/controls",
      "model_module_version": "1.2.0",
      "model_name": "VBoxModel",
      "state": {
       "_model_module_version": "1.2.0",
       "_view_module_version": "1.2.0",
       "children": [
        "IPY_MODEL_4e45b771edad40f8ac7f05d72108bcdc",
        "IPY_MODEL_b7b662e0ca3f4291b87a9e35892f4be6",
        "IPY_MODEL_0d6ce83c4c644004af7e766ebee09519"
       ],
       "layout": "IPY_MODEL_bb45fefffda246ca972982463ff256ff"
      }
     },
     "fdcb2c140ee84aacb0a49a0ea46f9c5b": {
      "model_module": "@jupyter-widgets/base",
      "model_module_version": "1.0.0",
      "model_name": "LayoutModel",
      "state": {}
     },
     "ff1691fd1d204aa394679b1de511e1d0": {
      "model_module": "@jupyter-widgets/base",
      "model_module_version": "1.0.0",
      "model_name": "LayoutModel",
      "state": {}
     }
    },
    "version_major": 2,
    "version_minor": 0
   }
  }
 },
 "nbformat": 4,
 "nbformat_minor": 2
}
