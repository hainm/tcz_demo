{
 "cells": [
  {
   "cell_type": "markdown",
   "metadata": {},
   "source": [
    "# Jupyter Example\n",
    "## LAMMPS: pour/in.pour.2d\n",
    "Reference: https://github.com/lammps/lammps/blob/master/examples/pour/in.pour.2d  \n",
    "Required files: None  \n",
    "Description: Pour 2d granular particles into container"
   ]
  },
  {
   "cell_type": "code",
   "execution_count": 1,
   "metadata": {},
   "outputs": [],
   "source": [
    "from __future__ import print_function\n",
    "import random, math\n",
    "from lammps import IPyLammps"
   ]
  },
  {
   "cell_type": "code",
   "execution_count": 2,
   "metadata": {},
   "outputs": [
    {
     "name": "stdout",
     "output_type": "stream",
     "text": [
      "LAMMPS output is captured by PyLammps wrapper\n"
     ]
    }
   ],
   "source": [
    "L = IPyLammps()\n",
    "L.dimension(\"2\")\n",
    "L.atom_style(\"sphere\")\n",
    "L.boundary(\"f fm p\")\n",
    "L.newton(\"off\")\n",
    "L.comm_modify(\"vel yes\")\n",
    "L.region(\"reg block 0 100 0 50 -0.5 0.5 units box\")\n",
    "L.create_box(\"1 reg\")\n",
    "L.neighbor(\"0.2 bin\")\n",
    "L.neigh_modify(\"delay 0\")"
   ]
  },
  {
   "cell_type": "code",
   "execution_count": 3,
   "metadata": {},
   "outputs": [],
   "source": [
    "# IMPORTANT NOTE: these values of stiffness (4000) and timestep (0.001)\n",
    "# are used in this example file to produce a quick simulation and movie.\n",
    "# More appropriate values for realistic simulations would be\n",
    "# k = 4.0e5 and dt = 0.0001, as in bench/in.chute (if it were Hertzian).\n",
    "\n",
    "L.pair_style(\"gran/hertz/history 4000.0 NULL 100.0 NULL 0.5 0\")\n",
    "L.pair_coeff(\"* *\")"
   ]
  },
  {
   "cell_type": "code",
   "execution_count": 4,
   "metadata": {},
   "outputs": [],
   "source": [
    "L.fix(\"1 all nve/sphere\")\n",
    "L.fix(\"2 all gravity 1.0 spherical 0.0 -180.0\")\n",
    "L.fix(\"xwalls all wall/gran hertz/history 4000.0 NULL 100.0 NULL 0 1 xplane 0 100\")\n",
    "L.fix(\"ywalls all wall/gran hertz/history 4000.0 NULL 100.0 NULL 0 1 yplane 0 NULL\")\n",
    "L.region(\"slab block 1.0 99.0 30 34.5 -0.5 0.5 units box\")\n",
    "L.fix(\"ins all pour 1000 1 4767548 vol 0.4 10 diam range 0.5 1.0 region slab\")\n",
    "L.fix(\"3 all enforce2d\")\n",
    "L.compute(\"1 all erotate/sphere\")"
   ]
  },
  {
   "cell_type": "code",
   "execution_count": 5,
   "metadata": {},
   "outputs": [],
   "source": [
    "L.dump(\"id all atom 250 dump.pour\")\n",
    "\n",
    "#L.dump(\"2 all image 500 image.*.jpg type type zoom 1.6 adiam 1.5\")\n",
    "#L.dump_modify(\"2 pad 5\")\n",
    "\n",
    "L.dump(\"3 all movie 500 mov.mp4 type type zoom 1.6 adiam 1.5\")\n",
    "L.dump_modify(\"3 pad 5\")"
   ]
  },
  {
   "cell_type": "code",
   "execution_count": 6,
   "metadata": {},
   "outputs": [
    {
     "data": {
      "text/plain": [
       "['Neighbor list info ...',\n",
       " '  update every 1 steps, delay 0 steps, check yes',\n",
       " '  max neighbors/atom: 2000, page size: 100000',\n",
       " '  master list distance cutoff = 1.2',\n",
       " '  ghost atom cutoff = 1.2',\n",
       " '  binsize = 0.6, bins = 167 84 2',\n",
       " '  1 neighbor lists, perpetual/occasional/extra = 1 0 0',\n",
       " '  (1) pair gran/hertz/history, perpetual',\n",
       " '      attributes: half, newton off, size, history',\n",
       " '      pair build: half/size/bin/newtoff',\n",
       " '      stencil: half/bin/2d/newtoff',\n",
       " '      bin: standard',\n",
       " 'Setting up Verlet run ...',\n",
       " '  Unit style    : lj',\n",
       " '  Current step  : 0',\n",
       " '  Time step     : 0.001',\n",
       " 'Per MPI rank memory allocation (min/avg/max) = 5.804 | 5.804 | 5.804 Mbytes',\n",
       " 'Step Atoms KinEng c_1 Volume ',\n",
       " '       0        0           -0            0         5000 ',\n",
       " 'WARNING: Less insertions than requested (../fix_pour.cpp:679)',\n",
       " '    1000      285     244.9894            0         5000 ',\n",
       " 'WARNING: Less insertions than requested (../fix_pour.cpp:679)',\n",
       " 'WARNING: Less insertions than requested (../fix_pour.cpp:679)',\n",
       " '    2000      522    608.09082            0         5000 ',\n",
       " 'WARNING: Less insertions than requested (../fix_pour.cpp:679)',\n",
       " '    3000      682    1139.4513            0         5000 ',\n",
       " 'WARNING: Less insertions than requested (../fix_pour.cpp:679)',\n",
       " 'WARNING: Less insertions than requested (../fix_pour.cpp:679)',\n",
       " '    4000      892    1941.6496            0         5000 ',\n",
       " 'WARNING: Less insertions than requested (../fix_pour.cpp:679)',\n",
       " '    5000     1000    2996.5071            0         5000 ',\n",
       " '    6000     1000    3773.2256    40.004519         5000 ',\n",
       " '    7000     1000    3852.6504    105.83285         5000 ',\n",
       " '    8000     1000    3088.3473    113.07675         5000 ',\n",
       " '    9000     1000    2204.6383    94.504095         5000 ',\n",
       " '   10000     1000    1059.2483    86.018036         5000 ',\n",
       " '   11000     1000    356.29542    46.566228         5000 ',\n",
       " '   12000     1000    72.449134     32.37494         5000 ',\n",
       " '   13000     1000    33.116135    15.896915         5000 ',\n",
       " '   14000     1000    23.261666    11.441728         5000 ',\n",
       " '   15000     1000    19.368534    7.7337229         5000 ',\n",
       " '   16000     1000    18.079881    6.0993119         5000 ',\n",
       " '   17000     1000    17.288413     5.081687         5000 ',\n",
       " '   18000     1000    17.625496    4.7442938         5000 ',\n",
       " '   19000     1000    11.629722    2.9781924         5000 ',\n",
       " '   20000     1000    6.8198275    2.2926705         5000 ',\n",
       " '   21000     1000    3.7664034    1.9454152         5000 ',\n",
       " '   22000     1000    2.7399852    1.0429696         5000 ',\n",
       " '   23000     1000    1.3537177   0.42058169         5000 ',\n",
       " '   24000     1000   0.94878948   0.36283147         5000 ',\n",
       " '   25000     1000   0.62223032   0.23287514         5000 ',\n",
       " 'Loop time of 2.66668 on 1 procs for 25000 steps with 1000 atoms',\n",
       " '',\n",
       " 'Performance: 809994.762 tau/day, 9374.939 timesteps/s',\n",
       " '95.1% CPU use with 1 MPI tasks x 1 OpenMP threads',\n",
       " '',\n",
       " 'MPI task timing breakdown:',\n",
       " 'Section |  min time  |  avg time  |  max time  |%varavg| %total',\n",
       " '---------------------------------------------------------------',\n",
       " 'Pair    | 1.2054     | 1.2054     | 1.2054     |   0.0 | 45.20',\n",
       " 'Neigh   | 0.25859    | 0.25859    | 0.25859    |   0.0 |  9.70',\n",
       " 'Comm    | 0.0065427  | 0.0065427  | 0.0065427  |   0.0 |  0.25',\n",
       " 'Output  | 0.32538    | 0.32538    | 0.32538    |   0.0 | 12.20',\n",
       " 'Modify  | 0.80069    | 0.80069    | 0.80069    |   0.0 | 30.03',\n",
       " 'Other   |            | 0.07012    |            |       |  2.63',\n",
       " '',\n",
       " 'Nlocal:    1000 ave 1000 max 1000 min',\n",
       " 'Histogram: 1 0 0 0 0 0 0 0 0 0',\n",
       " 'Nghost:    0 ave 0 max 0 min',\n",
       " 'Histogram: 1 0 0 0 0 0 0 0 0 0',\n",
       " 'Neighs:    2440 ave 2440 max 2440 min',\n",
       " 'Histogram: 1 0 0 0 0 0 0 0 0 0',\n",
       " '',\n",
       " 'Total # of neighbors = 2440',\n",
       " 'Ave neighs/atom = 2.44',\n",
       " 'Neighbor list builds = 1697',\n",
       " 'Dangerous builds = 0']"
      ]
     },
     "execution_count": 6,
     "metadata": {},
     "output_type": "execute_result"
    }
   ],
   "source": [
    "L.thermo_style(\"custom step atoms ke c_1 vol\")\n",
    "L.thermo(\"1000\")\n",
    "L.thermo_modify(\"lost ignore norm no\")\n",
    "L.compute_modify(\"thermo_temp dynamic/dof yes\")\n",
    "L.timestep(\"0.001\")\n",
    "L.run(\"25000\")"
   ]
  },
  {
   "cell_type": "code",
   "execution_count": 7,
   "metadata": {},
   "outputs": [
    {
     "data": {
      "text/html": [
       "<video controls><source src=\"mov.mp4\"></video>"
      ],
      "text/plain": [
       "<IPython.core.display.HTML object>"
      ]
     },
     "execution_count": 7,
     "metadata": {},
     "output_type": "execute_result"
    }
   ],
   "source": [
    "L.undump(\"3\")\n",
    "L.video(\"mov.mp4\")"
   ]
  },
  {
   "cell_type": "code",
   "execution_count": null,
   "metadata": {},
   "outputs": [],
   "source": []
  }
 ],
 "metadata": {
  "kernelspec": {
   "display_name": "Python 3",
   "language": "python",
   "name": "python3"
  },
  "language_info": {
   "codemirror_mode": {
    "name": "ipython",
    "version": 3
   },
   "file_extension": ".py",
   "mimetype": "text/x-python",
   "name": "python",
   "nbconvert_exporter": "python",
   "pygments_lexer": "ipython3",
   "version": "3.7.0"
  }
 },
 "nbformat": 4,
 "nbformat_minor": 2
}
