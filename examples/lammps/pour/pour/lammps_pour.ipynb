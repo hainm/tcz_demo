{
 "cells": [
  {
   "cell_type": "markdown",
   "metadata": {},
   "source": [
    "# Jupyter Example\n",
    "## LAMMPS: pour/in.pour\n",
    "Reference: https://github.com/lammps/lammps/blob/master/examples/pour/in.pour  \n",
    "Required files: None  \n",
    "Description: Pour granular particles into chute container, then induce flow"
   ]
  },
  {
   "cell_type": "code",
   "execution_count": 1,
   "metadata": {},
   "outputs": [],
   "source": [
    "from __future__ import print_function\n",
    "import random, math\n",
    "from lammps import IPyLammps"
   ]
  },
  {
   "cell_type": "code",
   "execution_count": 2,
   "metadata": {},
   "outputs": [
    {
     "name": "stdout",
     "output_type": "stream",
     "text": [
      "LAMMPS output is captured by PyLammps wrapper\n"
     ]
    }
   ],
   "source": [
    "L = IPyLammps()\n",
    "L.atom_style(\"sphere\")\n",
    "L.boundary(\"p p fm\")\n",
    "L.newton(\"off\")\n",
    "L.comm_modify(\"vel yes\")\n",
    "L.region(\"reg block -10 10 -10 10 -0.5 16 units box\")\n",
    "L.create_box(\"1 reg\")\n",
    "L.neighbor(\"0.2 bin\")\n",
    "L.neigh_modify(\"delay 0\")"
   ]
  },
  {
   "cell_type": "code",
   "execution_count": 3,
   "metadata": {},
   "outputs": [],
   "source": [
    "# IMPORTANT NOTE: these values of stiffness (2000) and timestep (0.001)\n",
    "# are used in this example file to produce a quick simulation and movie.\n",
    "# More appropriate values for realistic simulations would be\n",
    "# k = 2.0e5 and dt = 0.0001, as in bench/in.chute.\n",
    "\n",
    "L.pair_style(\"gran/hooke/history 2000.0 NULL 50.0 NULL 0.5 0\")\n",
    "L.pair_coeff(\"* *\")"
   ]
  },
  {
   "cell_type": "code",
   "execution_count": 4,
   "metadata": {},
   "outputs": [],
   "source": [
    "L.fix(\"1 all nve/sphere\")\n",
    "L.fix(\"2 all gravity 1.0 spherical 0.0 -180.0\")\n",
    "L.fix(\"zlower all wall/gran hooke/history 2000.0 NULL 50.0 NULL 0.5 0 zplane 0.0 2000.0\")\n",
    "L.region(\"slab block -9.0 9.0 -9.0 9.0 10.0 15.0 units box\")\n",
    "L.fix(\"ins all pour 3000 1 300719 vol 0.13 50 region slab\")\n",
    "L.compute(\"1 all erotate/sphere\")"
   ]
  },
  {
   "cell_type": "code",
   "execution_count": 5,
   "metadata": {},
   "outputs": [],
   "source": [
    "L.dump(\"id all atom 1000 dump.pour\")\n",
    "\n",
    "#L.dump(\"2 all image 1000 image.*.jpg type type axes yes 0.8 0.02 view 80 -30\")\n",
    "#L.dump_modify(\"2 pad 5\")    \n",
    "\n",
    "L.dump(\"3 all movie 1000 mov.mp4 type type axes yes 0.8 0.02 view 80 -30\")\n",
    "L.dump_modify(\"3 pad 5\")"
   ]
  },
  {
   "cell_type": "code",
   "execution_count": 6,
   "metadata": {},
   "outputs": [
    {
     "data": {
      "text/plain": [
       "['Neighbor list info ...',\n",
       " '  update every 1 steps, delay 0 steps, check yes',\n",
       " '  max neighbors/atom: 2000, page size: 100000',\n",
       " '  master list distance cutoff = 1.2',\n",
       " '  ghost atom cutoff = 1.2',\n",
       " '  binsize = 0.6, bins = 34 34 28',\n",
       " '  1 neighbor lists, perpetual/occasional/extra = 1 0 0',\n",
       " '  (1) pair gran/hooke/history, perpetual',\n",
       " '      attributes: half, newton off, size, history',\n",
       " '      pair build: half/size/bin/newtoff',\n",
       " '      stencil: half/bin/3d/newtoff',\n",
       " '      bin: standard',\n",
       " 'Setting up Verlet run ...',\n",
       " '  Unit style    : lj',\n",
       " '  Current step  : 0',\n",
       " '  Time step     : 0.001',\n",
       " 'Per MPI rank memory allocation (min/avg/max) = 5.955 | 5.955 | 5.955 Mbytes',\n",
       " 'Step Atoms KinEng c_1 Volume ',\n",
       " '       0        0           -0            0         6600 ',\n",
       " 'WARNING: Less insertions than requested (../fix_pour.cpp:679)',\n",
       " '    1000      720    1153.5788            0         6600 ',\n",
       " 'WARNING: Less insertions than requested (../fix_pour.cpp:679)',\n",
       " 'WARNING: Less insertions than requested (../fix_pour.cpp:679)',\n",
       " '    2000     1342    3018.8638            0         6600 ',\n",
       " 'WARNING: Less insertions than requested (../fix_pour.cpp:679)',\n",
       " '    3000     1657    4657.8961    23.309963         6600 ',\n",
       " 'WARNING: Less insertions than requested (../fix_pour.cpp:679)',\n",
       " 'WARNING: Less insertions than requested (../fix_pour.cpp:679)',\n",
       " '    4000     2258    5637.3611    128.09922         6600 ',\n",
       " 'WARNING: Less insertions than requested (../fix_pour.cpp:679)',\n",
       " '    5000     2565    4644.9532    158.32474         6600 ',\n",
       " 'WARNING: Less insertions than requested (../fix_pour.cpp:679)',\n",
       " '    6000     3000    3900.3605    138.62154         6600 ',\n",
       " '    7000     3000    2231.2098    128.95897         6600 ',\n",
       " '    8000     3000    894.83923    83.503404         6600 ',\n",
       " '    9000     3000    188.30585    41.493077         6600 ',\n",
       " '   10000     3000    19.806418    15.429548         6600 ',\n",
       " '   11000     3000    7.2383317    5.0049369         6600 ',\n",
       " '   12000     3000    2.6463424    1.9298134         6600 ',\n",
       " '   13000     3000   0.99968893   0.84036535         6600 ',\n",
       " '   14000     3000   0.60068368   0.57565489         6600 ',\n",
       " '   15000     3000   0.39948973   0.39396247         6600 ',\n",
       " '   16000     3000   0.22595725   0.17514409         6600 ',\n",
       " '   17000     3000   0.18839817   0.11519304         6600 ',\n",
       " '   18000     3000     0.199047   0.14237058         6600 ',\n",
       " '   19000     3000  0.073025067  0.065489228         6600 ',\n",
       " '   20000     3000  0.078056045   0.05856348         6600 ',\n",
       " '   21000     3000  0.024133806  0.015958401         6600 ',\n",
       " '   22000     3000  0.010624419  0.010184872         6600 ',\n",
       " '   23000     3000 0.0071181146  0.011316132         6600 ',\n",
       " '   24000     3000 0.0013020986 0.0012492937         6600 ',\n",
       " '   25000     3000  0.001094739 0.0008512998         6600 ',\n",
       " 'Loop time of 10.8042 on 1 procs for 25000 steps with 3000 atoms',\n",
       " '',\n",
       " 'Performance: 199922.735 tau/day, 2313.921 timesteps/s',\n",
       " '99.1% CPU use with 1 MPI tasks x 1 OpenMP threads',\n",
       " '',\n",
       " 'MPI task timing breakdown:',\n",
       " 'Section |  min time  |  avg time  |  max time  |%varavg| %total',\n",
       " '---------------------------------------------------------------',\n",
       " 'Pair    | 7.3579     | 7.3579     | 7.3579     |   0.0 | 68.10',\n",
       " 'Neigh   | 0.53454    | 0.53454    | 0.53454    |   0.0 |  4.95',\n",
       " 'Comm    | 0.19039    | 0.19039    | 0.19039    |   0.0 |  1.76',\n",
       " 'Output  | 0.42128    | 0.42128    | 0.42128    |   0.0 |  3.90',\n",
       " 'Modify  | 2.1202     | 2.1202     | 2.1202     |   0.0 | 19.62',\n",
       " 'Other   |            | 0.1799     |            |       |  1.66',\n",
       " '',\n",
       " 'Nlocal:    3000 ave 3000 max 3000 min',\n",
       " 'Histogram: 1 0 0 0 0 0 0 0 0 0',\n",
       " 'Nghost:    713 ave 713 max 713 min',\n",
       " 'Histogram: 1 0 0 0 0 0 0 0 0 0',\n",
       " 'Neighs:    13760 ave 13760 max 13760 min',\n",
       " 'Histogram: 1 0 0 0 0 0 0 0 0 0',\n",
       " '',\n",
       " 'Total # of neighbors = 13760',\n",
       " 'Ave neighs/atom = 4.58667',\n",
       " 'Neighbor list builds = 521',\n",
       " 'Dangerous builds = 0']"
      ]
     },
     "execution_count": 6,
     "metadata": {},
     "output_type": "execute_result"
    }
   ],
   "source": [
    "L.thermo_style(\"custom step atoms ke c_1 vol\")\n",
    "L.thermo(\"1000\")\n",
    "L.thermo_modify(\"lost ignore norm no\")\n",
    "L.compute_modify(\"thermo_temp dynamic/dof yes\")\n",
    "L.timestep(\"0.001\")\n",
    "L.run(\"25000\")"
   ]
  },
  {
   "cell_type": "code",
   "execution_count": 7,
   "metadata": {},
   "outputs": [
    {
     "data": {
      "text/plain": [
       "['Setting up Verlet run ...',\n",
       " '  Unit style    : lj',\n",
       " '  Current step  : 25000',\n",
       " '  Time step     : 0.001',\n",
       " 'Per MPI rank memory allocation (min/avg/max) = 12.05 | 12.05 | 12.05 Mbytes',\n",
       " 'Step Atoms KinEng c_1 Volume ',\n",
       " '   25000     3000  0.001094739 0.0008512998         6600 ',\n",
       " '   26000     3000    42.692829    2.6538187         6600 ',\n",
       " '   27000     3000     129.7181    7.0335968         6600 ',\n",
       " '   28000     3000    261.46568    12.174857         6600 ',\n",
       " '   29000     3000    459.52369    19.161276         6600 ',\n",
       " '   30000     3000    734.60428    25.574934         6600 ',\n",
       " '   31000     3000    1072.2195    35.742797         6600 ',\n",
       " '   32000     3000    1483.4306    39.845576         6600 ',\n",
       " '   33000     3000    1933.0487    47.478062         6600 ',\n",
       " '   34000     3000    2547.2381    61.889492         6600 ',\n",
       " '   35000     3000    3187.6923    60.799558         6600 ',\n",
       " '   36000     3000     3875.391    70.682859         6600 ',\n",
       " '   37000     3000      4528.44    79.353236         6600 ',\n",
       " '   38000     3000    5382.3045    98.448379         6600 ',\n",
       " '   39000     3000     6320.286    109.01728         6600 ',\n",
       " '   40000     3000    7368.9483    125.96822         6600 ',\n",
       " '   41000     3000    8526.4928    139.35661         6600 ',\n",
       " '   42000     3000    9726.5843    145.64563         6600 ',\n",
       " '   43000     3000    10933.035    162.35297         6600 ',\n",
       " '   44000     3000    12254.526    169.39999         6600 ',\n",
       " '   45000     3000     13659.05     191.0645         6600 ',\n",
       " '   46000     3000    15025.297    207.76391         6600 ',\n",
       " '   47000     3000    16507.022    225.47454         6600 ',\n",
       " '   48000     3000    17962.166    219.14402         6600 ',\n",
       " '   49000     3000     19385.91    249.46849         6600 ',\n",
       " '   50000     3000    21183.007    265.42041         6600 ',\n",
       " 'Loop time of 11.4616 on 1 procs for 25000 steps with 3000 atoms',\n",
       " '',\n",
       " 'Performance: 188456.088 tau/day, 2181.205 timesteps/s',\n",
       " '99.3% CPU use with 1 MPI tasks x 1 OpenMP threads',\n",
       " '',\n",
       " 'MPI task timing breakdown:',\n",
       " 'Section |  min time  |  avg time  |  max time  |%varavg| %total',\n",
       " '---------------------------------------------------------------',\n",
       " 'Pair    | 7.411      | 7.411      | 7.411      |   0.0 | 64.66',\n",
       " 'Neigh   | 1.3419     | 1.3419     | 1.3419     |   0.0 | 11.71',\n",
       " 'Comm    | 0.25749    | 0.25749    | 0.25749    |   0.0 |  2.25',\n",
       " 'Output  | 0.41564    | 0.41564    | 0.41564    |   0.0 |  3.63',\n",
       " 'Modify  | 1.8287     | 1.8287     | 1.8287     |   0.0 | 15.95',\n",
       " 'Other   |            | 0.2069     |            |       |  1.80',\n",
       " '',\n",
       " 'Nlocal:    3000 ave 3000 max 3000 min',\n",
       " 'Histogram: 1 0 0 0 0 0 0 0 0 0',\n",
       " 'Nghost:    746 ave 746 max 746 min',\n",
       " 'Histogram: 1 0 0 0 0 0 0 0 0 0',\n",
       " 'Neighs:    13929 ave 13929 max 13929 min',\n",
       " 'Histogram: 1 0 0 0 0 0 0 0 0 0',\n",
       " '',\n",
       " 'Total # of neighbors = 13929',\n",
       " 'Ave neighs/atom = 4.643',\n",
       " 'Neighbor list builds = 789',\n",
       " 'Dangerous builds = 0']"
      ]
     },
     "execution_count": 7,
     "metadata": {},
     "output_type": "execute_result"
    }
   ],
   "source": [
    "L.unfix(\"ins\")\n",
    "L.fix(\"2 all gravity 1.0 chute 26.0\")\n",
    "L.run(\"25000\")"
   ]
  },
  {
   "cell_type": "code",
   "execution_count": 8,
   "metadata": {},
   "outputs": [
    {
     "data": {
      "text/html": [
       "<video controls><source src=\"mov.mp4\"></video>"
      ],
      "text/plain": [
       "<IPython.core.display.HTML object>"
      ]
     },
     "execution_count": 8,
     "metadata": {},
     "output_type": "execute_result"
    }
   ],
   "source": [
    "L.undump(\"3\")\n",
    "L.video(\"mov.mp4\")"
   ]
  },
  {
   "cell_type": "code",
   "execution_count": null,
   "metadata": {},
   "outputs": [],
   "source": []
  }
 ],
 "metadata": {
  "kernelspec": {
   "display_name": "Python 3",
   "language": "python",
   "name": "python3"
  },
  "language_info": {
   "codemirror_mode": {
    "name": "ipython",
    "version": 3
   },
   "file_extension": ".py",
   "mimetype": "text/x-python",
   "name": "python",
   "nbconvert_exporter": "python",
   "pygments_lexer": "ipython3",
   "version": "3.7.0"
  }
 },
 "nbformat": 4,
 "nbformat_minor": 2
}
