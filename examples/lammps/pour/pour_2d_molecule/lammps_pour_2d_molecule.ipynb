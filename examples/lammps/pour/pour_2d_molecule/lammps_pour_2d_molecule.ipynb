{
 "cells": [
  {
   "cell_type": "markdown",
   "metadata": {},
   "source": [
    "# Jupyter Example\n",
    "## LAMMPS: pour/in.pour.2d.molecule\n",
    "Reference: https://github.com/lammps/lammps/blob/master/examples/pour/in.pour.2d.molecule  \n",
    "Required files: molecule.vshape  \n",
    "Description: Pour 2d granular particles into container"
   ]
  },
  {
   "cell_type": "code",
   "execution_count": 1,
   "metadata": {},
   "outputs": [],
   "source": [
    "from __future__ import print_function\n",
    "import random, math\n",
    "from lammps import IPyLammps"
   ]
  },
  {
   "cell_type": "code",
   "execution_count": 2,
   "metadata": {},
   "outputs": [
    {
     "name": "stdout",
     "output_type": "stream",
     "text": [
      "LAMMPS output is captured by PyLammps wrapper\n"
     ]
    }
   ],
   "source": [
    "L = IPyLammps()\n",
    "L.dimension(\"2\")\n",
    "L.atom_style(\"sphere\")\n",
    "L.atom_modify(\"map array\")\n",
    "L.boundary(\"f fm p\")\n",
    "L.newton(\"off\")\n",
    "L.comm_modify(\"vel yes cutoff 2.5\")\n",
    "L.fix(\"prop all property/atom mol ghost yes\")\n",
    "L.region(\"reg block 0 100 0 50 -0.5 0.5 units box\")\n",
    "L.create_box(\"1 reg\")\n",
    "L.neighbor(\"0.2 bin\")\n",
    "L.neigh_modify(\"delay 0\")"
   ]
  },
  {
   "cell_type": "code",
   "execution_count": 3,
   "metadata": {},
   "outputs": [],
   "source": [
    "# IMPORTANT NOTE: these values of stiffness (4000) and timestep (0.001)\n",
    "# are used in this example file to produce a quick simulation and movie.\n",
    "# More appropriate values for realistic simulations would be\n",
    "# k = 4.0e5 and dt = 0.0001, as in bench/in.chute (if it were Hertzian).\n",
    "\n",
    "L.pair_style(\"gran/hertz/history 4000.0 NULL 100.0 NULL 0.5 0\")\n",
    "L.pair_coeff(\"* *\")"
   ]
  },
  {
   "cell_type": "code",
   "execution_count": 4,
   "metadata": {},
   "outputs": [],
   "source": [
    "L.fix(\"2 all gravity 1.0 spherical 0.0 -180.0\")\n",
    "L.fix(\"xwalls all wall/gran hertz/history 4000.0 NULL 100.0 NULL 0 1 xplane 0 100\")\n",
    "L.fix(\"ywalls all wall/gran hertz/history 4000.0 NULL 100.0 NULL 0 1 yplane 0 NULL\")\n",
    "L.molecule(\"object molecule.vshape\")\n",
    "L.fix(\"3 all rigid/small molecule mol object\")\n",
    "\n",
    "# insure region size + molecule size does not overlap wall\n",
    "L.region(\"slab block 3.0 97.0 30 34.5 -0.5 0.5 units box\")\n",
    "L.fix(\"ins all pour 500 0 4767548 vol 0.8 10 region slab mol object rigid 3\")\n",
    "L.fix(\"4 all enforce2d\")\n",
    "L.compute(\"1 all erotate/sphere\")\n",
    "L.compute(\"Tsphere all temp/sphere\")"
   ]
  },
  {
   "cell_type": "code",
   "execution_count": 5,
   "metadata": {},
   "outputs": [],
   "source": [
    "L.dump(\"id all atom 100 tmp.dump\")\n",
    "\n",
    "L.variable(\"colors\",\"string\",'\"red green blue yellow white purple pink orange lime gray\"')\n",
    "L.variable(\"mol2 atom mol%10\")       \n",
    "L.dump(\"2 all image 250 image.*.jpg v_mol2 type zoom 1.6 adiam 1.5\")\n",
    "L.dump_modify(\"2 pad 5 amap 0 10 sa 1 10 ${colors}\")\n",
    "\n",
    "L.variable(\"colors\",\"string\",'\"red green blue yellow white purple pink orange lime gray\"')\n",
    "L.variable(\"mol3 atom mol%10\")\n",
    "L.dump(\"3 all movie 250 mov.mp4 v_mol3 type zoom 1.6 adiam 1.5\")\n",
    "L.dump_modify(\"3 pad 5 amap 0 10 sa 1 10 ${colors}\")"
   ]
  },
  {
   "cell_type": "code",
   "execution_count": 6,
   "metadata": {},
   "outputs": [
    {
     "data": {
      "text/plain": [
       "['Neighbor list info ...',\n",
       " '  update every 1 steps, delay 0 steps, check yes',\n",
       " '  max neighbors/atom: 2000, page size: 100000',\n",
       " '  master list distance cutoff = 1.2',\n",
       " '  ghost atom cutoff = 2.5',\n",
       " '  binsize = 0.6, bins = 167 84 2',\n",
       " '  1 neighbor lists, perpetual/occasional/extra = 1 0 0',\n",
       " '  (1) pair gran/hertz/history, perpetual',\n",
       " '      attributes: half, newton off, size, history',\n",
       " '      pair build: half/size/bin/newtoff',\n",
       " '      stencil: half/bin/2d/newtoff',\n",
       " '      bin: standard',\n",
       " 'Setting up Verlet run ...',\n",
       " '  Unit style    : lj',\n",
       " '  Current step  : 0',\n",
       " '  Time step     : 0.001',\n",
       " 'Per MPI rank memory allocation (min/avg/max) = 5.81 | 5.81 | 5.81 Mbytes',\n",
       " 'Step Atoms KinEng c_1 Volume ',\n",
       " '       0        0           -0            0         5000 ',\n",
       " 'WARNING: Less insertions than requested (../fix_pour.cpp:679)',\n",
       " '    1000      195    324.61298 3.1703724e-30         5000 ',\n",
       " 'WARNING: Less insertions than requested (../fix_pour.cpp:679)',\n",
       " 'WARNING: Less insertions than requested (../fix_pour.cpp:679)',\n",
       " '    2000      305    721.26954 0.0010191595         5000 ',\n",
       " 'WARNING: Less insertions than requested (../fix_pour.cpp:679)',\n",
       " '    3000      340    1270.6317 0.0010770058         5000 ',\n",
       " 'WARNING: Less insertions than requested (../fix_pour.cpp:679)',\n",
       " 'WARNING: Less insertions than requested (../fix_pour.cpp:679)',\n",
       " '    4000      500    2167.0141  0.014807438         5000 ',\n",
       " 'WARNING: Less insertions than requested (../fix_pour.cpp:679)',\n",
       " 'WARNING: Less insertions than requested (../fix_pour.cpp:679)',\n",
       " '    5000      565    3336.8676  0.023597637         5000 ',\n",
       " 'WARNING: Less insertions than requested (../fix_pour.cpp:679)',\n",
       " '    6000      620    3959.6812    2.3583209         5000 ',\n",
       " 'WARNING: Less insertions than requested (../fix_pour.cpp:679)',\n",
       " 'WARNING: Less insertions than requested (../fix_pour.cpp:679)',\n",
       " '    7000      765     3920.036    4.2140442         5000 ',\n",
       " 'WARNING: Less insertions than requested (../fix_pour.cpp:679)',\n",
       " 'WARNING: Less insertions than requested (../fix_pour.cpp:679)',\n",
       " '    8000      870     3988.508    4.3694204         5000 ',\n",
       " 'WARNING: Less insertions than requested (../fix_pour.cpp:679)',\n",
       " '    9000      940    3599.4083    4.6371738         5000 ',\n",
       " 'WARNING: Less insertions than requested (../fix_pour.cpp:679)',\n",
       " 'WARNING: Less insertions than requested (../fix_pour.cpp:679)',\n",
       " '   10000     1015    3444.5321    7.8774809         5000 ',\n",
       " 'WARNING: Less insertions than requested (../fix_pour.cpp:679)',\n",
       " 'WARNING: Less insertions than requested (../fix_pour.cpp:679)',\n",
       " '   11000     1175    3020.8181    3.9694468         5000 ',\n",
       " 'WARNING: Less insertions than requested (../fix_pour.cpp:679)',\n",
       " '   12000     1220    2876.6005    5.9004906         5000 ',\n",
       " 'WARNING: Less insertions than requested (../fix_pour.cpp:679)',\n",
       " 'WARNING: Less insertions than requested (../fix_pour.cpp:679)',\n",
       " '   13000     1315      2646.21    4.8610714         5000 ',\n",
       " 'WARNING: Less insertions than requested (../fix_pour.cpp:679)',\n",
       " 'WARNING: Less insertions than requested (../fix_pour.cpp:679)',\n",
       " '   14000     1440    2609.3682    4.9790033         5000 ',\n",
       " 'WARNING: Less insertions than requested (../fix_pour.cpp:679)',\n",
       " '   15000     1500    2281.8867    5.0489978         5000 ',\n",
       " 'WARNING: Less insertions than requested (../fix_pour.cpp:679)',\n",
       " 'WARNING: Less insertions than requested (../fix_pour.cpp:679)',\n",
       " '   16000     1550    2080.2165    2.4996986         5000 ',\n",
       " 'WARNING: Less insertions than requested (../fix_pour.cpp:679)',\n",
       " 'WARNING: Less insertions than requested (../fix_pour.cpp:679)',\n",
       " '   17000     1685    1696.4974      4.13177         5000 ',\n",
       " 'WARNING: Less insertions than requested (../fix_pour.cpp:679)',\n",
       " '   18000     1760    1489.5299    2.9732049         5000 ',\n",
       " 'WARNING: Less insertions than requested (../fix_pour.cpp:679)',\n",
       " 'WARNING: Less insertions than requested (../fix_pour.cpp:679)',\n",
       " '   19000     1850    1531.5538    2.6370692         5000 ',\n",
       " 'WARNING: Less insertions than requested (../fix_pour.cpp:679)',\n",
       " 'WARNING: Less insertions than requested (../fix_pour.cpp:679)',\n",
       " '   20000     1970    1384.1997    3.8994745         5000 ',\n",
       " 'WARNING: Less insertions than requested (../fix_pour.cpp:679)',\n",
       " '   21000     2015     1156.487    4.1102939         5000 ',\n",
       " 'WARNING: Less insertions than requested (../fix_pour.cpp:679)',\n",
       " 'WARNING: Less insertions than requested (../fix_pour.cpp:679)',\n",
       " '   22000     2155    1014.2164    3.2781513         5000 ',\n",
       " 'WARNING: Less insertions than requested (../fix_pour.cpp:679)',\n",
       " 'WARNING: Less insertions than requested (../fix_pour.cpp:679)',\n",
       " '   23000     2250    842.62756     4.424857         5000 ',\n",
       " 'WARNING: Less insertions than requested (../fix_pour.cpp:679)',\n",
       " '   24000     2365    680.06995    3.2322567         5000 ',\n",
       " 'WARNING: Less insertions than requested (../fix_pour.cpp:679)',\n",
       " 'WARNING: Less insertions than requested (../fix_pour.cpp:679)',\n",
       " '   25000     2445    479.25074    2.7008018         5000 ',\n",
       " 'Loop time of 5.99421 on 1 procs for 25000 steps with 2445 atoms',\n",
       " '',\n",
       " 'Performance: 360347.678 tau/day, 4170.691 timesteps/s',\n",
       " '92.4% CPU use with 1 MPI tasks x 1 OpenMP threads',\n",
       " '',\n",
       " 'MPI task timing breakdown:',\n",
       " 'Section |  min time  |  avg time  |  max time  |%varavg| %total',\n",
       " '---------------------------------------------------------------',\n",
       " 'Pair    | 1.3936     | 1.3936     | 1.3936     |   0.0 | 23.25',\n",
       " 'Neigh   | 0.27439    | 0.27439    | 0.27439    |   0.0 |  4.58',\n",
       " 'Comm    | 0.014076   | 0.014076   | 0.014076   |   0.0 |  0.23',\n",
       " 'Output  | 1.5112     | 1.5112     | 1.5112     |   0.0 | 25.21',\n",
       " 'Modify  | 2.703      | 2.703      | 2.703      |   0.0 | 45.09',\n",
       " 'Other   |            | 0.09798    |            |       |  1.63',\n",
       " '',\n",
       " 'Nlocal:    2445 ave 2445 max 2445 min',\n",
       " 'Histogram: 1 0 0 0 0 0 0 0 0 0',\n",
       " 'Nghost:    0 ave 0 max 0 min',\n",
       " 'Histogram: 1 0 0 0 0 0 0 0 0 0',\n",
       " 'Neighs:    4017 ave 4017 max 4017 min',\n",
       " 'Histogram: 1 0 0 0 0 0 0 0 0 0',\n",
       " '',\n",
       " 'Total # of neighbors = 4017',\n",
       " 'Ave neighs/atom = 1.64294',\n",
       " 'Neighbor list builds = 1599',\n",
       " 'Dangerous builds = 0']"
      ]
     },
     "execution_count": 6,
     "metadata": {},
     "output_type": "execute_result"
    }
   ],
   "source": [
    "L.thermo_style(\"custom step atoms ke c_1 vol\")\n",
    "L.thermo_modify(\"lost ignore norm no temp Tsphere\")\n",
    "L.compute_modify(\"Tsphere dynamic/dof yes\")\n",
    "L.thermo(\"1000\")\n",
    "L.timestep(\"0.001\")\n",
    "L.run(\"25000\")"
   ]
  },
  {
   "cell_type": "code",
   "execution_count": 7,
   "metadata": {},
   "outputs": [
    {
     "data": {
      "text/html": [
       "<video controls><source src=\"mov.mp4\"></video>"
      ],
      "text/plain": [
       "<IPython.core.display.HTML object>"
      ]
     },
     "execution_count": 7,
     "metadata": {},
     "output_type": "execute_result"
    }
   ],
   "source": [
    "L.undump(\"3\")\n",
    "L.video(\"mov.mp4\")"
   ]
  },
  {
   "cell_type": "code",
   "execution_count": null,
   "metadata": {},
   "outputs": [],
   "source": []
  }
 ],
 "metadata": {
  "kernelspec": {
   "display_name": "Python 3",
   "language": "python",
   "name": "python3"
  },
  "language_info": {
   "codemirror_mode": {
    "name": "ipython",
    "version": 3
   },
   "file_extension": ".py",
   "mimetype": "text/x-python",
   "name": "python",
   "nbconvert_exporter": "python",
   "pygments_lexer": "ipython3",
   "version": "3.7.0"
  }
 },
 "nbformat": 4,
 "nbformat_minor": 2
}
