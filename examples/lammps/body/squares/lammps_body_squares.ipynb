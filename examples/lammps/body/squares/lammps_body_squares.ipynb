{
 "cells": [
  {
   "cell_type": "markdown",
   "metadata": {},
   "source": [
    "# Jupyter Example\n",
    "## LAMMPS: body/in.squares\n",
    "Reference: https://github.com/lammps/lammps/blob/master/examples/body/in.squares  \n",
    "Required files: data.squares  \n",
    "Description: 2d rounded polygon bodies"
   ]
  },
  {
   "cell_type": "code",
   "execution_count": 1,
   "metadata": {},
   "outputs": [],
   "source": [
    "from __future__ import print_function\n",
    "import random, math\n",
    "from lammps import IPyLammps"
   ]
  },
  {
   "cell_type": "code",
   "execution_count": 2,
   "metadata": {},
   "outputs": [
    {
     "name": "stdout",
     "output_type": "stream",
     "text": [
      "LAMMPS output is captured by PyLammps wrapper\n"
     ]
    },
    {
     "data": {
      "text/plain": [
       "['Reading data file ...',\n",
       " '  orthogonal box = (0 0 -0.5) to (12 12 0.5)',\n",
       " '  1 by 1 by 1 MPI processor grid',\n",
       " '  reading atoms ...',\n",
       " '  2 atoms',\n",
       " '  2 bodies']"
      ]
     },
     "execution_count": 2,
     "metadata": {},
     "output_type": "execute_result"
    }
   ],
   "source": [
    "L = IPyLammps()\n",
    "\n",
    "L.units(\"lj\")\n",
    "L.dimension(\"2\")\n",
    "L.atom_style(\"body rounded/polygon 1 6\")\n",
    "L.atom_modify(\"map array\")\n",
    "L.read_data(\"data.squares\")"
   ]
  },
  {
   "cell_type": "code",
   "execution_count": 3,
   "metadata": {},
   "outputs": [],
   "source": [
    "L.variable(\"r index 4\")\n",
    "L.variable(\"steps index 10000\")\n",
    "L.variable(\"T index 0.5\")\n",
    "L.variable(\"P index 0.1\")\n",
    "L.variable(\"seed index 980411\")\n",
    "L.replicate(\"$r $r 1\")\n",
    "L.velocity(\"all create $T ${seed} dist gaussian mom yes rot yes\")"
   ]
  },
  {
   "cell_type": "code",
   "execution_count": 4,
   "metadata": {},
   "outputs": [],
   "source": [
    "L.variable(\"cut_inner equal 0.5\")\n",
    "L.variable(\"k_n equal 100\")\n",
    "L.variable(\"k_na equal 2\")\n",
    "L.variable(\"c_n equal 1\")\n",
    "L.variable(\"c_t equal 1\")\n",
    "L.variable(\"mu equal 0.1\")\n",
    "L.variable(\"delta_ua equal 0.5\")\n",
    "L.pair_style(\"body/rounded/polygon ${c_n} ${c_t} ${mu} ${delta_ua} ${cut_inner}\")\n",
    "L.pair_coeff(\"* * ${k_n} ${k_na}\")\n",
    "L.comm_modify(\"vel yes\")"
   ]
  },
  {
   "cell_type": "code",
   "execution_count": 5,
   "metadata": {},
   "outputs": [],
   "source": [
    "L.neighbor(\"0.5 bin\")\n",
    "L.neigh_modify(\"every 1 delay 0 check yes\")\n",
    "\n",
    "#L.fix(\"1 all nve/body\")\n",
    "#L.fix(\"1 all nvt/body temp $T $T 1.0\")\n",
    "L.fix(\"1 all npt/body temp $T $T 1.0 x 0.001 $P 1.0 y 0.001 $P 1.0 couple xy fixedpoint 0 0 0\")\n",
    "L.fix(\"2 all enforce2d\")"
   ]
  },
  {
   "cell_type": "code",
   "execution_count": 6,
   "metadata": {},
   "outputs": [],
   "source": [
    "L.compute(\"1 all body/local id 1 2 3\")\n",
    "L.dump(\"1 all local 1000 dump.polygon.* index c_1[1] c_1[2] c_1[3] c_1[4]\")\n",
    "\n",
    "#L.dump(\"2 all image 1000 image.*.jpg type type zoom 2.0 adiam 1.5 body type 0 0\")\n",
    "#L.dump_modify(\"2 pad 6\")\n",
    "\n",
    "L.dump(\"2 all movie 1000 mov.mp4 type type zoom 1.0 adiam 1.5 body type 0 0\")\n",
    "L.dump_modify(\"2 pad 6\")"
   ]
  },
  {
   "cell_type": "code",
   "execution_count": 7,
   "metadata": {},
   "outputs": [
    {
     "data": {
      "text/plain": [
       "['Neighbor list info ...',\n",
       " '  update every 1 steps, delay 0 steps, check yes',\n",
       " '  max neighbors/atom: 2000, page size: 100000',\n",
       " '  master list distance cutoff = 6.15685',\n",
       " '  ghost atom cutoff = 6.15685',\n",
       " '  binsize = 3.07843, bins = 16 16 1',\n",
       " '  1 neighbor lists, perpetual/occasional/extra = 1 0 0',\n",
       " '  (1) pair body/rounded/polygon, perpetual',\n",
       " '      attributes: half, newton on',\n",
       " '      pair build: half/bin/atomonly/newton',\n",
       " '      stencil: half/bin/2d/newton',\n",
       " '      bin: standard',\n",
       " 'Setting up Verlet run ...',\n",
       " '  Unit style    : lj',\n",
       " '  Current step  : 0',\n",
       " '  Time step     : 0.001',\n",
       " 'Per MPI rank memory allocation (min/avg/max) = 6.342 | 6.342 | 6.342 Mbytes',\n",
       " 'Step KinEng PotEng TotEng Press ',\n",
       " '       0     0.484375         0.25     0.734375 0.0067274306 ',\n",
       " '    1000   0.47546844 0.0017172058   0.47718564 0.0035093065 ',\n",
       " '    2000   0.63963318   0.20530714   0.84494032  0.023913933 ',\n",
       " '    3000   0.81423506  0.091172659   0.90540772 -0.0028257245 ',\n",
       " '    4000   0.53335792   0.33006426   0.86342217  0.051892483 ',\n",
       " '    5000   0.40227947   0.20048085   0.60276033  0.025640484 ',\n",
       " '    6000   0.40335677   0.34963847   0.75299525  0.053628254 ',\n",
       " '    7000   0.34053715   0.27508911   0.61562627  0.055873666 ',\n",
       " '    8000    0.4558856   0.16797197   0.62385757    0.2094566 ',\n",
       " '    9000   0.51577457   0.39673748   0.91251205  0.023654379 ',\n",
       " '   10000   0.41158045   0.45113136   0.86271181  0.040129544 ',\n",
       " 'Loop time of 0.314488 on 1 procs for 10000 steps with 32 atoms',\n",
       " '',\n",
       " 'Performance: 2747323.208 tau/day, 31797.722 timesteps/s',\n",
       " '85.4% CPU use with 1 MPI tasks x 1 OpenMP threads',\n",
       " '',\n",
       " 'MPI task timing breakdown:',\n",
       " 'Section |  min time  |  avg time  |  max time  |%varavg| %total',\n",
       " '---------------------------------------------------------------',\n",
       " 'Pair    | 0.15438    | 0.15438    | 0.15438    |   0.0 | 49.09',\n",
       " 'Neigh   | 0.00073195 | 0.00073195 | 0.00073195 |   0.0 |  0.23',\n",
       " 'Comm    | 0.0071409  | 0.0071409  | 0.0071409  |   0.0 |  2.27',\n",
       " 'Output  | 0.072672   | 0.072672   | 0.072672   |   0.0 | 23.11',\n",
       " 'Modify  | 0.074806   | 0.074806   | 0.074806   |   0.0 | 23.79',\n",
       " 'Other   |            | 0.004761   |            |       |  1.51',\n",
       " '',\n",
       " 'Nlocal:    32 ave 32 max 32 min',\n",
       " 'Histogram: 1 0 0 0 0 0 0 0 0 0',\n",
       " 'Nghost:    33 ave 33 max 33 min',\n",
       " 'Histogram: 1 0 0 0 0 0 0 0 0 0',\n",
       " 'Neighs:    57 ave 57 max 57 min',\n",
       " 'Histogram: 1 0 0 0 0 0 0 0 0 0',\n",
       " '',\n",
       " 'Total # of neighbors = 57',\n",
       " 'Ave neighs/atom = 1.78125',\n",
       " 'Neighbor list builds = 333',\n",
       " 'Dangerous builds = 0']"
      ]
     },
     "execution_count": 7,
     "metadata": {},
     "output_type": "execute_result"
    }
   ],
   "source": [
    "L.thermo(\"1000\")\n",
    "L.thermo_style(\"custom step ke pe etotal press\")\n",
    "L.timestep(\"0.001\")\n",
    "L.run(\"${steps}\")"
   ]
  },
  {
   "cell_type": "code",
   "execution_count": 8,
   "metadata": {},
   "outputs": [
    {
     "data": {
      "text/html": [
       "<video controls><source src=\"mov.mp4\"></video>"
      ],
      "text/plain": [
       "<IPython.core.display.HTML object>"
      ]
     },
     "execution_count": 8,
     "metadata": {},
     "output_type": "execute_result"
    }
   ],
   "source": [
    "L.undump(2)\n",
    "L.video(\"mov.mp4\")"
   ]
  }
 ],
 "metadata": {
  "kernelspec": {
   "display_name": "Python 3",
   "language": "python",
   "name": "python3"
  },
  "language_info": {
   "codemirror_mode": {
    "name": "ipython",
    "version": 3
   },
   "file_extension": ".py",
   "mimetype": "text/x-python",
   "name": "python",
   "nbconvert_exporter": "python",
   "pygments_lexer": "ipython3",
   "version": "3.7.0"
  }
 },
 "nbformat": 4,
 "nbformat_minor": 2
}
