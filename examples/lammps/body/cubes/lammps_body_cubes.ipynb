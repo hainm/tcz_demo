{
 "cells": [
  {
   "cell_type": "markdown",
   "metadata": {},
   "source": [
    "# Jupyter Example\n",
    "## LAMMPS: body/in.cubes\n",
    "Reference: https://github.com/lammps/lammps/blob/master/examples/body/in.cubes  \n",
    "Required files: data.cubes  \n",
    "Description: 3d rounded cubes"
   ]
  },
  {
   "cell_type": "code",
   "execution_count": 1,
   "metadata": {},
   "outputs": [],
   "source": [
    "from __future__ import print_function\n",
    "import random, math\n",
    "from lammps import IPyLammps"
   ]
  },
  {
   "cell_type": "code",
   "execution_count": 2,
   "metadata": {},
   "outputs": [
    {
     "name": "stdout",
     "output_type": "stream",
     "text": [
      "LAMMPS output is captured by PyLammps wrapper\n"
     ]
    }
   ],
   "source": [
    "L = IPyLammps()\n",
    "L.variable(\"r index 3\")\n",
    "L.variable(\"steps index 10000\")\n",
    "L.units(\"lj\")\n",
    "L.dimension(\"3\")\n",
    "L.atom_style(\"body rounded/polyhedron 1 10\")\n",
    "L.read_data(\"data.cubes\")\n",
    "L.replicate(\"$r $r $r\")\n",
    "L.velocity(\"all create 1.2 187287 dist gaussian mom yes rot yes\")\n",
    "L.variable(\"cut_inner equal 0.5\")\n",
    "L.variable(\"k_n equal 100\")\n",
    "L.variable(\"k_na equal 1\")\n",
    "L.variable(\"c_n equal 20\")\n",
    "L.variable(\"c_t equal 5\")\n",
    "L.variable(\"mu equal 0\")\n",
    "L.variable(\"A_ua equal 1\")\n",
    "L.pair_style(\"body/rounded/polyhedron ${c_n} ${c_t} ${mu} ${A_ua} ${cut_inner}\")\n",
    "L.pair_coeff(\"* * ${k_n} ${k_na}\")\n",
    "L.comm_modify(\"vel yes\")"
   ]
  },
  {
   "cell_type": "code",
   "execution_count": 3,
   "metadata": {},
   "outputs": [],
   "source": [
    "L.neighbor(\"0.5 bin\")\n",
    "L.neigh_modify(\"every 1 delay 0 check yes\")\n",
    "\n",
    "#L.fix(\"1 all nve/body\")\n",
    "L.fix(\"1 all nvt/body temp 1.2 1.2 0.1\")\n",
    "#L.fix(\"1 all npt/body temp 1.2 1.2 0.1 iso 0.002 0.02 1.0\")"
   ]
  },
  {
   "cell_type": "code",
   "execution_count": 4,
   "metadata": {},
   "outputs": [],
   "source": [
    "L.compute(\"p2 all pressure 1_temp\")\n",
    "L.compute(\"1 all body/local id 1 2 3\")"
   ]
  },
  {
   "cell_type": "code",
   "execution_count": 5,
   "metadata": {},
   "outputs": [],
   "source": [
    "L.dump(\"1 all local 1000 dump.* index c_1[1] c_1[2] c_1[3] c_1[4]\")\n",
    "\n",
    "#L.dump(\"2 all image 1000 image.*.jpg type type zoom 1.5 adiam 1.5 body type 0 0 view 60 15\")\n",
    "#L.dump_modify(\"2 pad 6\")\n",
    "\n",
    "L.dump(\"2 all movie 1000 mov.mp4 type type zoom 1 adiam 1.5 body type 0 0 view 60 15\")\n",
    "L.dump_modify(\"2 pad 6\")"
   ]
  },
  {
   "cell_type": "code",
   "execution_count": 6,
   "metadata": {},
   "outputs": [
    {
     "data": {
      "text/plain": [
       "['Neighbor list info ...',\n",
       " '  update every 1 steps, delay 0 steps, check yes',\n",
       " '  max neighbors/atom: 2000, page size: 100000',\n",
       " '  master list distance cutoff = 3.9641',\n",
       " '  ghost atom cutoff = 3.9641',\n",
       " '  binsize = 1.98205, bins = 10 10 10',\n",
       " '  1 neighbor lists, perpetual/occasional/extra = 1 0 0',\n",
       " '  (1) pair body/rounded/polyhedron, perpetual',\n",
       " '      attributes: half, newton on',\n",
       " '      pair build: half/bin/atomonly/newton',\n",
       " '      stencil: half/bin/3d/newton',\n",
       " '      bin: standard',\n",
       " 'Setting up Verlet run ...',\n",
       " '  Unit style    : lj',\n",
       " '  Current step  : 0',\n",
       " '  Time step     : 0.001',\n",
       " 'Per MPI rank memory allocation (min/avg/max) = 6.525 | 6.525 | 6.525 Mbytes',\n",
       " 'Step KinEng PotEng TotEng c_p2 c_1_temp ',\n",
       " '       0    1.7666667            0    1.7666667   0.01090535   0.59439252 ',\n",
       " '    1000    3.1462962   0.17392649    3.3202227   0.02361912    1.1654694 ',\n",
       " '    2000    2.9311648   0.13836102    3.0695258  0.021748224    1.1950624 ',\n",
       " '    3000     3.090491   0.16511199     3.255603  0.018691142      1.23672 ',\n",
       " '    4000    2.7401565   0.17792155    2.9180781  0.015093853    1.1180839 ',\n",
       " '    5000    3.0880849   0.17587085    3.2639557  0.030563042    1.2831154 ',\n",
       " '    6000    3.2180776   0.19732251    3.4154001  0.028338151     1.258839 ',\n",
       " '    7000    2.9514882   0.25088882     3.202377  0.025296925    1.1746326 ',\n",
       " '    8000    3.0101226   0.28825968    3.2983823  0.027273454    1.2138056 ',\n",
       " '    9000    3.0164253    0.1901733    3.2065986  0.033228915    1.3095914 ',\n",
       " '   10000    2.3780401   0.34082434    2.7188644  0.031838531    1.0208679 ',\n",
       " 'Loop time of 32.7742 on 1 procs for 10000 steps with 54 atoms',\n",
       " '',\n",
       " 'Performance: 26362.183 tau/day, 305.118 timesteps/s',\n",
       " '99.6% CPU use with 1 MPI tasks x 1 OpenMP threads',\n",
       " '',\n",
       " 'MPI task timing breakdown:',\n",
       " 'Section |  min time  |  avg time  |  max time  |%varavg| %total',\n",
       " '---------------------------------------------------------------',\n",
       " 'Pair    | 32.495     | 32.495     | 32.495     |   0.0 | 99.15',\n",
       " 'Neigh   | 0.0033667  | 0.0033667  | 0.0033667  |   0.0 |  0.01',\n",
       " 'Comm    | 0.029353   | 0.029353   | 0.029353   |   0.0 |  0.09',\n",
       " 'Output  | 0.15779    | 0.15779    | 0.15779    |   0.0 |  0.48',\n",
       " 'Modify  | 0.082434   | 0.082434   | 0.082434   |   0.0 |  0.25',\n",
       " 'Other   |            | 0.006395   |            |       |  0.02',\n",
       " '',\n",
       " 'Nlocal:    54 ave 54 max 54 min',\n",
       " 'Histogram: 1 0 0 0 0 0 0 0 0 0',\n",
       " 'Nghost:    96 ave 96 max 96 min',\n",
       " 'Histogram: 1 0 0 0 0 0 0 0 0 0',\n",
       " 'Neighs:    100 ave 100 max 100 min',\n",
       " 'Histogram: 1 0 0 0 0 0 0 0 0 0',\n",
       " '',\n",
       " 'Total # of neighbors = 100',\n",
       " 'Ave neighs/atom = 1.85185',\n",
       " 'Neighbor list builds = 268',\n",
       " 'Dangerous builds = 0']"
      ]
     },
     "execution_count": 6,
     "metadata": {},
     "output_type": "execute_result"
    }
   ],
   "source": [
    "L.thermo_style(\"custom step ke pe etotal c_p2 c_1_temp\")\n",
    "L.thermo(\"1000\")\n",
    "L.timestep(\"0.001\")\n",
    "L.run(\"${steps}\")"
   ]
  },
  {
   "cell_type": "code",
   "execution_count": 7,
   "metadata": {},
   "outputs": [
    {
     "data": {
      "text/html": [
       "<video controls><source src=\"mov.mp4\"></video>"
      ],
      "text/plain": [
       "<IPython.core.display.HTML object>"
      ]
     },
     "execution_count": 7,
     "metadata": {},
     "output_type": "execute_result"
    }
   ],
   "source": [
    "L.undump(2)\n",
    "L.video(\"mov.mp4\")"
   ]
  },
  {
   "cell_type": "code",
   "execution_count": null,
   "metadata": {},
   "outputs": [],
   "source": []
  }
 ],
 "metadata": {
  "kernelspec": {
   "display_name": "Python 3",
   "language": "python",
   "name": "python3"
  },
  "language_info": {
   "codemirror_mode": {
    "name": "ipython",
    "version": 3
   },
   "file_extension": ".py",
   "mimetype": "text/x-python",
   "name": "python",
   "nbconvert_exporter": "python",
   "pygments_lexer": "ipython3",
   "version": "3.7.0"
  }
 },
 "nbformat": 4,
 "nbformat_minor": 2
}
