{
 "cells": [
  {
   "cell_type": "markdown",
   "metadata": {},
   "source": [
    "# Jupyter Example\n",
    "## LAMMPS: body/in.pour3d\n",
    "Reference: https://github.com/lammps/lammps/blob/master/examples/body/in.pour3d  \n",
    "Required files: molecule.cube, molecule.point3d, molecule.rod3d, molecule.tetra  \n",
    "Description: pouring 3d rounded polyhedron bodies"
   ]
  },
  {
   "cell_type": "code",
   "execution_count": 1,
   "metadata": {},
   "outputs": [],
   "source": [
    "from __future__ import print_function\n",
    "import random, math\n",
    "from lammps import IPyLammps"
   ]
  },
  {
   "cell_type": "code",
   "execution_count": 2,
   "metadata": {},
   "outputs": [
    {
     "name": "stdout",
     "output_type": "stream",
     "text": [
      "LAMMPS output is captured by PyLammps wrapper\n"
     ]
    },
    {
     "data": {
      "text/plain": [
       "['Created orthogonal box = (0 0 0) to (50 50 50)',\n",
       " '  1 by 1 by 1 MPI processor grid']"
      ]
     },
     "execution_count": 2,
     "metadata": {},
     "output_type": "execute_result"
    }
   ],
   "source": [
    "L = IPyLammps()\n",
    "\n",
    "L.variable(\"steps index 6000\")\n",
    "L.units(\"lj\")\n",
    "L.boundary(\"p p fm\")\n",
    "L.comm_modify(\"vel yes\")\n",
    "L.atom_style(\"body rounded/polyhedron 1 8\")\n",
    "L.atom_modify(\"map array\")\n",
    "L.region(\"reg block 0 50 0 50 0 50 units box\")\n",
    "L.create_box(\"4 reg\")"
   ]
  },
  {
   "cell_type": "code",
   "execution_count": 3,
   "metadata": {},
   "outputs": [],
   "source": [
    "L.variable(\"cut_inner equal 0.5\")\n",
    "L.variable(\"k_n equal 100\")\n",
    "L.variable(\"k_na equal 5\")\n",
    "L.variable(\"c_n equal 20\")\n",
    "L.variable(\"c_t equal 5\")\n",
    "L.variable(\"mu equal 0\")\n",
    "L.variable(\"A_ua equal 1\")\n",
    "L.pair_style(\"body/rounded/polyhedron ${c_n} ${c_t} ${mu} ${A_ua} ${cut_inner}\")\n",
    "L.pair_coeff(\"* * ${k_n} ${k_na}\")"
   ]
  },
  {
   "cell_type": "code",
   "execution_count": 4,
   "metadata": {},
   "outputs": [],
   "source": [
    "L.neighbor(\"0.5 bin\")\n",
    "L.neigh_modify(\"every 1 delay 0 check yes\")\n",
    "\n",
    "L.fix(\"1 all nve/body\")\n",
    "L.fix(\"2 all gravity 1.0 spherical 0.0 -180.0\")\n",
    "\n",
    "L.molecule(\"object molecule.cube molecule.tetra toff 1 molecule.rod3d toff 2 molecule.point3d toff 3\")\n",
    "L.region(\"slab block 5 45 5 45 25 35 units box\")\n",
    "\n",
    "L.fix(\"ins all pour 500 0 4767548 vol 0.4 10 region slab mol object molfrac 0.25 0.25 0.25 0.25\")\n",
    "L.fix(\"4 all wall/body/polyhedron 2000 50 50 zplane 0.0 NULL\")"
   ]
  },
  {
   "cell_type": "code",
   "execution_count": 5,
   "metadata": {},
   "outputs": [],
   "source": [
    "L.compute(\"1 all body/local type 1 2 3\")\n",
    "L.dump(\"1 all local 1000 dump.polyhedron index c_1[1] c_1[2] c_1[3] c_1[4]\")\n",
    "L.dump(\"10 all custom 1000 tmp.dump id type x y z radius\")\n",
    "\n",
    "#L.dump(\"2 all image 500 image.*.jpg type type zoom 1.5 adiam 1.5 body type 0 0 view 75 15\")\n",
    "#L.dump_modify(\"2 pad 6\")\n",
    "\n",
    "L.dump(\"2 all movie 1000 mov.mp4 type type zoom 1.2 adiam 1.5 body type 0 0 view 75 15\")\n",
    "L.dump_modify(\"2 pad 6\")"
   ]
  },
  {
   "cell_type": "code",
   "execution_count": 6,
   "metadata": {},
   "outputs": [
    {
     "data": {
      "text/plain": [
       "['Neighbor list info ...',\n",
       " '  update every 1 steps, delay 0 steps, check yes',\n",
       " '  max neighbors/atom: 2000, page size: 100000',\n",
       " '  master list distance cutoff = 5',\n",
       " '  ghost atom cutoff = 5',\n",
       " '  binsize = 2.5, bins = 20 20 20',\n",
       " '  1 neighbor lists, perpetual/occasional/extra = 1 0 0',\n",
       " '  (1) pair body/rounded/polyhedron, perpetual',\n",
       " '      attributes: half, newton on',\n",
       " '      pair build: half/bin/atomonly/newton',\n",
       " '      stencil: half/bin/3d/newton',\n",
       " '      bin: standard',\n",
       " 'Setting up Verlet run ...',\n",
       " '  Unit style    : lj',\n",
       " '  Current step  : 0',\n",
       " '  Time step     : 0.001',\n",
       " 'Per MPI rank memory allocation (min/avg/max) = 0.5065 | 0.5065 | 0.5065 Mbytes',\n",
       " 'Step Atoms KinEng PotEng TotEng Press ',\n",
       " '       0        0           -0            0            0            0 ',\n",
       " 'WARNING: Less insertions than requested (../fix_pour.cpp:679)',\n",
       " '    1000      175           -0   0.02073543   0.02073543 -6.062863e-05 ',\n",
       " 'WARNING: Less insertions than requested (../fix_pour.cpp:679)',\n",
       " '    2000      225           -0   0.02170854   0.02170854 -0.00011353812 ',\n",
       " 'WARNING: Less insertions than requested (../fix_pour.cpp:679)',\n",
       " '    3000      295           -0  0.015259642  0.015259642 -6.6486843e-05 ',\n",
       " 'WARNING: Less insertions than requested (../fix_pour.cpp:679)',\n",
       " '    4000      351           -0  0.002624612  0.002624612 -1.9355644e-05 ',\n",
       " 'WARNING: Less insertions than requested (../fix_pour.cpp:679)',\n",
       " '    5000      425           -0  0.013632349  0.013632349 0.00031749385 ',\n",
       " 'WARNING: Less insertions than requested (../fix_pour.cpp:679)',\n",
       " '    6000      467           -0  0.085785261  0.085785261 0.00023395507 ',\n",
       " 'Loop time of 0.721473 on 1 procs for 6000 steps with 467 atoms',\n",
       " '',\n",
       " 'Performance: 718530.029 tau/day, 8316.320 timesteps/s',\n",
       " '99.1% CPU use with 1 MPI tasks x 1 OpenMP threads',\n",
       " '',\n",
       " 'MPI task timing breakdown:',\n",
       " 'Section |  min time  |  avg time  |  max time  |%varavg| %total',\n",
       " '---------------------------------------------------------------',\n",
       " 'Pair    | 0.40761    | 0.40761    | 0.40761    |   0.0 | 56.50',\n",
       " 'Neigh   | 0.0087733  | 0.0087733  | 0.0087733  |   0.0 |  1.22',\n",
       " 'Comm    | 0.0019109  | 0.0019109  | 0.0019109  |   0.0 |  0.26',\n",
       " 'Output  | 0.066313   | 0.066313   | 0.066313   |   0.0 |  9.19',\n",
       " 'Modify  | 0.22992    | 0.22992    | 0.22992    |   0.0 | 31.87',\n",
       " 'Other   |            | 0.006944   |            |       |  0.96',\n",
       " '',\n",
       " 'Nlocal:    467 ave 467 max 467 min',\n",
       " 'Histogram: 1 0 0 0 0 0 0 0 0 0',\n",
       " 'Nghost:    3 ave 3 max 3 min',\n",
       " 'Histogram: 1 0 0 0 0 0 0 0 0 0',\n",
       " 'Neighs:    198 ave 198 max 198 min',\n",
       " 'Histogram: 1 0 0 0 0 0 0 0 0 0',\n",
       " '',\n",
       " 'Total # of neighbors = 198',\n",
       " 'Ave neighs/atom = 0.423983',\n",
       " 'Neighbor list builds = 169',\n",
       " 'Dangerous builds = 0']"
      ]
     },
     "execution_count": 6,
     "metadata": {},
     "output_type": "execute_result"
    }
   ],
   "source": [
    "L.thermo_style(\"custom step atoms ke pe etotal press\")\n",
    "L.thermo(\"1000\")\n",
    "L.timestep(\"0.001\")\n",
    "L.run(\"${steps}\")"
   ]
  },
  {
   "cell_type": "code",
   "execution_count": 7,
   "metadata": {},
   "outputs": [
    {
     "data": {
      "text/html": [
       "<video controls><source src=\"mov.mp4\"></video>"
      ],
      "text/plain": [
       "<IPython.core.display.HTML object>"
      ]
     },
     "execution_count": 7,
     "metadata": {},
     "output_type": "execute_result"
    }
   ],
   "source": [
    "L.undump(2)\n",
    "L.video(\"mov.mp4\")"
   ]
  }
 ],
 "metadata": {
  "kernelspec": {
   "display_name": "Python 3",
   "language": "python",
   "name": "python3"
  },
  "language_info": {
   "codemirror_mode": {
    "name": "ipython",
    "version": 3
   },
   "file_extension": ".py",
   "mimetype": "text/x-python",
   "name": "python",
   "nbconvert_exporter": "python",
   "pygments_lexer": "ipython3",
   "version": "3.7.0"
  }
 },
 "nbformat": 4,
 "nbformat_minor": 2
}
