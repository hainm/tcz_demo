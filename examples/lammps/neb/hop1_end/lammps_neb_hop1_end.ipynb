{
 "cells": [
  {
   "cell_type": "markdown",
   "metadata": {},
   "source": [
    "# Jupyter Example\n",
    "## LAMMPS: Neb/in.neb.hop1.end\n",
    "Reference: https://github.com/lammps/lammps/blob/master/examples/neb/in.neb.hop1.end  \n",
    "Requied files: initial.hop1.end, final.hop1  \n",
    "Description: 2d NEB surface simulation, hop from surface to become adatom"
   ]
  },
  {
   "cell_type": "code",
   "execution_count": 1,
   "metadata": {},
   "outputs": [
    {
     "name": "stdout",
     "output_type": "stream",
     "text": [
      "Total number of MPI tasks = 26\n"
     ]
    }
   ],
   "source": [
    "import os\n",
    "import ipyparallel as ipp\n",
    "rc = ipp.Client(profile='mpi')\n",
    "view = rc[:]\n",
    "print(\"Total number of MPI tasks =\",len(view))"
   ]
  },
  {
   "cell_type": "code",
   "execution_count": 2,
   "metadata": {},
   "outputs": [],
   "source": [
    "# Set file paths\n",
    "task_dir=os.getcwd()+'/'\n",
    "data_init=task_dir+\"initial.hop1.end\"\n",
    "data_final=task_dir+\"final.hop1\"\n",
    "infile=task_dir+\"in.neb\"\n",
    "logfile=task_dir+\"log.lammps\"\n",
    "\n",
    "# Create an empty input file (required by LAMMPS)\n",
    "file=open(infile,'w')\n",
    "file.close()"
   ]
  },
  {
   "cell_type": "code",
   "execution_count": 3,
   "metadata": {},
   "outputs": [],
   "source": [
    "view['task_dir']=task_dir\n",
    "view['logfile']=logfile\n",
    "view['infile']=infile\n",
    "view['data_init']=data_init\n",
    "view['data_final']=data_final"
   ]
  },
  {
   "cell_type": "markdown",
   "metadata": {},
   "source": [
    "## Initialize LAMMPS"
   ]
  },
  {
   "cell_type": "code",
   "execution_count": 4,
   "metadata": {},
   "outputs": [],
   "source": [
    "%%capture\n",
    "%%px\n",
    "from mpi4py import MPI\n",
    "from lammps import PyLammps\n",
    "# Use 13 images with 2 MPI tasks per image\n",
    "L = PyLammps(cmdargs=[\"-partition\",\"13x2\",\"-in\",infile,\"-log\",logfile,\"-plog\",\"none\",\"-pscreen\",\"none\"])"
   ]
  },
  {
   "cell_type": "markdown",
   "metadata": {},
   "source": [
    "## Initial minimization"
   ]
  },
  {
   "cell_type": "code",
   "execution_count": 5,
   "metadata": {},
   "outputs": [
    {
     "name": "stdout",
     "output_type": "stream",
     "text": [
      "CPU times: user 54.4 ms, sys: 3.14 ms, total: 57.5 ms\n",
      "Wall time: 57.9 ms\n"
     ]
    }
   ],
   "source": [
    "%%time\n",
    "%%px\n",
    "\n",
    "L.dimension(\"2\")\n",
    "L.boundary(\"p s p\")\n",
    "\n",
    "L.atom_style(\"atomic\")\n",
    "L.neighbor(\"0.3 bin\")\n",
    "L.neigh_modify(\"delay 5\")\n",
    "L.atom_modify(\"map array sort 0 0.0\")\n",
    "\n",
    "L.variable(\"u uloop 50 pad\")\n",
    "\n",
    "# create geometry with flat surface\n",
    "\n",
    "L.lattice(\"hex 0.9\")\n",
    "L.region(\"box block 0 20 0 10 -0.25 0.25\")\n",
    "L.read_data(data_init)\n",
    "\n",
    "# LJ potentials\n",
    "\n",
    "L.pair_style(\"lj/cut 2.5\")\n",
    "L.pair_coeff(\"* * 1.0 1.0 2.5\")\n",
    "L.pair_modify(\"shift yes\")\n"
   ]
  },
  {
   "cell_type": "markdown",
   "metadata": {},
   "source": [
    "## Nudged-elastic band calculation"
   ]
  },
  {
   "cell_type": "code",
   "execution_count": 6,
   "metadata": {},
   "outputs": [
    {
     "name": "stdout",
     "output_type": "stream",
     "text": [
      "CPU times: user 57.6 ms, sys: 1.14 ms, total: 58.7 ms\n",
      "Wall time: 228 ms\n"
     ]
    }
   ],
   "source": [
    "%%time\n",
    "%%px\n",
    "\n",
    "# define groups\n",
    "\n",
    "L.region(\"1 block INF INF INF 1.25 INF INF\")\n",
    "L.group(\"lower region 1\")\n",
    "L.group(\"mobile subtract all lower\")\n",
    "L.set(\"group lower type 2\")\n",
    "\n",
    "L.timestep(\"0.05\")\n",
    "\n",
    "# group of NEB atoms - either block or single atom ID 412\n",
    "\n",
    "L.region(\"surround block 10 18 17 20 0 0 units box\")\n",
    "L.group(\"nebatoms region surround\")\n",
    "#L.group(\"nebatoms id 412\")\n",
    "L.set(\"group nebatoms type 3\")\n",
    "L.group(\"nonneb subtract all nebatoms\")\n",
    "\n",
    "L.fix(\"1 lower setforce 0.0 0.0 0.0\")\n",
    "L.fix(\"2 nebatoms neb 1.0 parallel ideal\")\n",
    "L.fix(\"3 all enforce2d\")\n",
    "\n",
    "L.thermo(100)\n",
    "\n",
    "# run NEB\n",
    "\n",
    "L.min_style(\"quickmin\")\n",
    "L.neb(\"0.0 0.01 1000 1000 100 final\", data_final)\n",
    "\n",
    "# Dump images of final structures \n",
    "\n",
    "L.dump(1,\"all\",\"image\",1,task_dir+\"neb.*.$u.jpg\",\"type\",\"type\",\"zoom\",1.6,\"adiam\",1.2,\"up\",0,1,0,\"box\",\"yes\",0)\n",
    "L.dump_modify(1,\"pad\",2)\n",
    "L.run(0)"
   ]
  },
  {
   "cell_type": "markdown",
   "metadata": {},
   "source": [
    "## Visualize MEP (scatter plot)"
   ]
  },
  {
   "cell_type": "code",
   "execution_count": 7,
   "metadata": {},
   "outputs": [],
   "source": [
    "import numpy as np\n",
    "import pandas as pd\n",
    "import matplotlib.pyplot as plt"
   ]
  },
  {
   "cell_type": "code",
   "execution_count": 10,
   "metadata": {},
   "outputs": [
    {
     "data": {
      "text/html": [
       "<div>\n",
       "<style scoped>\n",
       "    .dataframe tbody tr th:only-of-type {\n",
       "        vertical-align: middle;\n",
       "    }\n",
       "\n",
       "    .dataframe tbody tr th {\n",
       "        vertical-align: top;\n",
       "    }\n",
       "\n",
       "    .dataframe thead th {\n",
       "        text-align: right;\n",
       "    }\n",
       "</style>\n",
       "<table border=\"1\" class=\"dataframe\">\n",
       "  <thead>\n",
       "    <tr style=\"text-align: right;\">\n",
       "      <th></th>\n",
       "      <th>Step</th>\n",
       "      <th>MaxReplicaForce</th>\n",
       "      <th>MaxAtomForce</th>\n",
       "      <th>GradV0</th>\n",
       "      <th>GradV1</th>\n",
       "      <th>GradVc</th>\n",
       "      <th>EBF</th>\n",
       "      <th>EBR</th>\n",
       "      <th>RDT</th>\n",
       "      <th>RD1</th>\n",
       "      <th>...</th>\n",
       "      <th>RD9</th>\n",
       "      <th>PE9</th>\n",
       "      <th>RD10</th>\n",
       "      <th>PE10</th>\n",
       "      <th>RD11</th>\n",
       "      <th>PE11</th>\n",
       "      <th>RD12</th>\n",
       "      <th>PE12</th>\n",
       "      <th>RD13</th>\n",
       "      <th>PE13</th>\n",
       "    </tr>\n",
       "  </thead>\n",
       "  <tbody>\n",
       "    <tr>\n",
       "      <th>0</th>\n",
       "      <td>1000</td>\n",
       "      <td>0.023661</td>\n",
       "      <td>0.021739</td>\n",
       "      <td>0.001680</td>\n",
       "      <td>0.001135</td>\n",
       "      <td>0.023344</td>\n",
       "      <td>0.007111</td>\n",
       "      <td>0.002293</td>\n",
       "      <td>2.504146</td>\n",
       "      <td>0</td>\n",
       "      <td>...</td>\n",
       "      <td>0.666647</td>\n",
       "      <td>-3.046547</td>\n",
       "      <td>0.749923</td>\n",
       "      <td>-3.046798</td>\n",
       "      <td>0.833196</td>\n",
       "      <td>-3.047425</td>\n",
       "      <td>0.916496</td>\n",
       "      <td>-3.048472</td>\n",
       "      <td>1</td>\n",
       "      <td>-3.048778</td>\n",
       "    </tr>\n",
       "    <tr>\n",
       "      <th>1</th>\n",
       "      <td>1100</td>\n",
       "      <td>0.012442</td>\n",
       "      <td>0.010104</td>\n",
       "      <td>0.001433</td>\n",
       "      <td>0.000967</td>\n",
       "      <td>0.010863</td>\n",
       "      <td>0.007112</td>\n",
       "      <td>0.002293</td>\n",
       "      <td>2.505609</td>\n",
       "      <td>0</td>\n",
       "      <td>...</td>\n",
       "      <td>0.668261</td>\n",
       "      <td>-3.046550</td>\n",
       "      <td>0.751143</td>\n",
       "      <td>-3.046805</td>\n",
       "      <td>0.834021</td>\n",
       "      <td>-3.047436</td>\n",
       "      <td>0.916918</td>\n",
       "      <td>-3.048478</td>\n",
       "      <td>1</td>\n",
       "      <td>-3.048778</td>\n",
       "    </tr>\n",
       "    <tr>\n",
       "      <th>2</th>\n",
       "      <td>1142</td>\n",
       "      <td>0.009983</td>\n",
       "      <td>0.008448</td>\n",
       "      <td>0.001350</td>\n",
       "      <td>0.000911</td>\n",
       "      <td>0.008094</td>\n",
       "      <td>0.007112</td>\n",
       "      <td>0.002293</td>\n",
       "      <td>2.506066</td>\n",
       "      <td>0</td>\n",
       "      <td>...</td>\n",
       "      <td>0.669079</td>\n",
       "      <td>-3.046551</td>\n",
       "      <td>0.751760</td>\n",
       "      <td>-3.046808</td>\n",
       "      <td>0.834438</td>\n",
       "      <td>-3.047442</td>\n",
       "      <td>0.917134</td>\n",
       "      <td>-3.048481</td>\n",
       "      <td>1</td>\n",
       "      <td>-3.048778</td>\n",
       "    </tr>\n",
       "  </tbody>\n",
       "</table>\n",
       "<p>3 rows × 35 columns</p>\n",
       "</div>"
      ],
      "text/plain": [
       "   Step  MaxReplicaForce  MaxAtomForce    GradV0    GradV1    GradVc  \\\n",
       "0  1000         0.023661      0.021739  0.001680  0.001135  0.023344   \n",
       "1  1100         0.012442      0.010104  0.001433  0.000967  0.010863   \n",
       "2  1142         0.009983      0.008448  0.001350  0.000911  0.008094   \n",
       "\n",
       "        EBF       EBR       RDT  RD1    ...          RD9       PE9      RD10  \\\n",
       "0  0.007111  0.002293  2.504146    0    ...     0.666647 -3.046547  0.749923   \n",
       "1  0.007112  0.002293  2.505609    0    ...     0.668261 -3.046550  0.751143   \n",
       "2  0.007112  0.002293  2.506066    0    ...     0.669079 -3.046551  0.751760   \n",
       "\n",
       "       PE10      RD11      PE11      RD12      PE12  RD13      PE13  \n",
       "0 -3.046798  0.833196 -3.047425  0.916496 -3.048472     1 -3.048778  \n",
       "1 -3.046805  0.834021 -3.047436  0.916918 -3.048478     1 -3.048778  \n",
       "2 -3.046808  0.834438 -3.047442  0.917134 -3.048481     1 -3.048778  \n",
       "\n",
       "[3 rows x 35 columns]"
      ]
     },
     "execution_count": 10,
     "metadata": {},
     "output_type": "execute_result"
    }
   ],
   "source": [
    "header=['Step','MaxReplicaForce','MaxAtomForce','GradV0','GradV1','GradVc','EBF','EBR','RDT','RD1','PE1','RD2','PE2','RD3','PE3','RD4','PE4','RD5','PE5','RD6','PE6','RD7','PE7','RD8','PE8','RD9','PE9','RD10','PE10','RD11','PE11','RD12','PE12','RD13','PE13']\n",
    "\n",
    "# Load NEB results from log.lammps\n",
    "df=pd.read_csv(\"log.lammps\", delim_whitespace=True,skiprows=16,names=header)\n",
    "df"
   ]
  },
  {
   "cell_type": "code",
   "execution_count": 11,
   "metadata": {},
   "outputs": [],
   "source": [
    "x=df.iloc[[2],9:35:2].values[0].tolist()\n",
    "y=df.iloc[[2],10:36:2].values[0].tolist()"
   ]
  },
  {
   "cell_type": "code",
   "execution_count": 12,
   "metadata": {},
   "outputs": [
    {
     "data": {
      "image/png": "[encoded data removed]",
      "text/plain": [
       "<Figure size 432x288 with 1 Axes>"
      ]
     },
     "metadata": {},
     "output_type": "display_data"
    }
   ],
   "source": [
    "plt.plot(x,y,'ro',linestyle='solid', linewidth=1, markersize=4)\n",
    "plt.xlabel(\"Reaction coordinate\")\n",
    "plt.ylabel(\"Potential energy (LJ unit)\")\n",
    "plt.show()"
   ]
  },
  {
   "cell_type": "code",
   "execution_count": 13,
   "metadata": {},
   "outputs": [
    {
     "name": "stdout",
     "output_type": "stream",
     "text": [
      "Index of maximum energy image = 7\n",
      "Forward energy barrier = 0.0071118846\n",
      "Reverse energy barrier = 0.0022931913\n"
     ]
    }
   ],
   "source": [
    "# Forward and Reverse enegy barrier\n",
    "print(\"Index of maximum energy image =\",np.argmax(y))\n",
    "print(\"Forward energy barrier =\",df['EBF'][2])\n",
    "print(\"Reverse energy barrier =\",df['EBR'][2])"
   ]
  },
  {
   "cell_type": "markdown",
   "metadata": {},
   "source": [
    "## Visualize MEP (movie)"
   ]
  },
  {
   "cell_type": "code",
   "execution_count": 14,
   "metadata": {},
   "outputs": [],
   "source": [
    "%%capture\n",
    "# Use ffmpeg to make mp4 movie\n",
    "!cat *.jpg | ffmpeg -y -f image2pipe -c:v mjpeg -i - -b:v 2000k -vcodec libx264 -pix_fmt yuv420p neb.mp4;"
   ]
  },
  {
   "cell_type": "code",
   "execution_count": 15,
   "metadata": {
    "scrolled": true
   },
   "outputs": [
    {
     "data": {
      "text/html": [
       "<video width=\"320\" height=\"320\" controls>\n",
       "  <source src=\"neb.mp4\" type=\"video/mp4\">\n",
       "</video>"
      ],
      "text/plain": [
       "<IPython.core.display.HTML object>"
      ]
     },
     "metadata": {},
     "output_type": "display_data"
    }
   ],
   "source": [
    "%%HTML\n",
    "<video width=\"320\" height=\"320\" controls>\n",
    "  <source src=\"neb.mp4\" type=\"video/mp4\">\n",
    "</video>"
   ]
  },
  {
   "cell_type": "code",
   "execution_count": null,
   "metadata": {},
   "outputs": [],
   "source": []
  }
 ],
 "metadata": {
  "kernelspec": {
   "display_name": "Python 3",
   "language": "python",
   "name": "python3"
  },
  "language_info": {
   "codemirror_mode": {
    "name": "ipython",
    "version": 3
   },
   "file_extension": ".py",
   "mimetype": "text/x-python",
   "name": "python",
   "nbconvert_exporter": "python",
   "pygments_lexer": "ipython3",
   "version": "3.7.0"
  }
 },
 "nbformat": 4,
 "nbformat_minor": 2
}
