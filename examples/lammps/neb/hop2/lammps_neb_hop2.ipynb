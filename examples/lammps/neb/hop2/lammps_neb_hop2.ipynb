{
 "cells": [
  {
   "cell_type": "markdown",
   "metadata": {},
   "source": [
    "# Jupyter Example\n",
    "## LAMMPS: Neb/in.neb.hop2\n",
    "Reference: https://github.com/lammps/lammps/blob/master/examples/neb/in.neb.hop2 .  \n",
    "Requied files: initial.hop2, final.hop2  \n",
    "Description: 2d NEB surface simulation, hop of adatom on surface"
   ]
  },
  {
   "cell_type": "code",
   "execution_count": 1,
   "metadata": {},
   "outputs": [
    {
     "name": "stdout",
     "output_type": "stream",
     "text": [
      "Total number of MPI tasks = 26\n"
     ]
    }
   ],
   "source": [
    "import os\n",
    "import ipyparallel as ipp\n",
    "rc = ipp.Client(profile='mpi')\n",
    "view = rc[:]\n",
    "print(\"Total number of MPI tasks =\",len(view))"
   ]
  },
  {
   "cell_type": "code",
   "execution_count": 2,
   "metadata": {},
   "outputs": [],
   "source": [
    "# Set file paths\n",
    "task_dir=os.getcwd()+'/'\n",
    "data_init=task_dir+\"initial.hop2\"\n",
    "data_final=task_dir+\"final.hop2\"\n",
    "infile=task_dir+\"in.neb\"\n",
    "logfile=task_dir+\"log.lammps\"\n",
    "\n",
    "# Create an empty input file (required by LAMMPS)\n",
    "file=open(infile,'w')\n",
    "file.close()"
   ]
  },
  {
   "cell_type": "code",
   "execution_count": 3,
   "metadata": {},
   "outputs": [],
   "source": [
    "view['task_dir']=task_dir\n",
    "view['logfile']=logfile\n",
    "view['infile']=infile\n",
    "view['data_init']=data_init\n",
    "view['data_final']=data_final"
   ]
  },
  {
   "cell_type": "markdown",
   "metadata": {},
   "source": [
    "## Initialize LAMMPS"
   ]
  },
  {
   "cell_type": "code",
   "execution_count": 4,
   "metadata": {},
   "outputs": [],
   "source": [
    "%%capture\n",
    "%%px\n",
    "from mpi4py import MPI\n",
    "from lammps import PyLammps\n",
    "# Use 13 images with 2 MPI tasks per image\n",
    "L = PyLammps(cmdargs=[\"-partition\",\"13x2\",\"-in\",infile,\"-log\",logfile,\"-plog\",\"none\",\"-pscreen\",\"none\"])"
   ]
  },
  {
   "cell_type": "markdown",
   "metadata": {},
   "source": [
    "## Initial minimization"
   ]
  },
  {
   "cell_type": "code",
   "execution_count": 5,
   "metadata": {},
   "outputs": [
    {
     "name": "stdout",
     "output_type": "stream",
     "text": [
      "CPU times: user 50 ms, sys: 2.2 ms, total: 52.2 ms\n",
      "Wall time: 49.7 ms\n"
     ]
    }
   ],
   "source": [
    "%%time\n",
    "%%px\n",
    "\n",
    "L.dimension(\"2\")\n",
    "L.boundary(\"p s p\")\n",
    "\n",
    "L.atom_style(\"atomic\")\n",
    "L.neighbor(\"0.3 bin\")\n",
    "L.neigh_modify(\"delay 5\")\n",
    "L.atom_modify(\"map array sort 0 0.0\")\n",
    "\n",
    "L.variable(\"u uloop 30 pad\")\n",
    "\n",
    "# create geometry with flat surface\n",
    "\n",
    "L.lattice(\"hex 0.9\")\n",
    "L.region(\"box block 0 11 0 10 -0.25 0.25\")\n",
    "L.region(\"box1 block 0 10 0 10 -0.25 0.25\")\n",
    "L.read_data(data_init)\n",
    "\n",
    "# LJ potentials\n",
    "\n",
    "L.pair_style(\"lj/cut 2.5\")\n",
    "L.pair_coeff(\"* * 1.0 1.0 2.5\")\n",
    "L.pair_modify(\"shift yes\")\n",
    "\n",
    "# initial minimization to relax surface\n",
    "\n",
    "L.minimize(\"1.0e-6 1.0e-4 1000 10000\")\n",
    "L.reset_timestep(\"0\")"
   ]
  },
  {
   "cell_type": "markdown",
   "metadata": {},
   "source": [
    "## Nudged-elastic band calculation"
   ]
  },
  {
   "cell_type": "code",
   "execution_count": 6,
   "metadata": {},
   "outputs": [
    {
     "name": "stdout",
     "output_type": "stream",
     "text": [
      "CPU times: user 50.6 ms, sys: 3.86 ms, total: 54.5 ms\n",
      "Wall time: 112 ms\n"
     ]
    }
   ],
   "source": [
    "%%time\n",
    "%%px\n",
    "\n",
    "# define groups\n",
    "\n",
    "L.region(\"1 block INF INF INF 1.25 INF INF\")\n",
    "L.group(\"lower region 1\")\n",
    "L.group(\"mobile subtract all lower\")\n",
    "L.set(\"group lower type 2\")\n",
    "\n",
    "L.timestep(\"0.05\")\n",
    "\n",
    "# group of NEB atoms - either block or single atom ID 412\n",
    "\n",
    "L.region(\"surround block 10 18 17 21 0 0 units box\")\n",
    "L.group(\"nebatoms region surround\")\n",
    "#L.group(\"nebatoms id 421\")\n",
    "L.set(\"group nebatoms type 3\")\n",
    "L.group(\"nonneb subtract all nebatoms\")\n",
    "\n",
    "L.fix(\"1 lower setforce 0.0 0.0 0.0\")\n",
    "L.fix(\"2 nebatoms neb 1.0 parallel ideal\")\n",
    "L.fix(\"3 all enforce2d\")\n",
    "\n",
    "L.thermo(100)\n",
    "\n",
    "# run NEB\n",
    "\n",
    "L.min_style(\"fire\")\n",
    "L.neb(\"0.0 0.05 1000 1000 100 final\", data_final)\n",
    "\n",
    "# Dump images of final structures \n",
    "\n",
    "L.dump(1,\"all\",\"image\",1,task_dir+\"neb.*.$u.jpg\",\"type\",\"type\",\"zoom\",1.6,\"adiam\",1.2,\"up\",0,1,0,\"box\",\"yes\",0)\n",
    "L.dump_modify(1,\"pad\",2)\n",
    "L.run(0)"
   ]
  },
  {
   "cell_type": "markdown",
   "metadata": {},
   "source": [
    "## Visualize MEP (scatter plot)"
   ]
  },
  {
   "cell_type": "code",
   "execution_count": 7,
   "metadata": {},
   "outputs": [],
   "source": [
    "import numpy as np\n",
    "import pandas as pd\n",
    "import matplotlib.pyplot as plt"
   ]
  },
  {
   "cell_type": "code",
   "execution_count": 11,
   "metadata": {},
   "outputs": [
    {
     "data": {
      "text/html": [
       "<div>\n",
       "<style scoped>\n",
       "    .dataframe tbody tr th:only-of-type {\n",
       "        vertical-align: middle;\n",
       "    }\n",
       "\n",
       "    .dataframe tbody tr th {\n",
       "        vertical-align: top;\n",
       "    }\n",
       "\n",
       "    .dataframe thead th {\n",
       "        text-align: right;\n",
       "    }\n",
       "</style>\n",
       "<table border=\"1\" class=\"dataframe\">\n",
       "  <thead>\n",
       "    <tr style=\"text-align: right;\">\n",
       "      <th></th>\n",
       "      <th>Step</th>\n",
       "      <th>MaxReplicaForce</th>\n",
       "      <th>MaxAtomForce</th>\n",
       "      <th>GradV0</th>\n",
       "      <th>GradV1</th>\n",
       "      <th>GradVc</th>\n",
       "      <th>EBF</th>\n",
       "      <th>EBR</th>\n",
       "      <th>RDT</th>\n",
       "      <th>RD1</th>\n",
       "      <th>...</th>\n",
       "      <th>RD9</th>\n",
       "      <th>PE9</th>\n",
       "      <th>RD10</th>\n",
       "      <th>PE10</th>\n",
       "      <th>RD11</th>\n",
       "      <th>PE11</th>\n",
       "      <th>RD12</th>\n",
       "      <th>PE12</th>\n",
       "      <th>RD13</th>\n",
       "      <th>PE13</th>\n",
       "    </tr>\n",
       "  </thead>\n",
       "  <tbody>\n",
       "    <tr>\n",
       "      <th>0</th>\n",
       "      <td>203</td>\n",
       "      <td>0.059642</td>\n",
       "      <td>0.051688</td>\n",
       "      <td>0.004160</td>\n",
       "      <td>0.007788</td>\n",
       "      <td>0.053846</td>\n",
       "      <td>0.001601</td>\n",
       "      <td>0.001601</td>\n",
       "      <td>1.232922</td>\n",
       "      <td>0</td>\n",
       "      <td>...</td>\n",
       "      <td>0.665406</td>\n",
       "      <td>-3.050179</td>\n",
       "      <td>0.748282</td>\n",
       "      <td>-3.050564</td>\n",
       "      <td>0.831256</td>\n",
       "      <td>-3.051053</td>\n",
       "      <td>0.914491</td>\n",
       "      <td>-3.051405</td>\n",
       "      <td>1</td>\n",
       "      <td>-3.051494</td>\n",
       "    </tr>\n",
       "    <tr>\n",
       "      <th>1</th>\n",
       "      <td>247</td>\n",
       "      <td>0.045664</td>\n",
       "      <td>0.018649</td>\n",
       "      <td>0.003436</td>\n",
       "      <td>0.005819</td>\n",
       "      <td>0.024332</td>\n",
       "      <td>0.001602</td>\n",
       "      <td>0.001601</td>\n",
       "      <td>1.237376</td>\n",
       "      <td>0</td>\n",
       "      <td>...</td>\n",
       "      <td>0.666668</td>\n",
       "      <td>-3.050188</td>\n",
       "      <td>0.749478</td>\n",
       "      <td>-3.050578</td>\n",
       "      <td>0.832329</td>\n",
       "      <td>-3.051068</td>\n",
       "      <td>0.915372</td>\n",
       "      <td>-3.051412</td>\n",
       "      <td>1</td>\n",
       "      <td>-3.051494</td>\n",
       "    </tr>\n",
       "  </tbody>\n",
       "</table>\n",
       "<p>2 rows × 35 columns</p>\n",
       "</div>"
      ],
      "text/plain": [
       "   Step  MaxReplicaForce  MaxAtomForce    GradV0    GradV1    GradVc  \\\n",
       "0   203         0.059642      0.051688  0.004160  0.007788  0.053846   \n",
       "1   247         0.045664      0.018649  0.003436  0.005819  0.024332   \n",
       "\n",
       "        EBF       EBR       RDT  RD1    ...          RD9       PE9      RD10  \\\n",
       "0  0.001601  0.001601  1.232922    0    ...     0.665406 -3.050179  0.748282   \n",
       "1  0.001602  0.001601  1.237376    0    ...     0.666668 -3.050188  0.749478   \n",
       "\n",
       "       PE10      RD11      PE11      RD12      PE12  RD13      PE13  \n",
       "0 -3.050564  0.831256 -3.051053  0.914491 -3.051405     1 -3.051494  \n",
       "1 -3.050578  0.832329 -3.051068  0.915372 -3.051412     1 -3.051494  \n",
       "\n",
       "[2 rows x 35 columns]"
      ]
     },
     "execution_count": 11,
     "metadata": {},
     "output_type": "execute_result"
    }
   ],
   "source": [
    "header=['Step','MaxReplicaForce','MaxAtomForce','GradV0','GradV1','GradVc','EBF','EBR','RDT','RD1','PE1','RD2','PE2','RD3','PE3','RD4','PE4','RD5','PE5','RD6','PE6','RD7','PE7','RD8','PE8','RD9','PE9','RD10','PE10','RD11','PE11','RD12','PE12','RD13','PE13']\n",
    "\n",
    "# Load NEB results from log.lammps\n",
    "df=pd.read_csv(\"log.lammps\", delim_whitespace=True,skiprows=9,names=header)\n",
    "df"
   ]
  },
  {
   "cell_type": "code",
   "execution_count": 12,
   "metadata": {},
   "outputs": [],
   "source": [
    "x=df.iloc[[1],9:35:2].values[0].tolist()\n",
    "y=df.iloc[[1],10:36:2].values[0].tolist()"
   ]
  },
  {
   "cell_type": "code",
   "execution_count": 13,
   "metadata": {},
   "outputs": [
    {
     "data": {
      "image/png": "[encoded data removed]",
      "text/plain": [
       "<Figure size 432x288 with 1 Axes>"
      ]
     },
     "metadata": {},
     "output_type": "display_data"
    }
   ],
   "source": [
    "plt.plot(x,y,'ro',linestyle='solid', linewidth=1, markersize=4)\n",
    "plt.xlabel(\"Reaction coordinate\")\n",
    "plt.ylabel(\"Potential energy (LJ unit)\")\n",
    "plt.show()"
   ]
  },
  {
   "cell_type": "code",
   "execution_count": 14,
   "metadata": {},
   "outputs": [
    {
     "name": "stdout",
     "output_type": "stream",
     "text": [
      "Index of maximum energy image = 6\n",
      "Forward energy barrier = 0.0016015952\n",
      "Reverse energy barrier = 0.0016014343\n"
     ]
    }
   ],
   "source": [
    "# Forward and Reverse enegy barrier\n",
    "print(\"Index of maximum energy image =\",np.argmax(y))\n",
    "print(\"Forward energy barrier =\",df['EBF'][1])\n",
    "print(\"Reverse energy barrier =\",df['EBR'][1])"
   ]
  },
  {
   "cell_type": "markdown",
   "metadata": {},
   "source": [
    "## Visualize MEP (movie)"
   ]
  },
  {
   "cell_type": "code",
   "execution_count": 15,
   "metadata": {},
   "outputs": [],
   "source": [
    "%%capture\n",
    "# Use ffmpeg to make mp4 movie\n",
    "!cat *.jpg | ffmpeg -y -f image2pipe -c:v mjpeg -i - -b:v 2000k -vcodec libx264 -pix_fmt yuv420p neb.mp4;"
   ]
  },
  {
   "cell_type": "code",
   "execution_count": 16,
   "metadata": {
    "scrolled": true
   },
   "outputs": [
    {
     "data": {
      "text/html": [
       "<video width=\"320\" height=\"320\" controls>\n",
       "  <source src=\"neb.mp4\" type=\"video/mp4\">\n",
       "</video>"
      ],
      "text/plain": [
       "<IPython.core.display.HTML object>"
      ]
     },
     "metadata": {},
     "output_type": "display_data"
    }
   ],
   "source": [
    "%%HTML\n",
    "<video width=\"320\" height=\"320\" controls>\n",
    "  <source src=\"neb.mp4\" type=\"video/mp4\">\n",
    "</video>"
   ]
  },
  {
   "cell_type": "code",
   "execution_count": null,
   "metadata": {},
   "outputs": [],
   "source": []
  }
 ],
 "metadata": {
  "kernelspec": {
   "display_name": "Python 3",
   "language": "python",
   "name": "python3"
  },
  "language_info": {
   "codemirror_mode": {
    "name": "ipython",
    "version": 3
   },
   "file_extension": ".py",
   "mimetype": "text/x-python",
   "name": "python",
   "nbconvert_exporter": "python",
   "pygments_lexer": "ipython3",
   "version": "3.7.0"
  }
 },
 "nbformat": 4,
 "nbformat_minor": 2
}
