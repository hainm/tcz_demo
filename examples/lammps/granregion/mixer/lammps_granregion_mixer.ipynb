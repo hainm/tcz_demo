{
 "cells": [
  {
   "cell_type": "markdown",
   "metadata": {},
   "source": [
    "# Jupyter Example\n",
    "## LAMMPS: granregion/in.granregion.mixer\n",
    "Reference: https://github.com/lammps/lammps/blob/master/examples/granregion/in.granregion.mixer  \n",
    "Required files: None  \n",
    "Description: None"
   ]
  },
  {
   "cell_type": "code",
   "execution_count": 1,
   "metadata": {},
   "outputs": [],
   "source": [
    "from __future__ import print_function\n",
    "import random, math\n",
    "from lammps import IPyLammps"
   ]
  },
  {
   "cell_type": "code",
   "execution_count": 2,
   "metadata": {},
   "outputs": [
    {
     "name": "stdout",
     "output_type": "stream",
     "text": [
      "LAMMPS output is captured by PyLammps wrapper\n"
     ]
    }
   ],
   "source": [
    "L = IPyLammps()\n",
    "\n",
    "L.variable(\"name string mixer\")\n",
    "L.thermo_modify(\"flush yes\")\n",
    "L.variable(\"seed equal 14314\")\n",
    "\n",
    "# Particle parameters\n",
    "L.variable(\"rlo equal 0.3\")\n",
    "L.variable(\"rhi equal 0.6\")\n",
    "L.variable(\"dlo equal 2.0*${rlo}\")\n",
    "L.variable(\"dhi equal 2.0*${rhi}\")\n",
    "L.variable(\"skin equal ${rhi}\")\n",
    "L.variable(\"coeffRes equal 0.1\")\n",
    "L.variable(\"coeffFric equal 0.5\")\n",
    "L.variable(\"kn equal 10^5\")\n",
    "L.variable(\"kt equal 0.2*${kn}\")\n",
    "L.variable(\"gravity equal 1.0\")\n",
    "L.variable(\"density equal 1.0\")\n",
    "L.variable(\"min_mass equal ${density}*4.0/3.0*PI*${rlo}*${rlo}*${rlo}\")\n",
    "L.variable(\"a equal (-2.0*log(${coeffRes})/PI)^2\")\n",
    "L.variable(\"gamma_n equal sqrt($a*2*${kn}/${min_mass}/(1+0.25*$a))\")\n",
    "L.variable(\"gamma_t equal ${gamma_n}*0.5\")\n",
    "L.variable(\"tcol equal PI/sqrt(2*${kn}/${min_mass}-${gamma_n}/4.0)\")\n",
    "L.variable(\"dt equal ${tcol}*0.02\")\n",
    "L.timestep(\"${dt}\")"
   ]
  },
  {
   "cell_type": "code",
   "execution_count": 3,
   "metadata": {},
   "outputs": [],
   "source": [
    "L.variable(\"dumpfreq equal 10000\")\n",
    "L.variable(\"logfreq equal 10000\")\n",
    "L.newton(\"on\")\n",
    "L.atom_style(\"sphere\")\n",
    "L.boundary(\"p p f\")\n",
    "L.region(\"boxreg block 0 20 0 20 0 20\")\n",
    "L.create_box(\"1 boxreg\")\n",
    "L.pair_style(\"gran/hertz/history ${kn} ${kt} ${gamma_n} ${gamma_t} ${coeffFric} 1\")\n",
    "L.pair_coeff(\"* *\")\n",
    "L.neighbor(\"${skin} bin\")\n",
    "L.thermo(\"${logfreq}\")\n",
    "L.comm_style(\"brick\")\n",
    "L.comm_modify(\"mode multi group all vel yes\")\n",
    "L.balance(\"1.1 shift xyz 20 1.1\")\n",
    "L.fix(\"bal all balance 10000 1.1 shift xyz 20 1.01\")"
   ]
  },
  {
   "cell_type": "code",
   "execution_count": 4,
   "metadata": {},
   "outputs": [
    {
     "data": {
      "text/plain": [
       "'Particle insertion: 444 every 84653 steps, 1000 by step 169307'"
      ]
     },
     "execution_count": 4,
     "metadata": {},
     "output_type": "execute_result"
    }
   ],
   "source": [
    "# Options specific to pouring\n",
    "\n",
    "L.region(\"insreg cylinder z 10 10 8 10 18 side in units box\")\n",
    "L.region(\"cylreg cylinder z 10 10 10 0 20 side in units box\")\n",
    "L.variable(\"theta equal (step/400000)*2*PI\")\n",
    "L.region(\"b1 block 2 18 9 11 0 4 side out rotate v_theta 10 10 0 0 0 1 units box\")\n",
    "L.region(\"b2 block 9 11 2 18 0 3.99999 side out rotate v_theta 10 10 0 0 0 1 units box\")\n",
    "L.region(\"mixer intersect 3 cylreg b1 b2 side in\")\n",
    "L.fix(\"grav all gravity ${gravity} vector 0 0 -1\")\n",
    "L.fix(\"1 all nve/sphere\")\n",
    "L.fix(\"mixwall all wall/gran/region hertz/history ${kn} ${kt} ${gamma_n} ${gamma_t} ${coeffFric} 1 region mixer\")\n",
    "L.fix(\"ins all pour 1000 1 42424 region insreg diam range ${dlo} ${dhi} dens ${density} ${density}\")"
   ]
  },
  {
   "cell_type": "code",
   "execution_count": 5,
   "metadata": {},
   "outputs": [],
   "source": [
    "L.dump(\"1 all custom ${dumpfreq} ${name}_pour.dump id type mass diameter x y z\")\n",
    "\n",
    "#L.dump(\"2 all image 4000 image.*.jpg type type axes yes 0.8 0.02 view 60 -30 zoom 1 box no 0.0 axes no 0.0 0.0\") \n",
    "#L.dump_modify(\"2 pad 6\")\n",
    "\n",
    "L.dump(\"3 all movie 4000 mov.mp4 type type axes yes 0.8 0.02 view 60 -30 zoom 1 box no 0.0 axes no 0.0 0.0\")\n",
    "L.dump_modify(\"3 pad 6\")"
   ]
  },
  {
   "cell_type": "code",
   "execution_count": 6,
   "metadata": {},
   "outputs": [
    {
     "data": {
      "text/plain": [
       "['Setting up Verlet run ...',\n",
       " '  Unit style    : lj',\n",
       " '  Current step  : 0',\n",
       " '  Time step     : 4.72515e-05',\n",
       " 'Per MPI rank memory allocation (min/avg/max) = 5.862 | 5.862 | 5.862 Mbytes',\n",
       " 'Step CPU Atoms KinEng v_theta ',\n",
       " '       0            0        0           -0            0 ',\n",
       " '   10000   0.84202909      444           -0   0.15707963 ',\n",
       " '   20000    1.6807182      444           -0   0.31415927 ',\n",
       " '   30000     2.526768      444           -0    0.4712389 ',\n",
       " '   40000     3.369971      444           -0   0.62831853 ',\n",
       " '   50000     4.207839      444           -0   0.78539816 ',\n",
       " '   60000     5.046242      444           -0    0.9424778 ',\n",
       " '   70000    5.8853202      444           -0    1.0995574 ',\n",
       " '   80000    6.7554832      444           -0    1.2566371 ',\n",
       " '   90000    8.1062832      888           -0    1.4137167 ',\n",
       " '  100000    9.8293722      888           -0    1.5707963 ',\n",
       " '  110000    11.557825      888           -0     1.727876 ',\n",
       " '  120000    13.296818      888           -0    1.8849556 ',\n",
       " '  130000    15.102162      888           -0    2.0420352 ',\n",
       " '  140000    16.941303      888           -0    2.1991149 ',\n",
       " '  150000    18.792864      888           -0    2.3561945 ',\n",
       " '  160000    20.729625      888           -0    2.5132741 ',\n",
       " '  170000    22.676878     1000           -0    2.6703538 ',\n",
       " '  180000    24.889221     1000           -0    2.8274334 ',\n",
       " '  190000     27.12513     1000           -0     2.984513 ',\n",
       " '  200000    29.343387     1000           -0    3.1415927 ',\n",
       " '  210000    31.590581     1000           -0    3.2986723 ',\n",
       " '  220000    33.861487     1000           -0    3.4557519 ',\n",
       " '  230000    36.143995     1000           -0    3.6128316 ',\n",
       " '  240000    38.460822     1000           -0    3.7699112 ',\n",
       " '  250000    40.820387     1000           -0    3.9269908 ',\n",
       " '  260000    43.196879     1000           -0    4.0840704 ',\n",
       " '  270000    45.547781     1000           -0    4.2411501 ',\n",
       " '  280000    48.085824     1000           -0    4.3982297 ',\n",
       " '  290000    50.563596     1000           -0    4.5553093 ',\n",
       " '  300000    53.046212     1000           -0     4.712389 ',\n",
       " '  310000    55.496399     1000           -0    4.8694686 ',\n",
       " '  320000    57.971334     1000           -0    5.0265482 ',\n",
       " '  330000     60.40345     1000           -0    5.1836279 ',\n",
       " '  340000     62.87337     1000           -0    5.3407075 ',\n",
       " '  350000    65.310986     1000           -0    5.4977871 ',\n",
       " '  360000    67.764884     1000           -0    5.6548668 ',\n",
       " '  370000     70.16711     1000           -0    5.8119464 ',\n",
       " '  380000    72.597259     1000           -0     5.969026 ',\n",
       " '  390000    75.038523     1000           -0    6.1261057 ',\n",
       " '  400000    77.456506     1000           -0    6.2831853 ',\n",
       " 'Loop time of 77.4565 on 1 procs for 400000 steps with 1000 atoms',\n",
       " '',\n",
       " 'Performance: 21082.952 tau/day, 5164.186 timesteps/s',\n",
       " '99.5% CPU use with 1 MPI tasks x 1 OpenMP threads',\n",
       " '',\n",
       " 'MPI task timing breakdown:',\n",
       " 'Section |  min time  |  avg time  |  max time  |%varavg| %total',\n",
       " '---------------------------------------------------------------',\n",
       " 'Pair    | 9.259      | 9.259      | 9.259      |   0.0 | 11.95',\n",
       " 'Neigh   | 0.10242    | 0.10242    | 0.10242    |   0.0 |  0.13',\n",
       " 'Comm    | 1.0726     | 1.0726     | 1.0726     |   0.0 |  1.38',\n",
       " 'Output  | 0.82085    | 0.82085    | 0.82085    |   0.0 |  1.06',\n",
       " 'Modify  | 65.272     | 65.272     | 65.272     |   0.0 | 84.27',\n",
       " 'Other   |            | 0.9298     |            |       |  1.20',\n",
       " '',\n",
       " 'Nlocal:    1000 ave 1000 max 1000 min',\n",
       " 'Histogram: 1 0 0 0 0 0 0 0 0 0',\n",
       " 'Nghost:    268 ave 268 max 268 min',\n",
       " 'Histogram: 1 0 0 0 0 0 0 0 0 0',\n",
       " 'Neighs:    4966 ave 4966 max 4966 min',\n",
       " 'Histogram: 1 0 0 0 0 0 0 0 0 0',\n",
       " '',\n",
       " 'Total # of neighbors = 4966',\n",
       " 'Ave neighs/atom = 4.966',\n",
       " 'Neighbor list builds = 382',\n",
       " 'Dangerous builds = 0']"
      ]
     },
     "execution_count": 6,
     "metadata": {},
     "output_type": "execute_result"
    }
   ],
   "source": [
    "L.thermo_style(\"custom step cpu atoms ke v_theta\")\n",
    "L.thermo_modify(\"flush yes lost warn\")\n",
    "L.run(\"400000\")"
   ]
  },
  {
   "cell_type": "code",
   "execution_count": 7,
   "metadata": {},
   "outputs": [
    {
     "data": {
      "text/plain": [
       "['Setting up Verlet run ...',\n",
       " '  Unit style    : lj',\n",
       " '  Current step  : 400000',\n",
       " '  Time step     : 4.72515e-05',\n",
       " 'Per MPI rank memory allocation (min/avg/max) = 13.47 | 13.47 | 13.47 Mbytes',\n",
       " 'Step CPU Atoms KinEng v_theta ',\n",
       " '  400000            0     1000   0.69939385    6.2831853 ',\n",
       " '  410000    2.4687631     1000   0.75785303    6.4402649 ',\n",
       " '  420000     4.904501     1000   0.74191849    6.5973446 ',\n",
       " '  430000    7.3174169     1000   0.69040649    6.7544242 ',\n",
       " '  440000    9.7233629     1000   0.64347832    6.9115038 ',\n",
       " '  450000    12.186701     1000   0.70259691    7.0685835 ',\n",
       " '  460000    14.647315     1000   0.70236655    7.2256631 ',\n",
       " '  470000    17.082279     1000   0.66210882    7.3827427 ',\n",
       " '  480000    19.550697     1000   0.63565217    7.5398224 ',\n",
       " '  490000    22.044347     1000   0.67299426     7.696902 ',\n",
       " '  500000    24.465429     1000   0.64012704    7.8539816 ',\n",
       " '  510000    26.941103     1000   0.64307242    8.0110613 ',\n",
       " '  520000    29.371613     1000   0.65825395    8.1681409 ',\n",
       " '  530000    31.867267     1000   0.67180799    8.3252205 ',\n",
       " '  540000    34.376655     1000    0.6345709    8.4823002 ',\n",
       " '  550000    36.841248     1000   0.65453757    8.6393798 ',\n",
       " '  560000    39.319922     1000   0.62649601    8.7964594 ',\n",
       " '  570000    41.837901     1000   0.67563802    8.9535391 ',\n",
       " '  580000    44.421984     1000   0.67006033    9.1106187 ',\n",
       " '  590000    47.149303     1000   0.62262702    9.2676983 ',\n",
       " '  600000    49.762095     1000   0.65788484     9.424778 ',\n",
       " '  610000    52.303467     1000    0.7140522    9.5818576 ',\n",
       " '  620000    54.839621     1000   0.67023724    9.7389372 ',\n",
       " '  630000    57.332442     1000   0.65782359    9.8960169 ',\n",
       " '  640000    59.884766     1000   0.66305405    10.053096 ',\n",
       " '  650000    62.395569     1000   0.67377354    10.210176 ',\n",
       " '  660000    64.961716     1000   0.64759758    10.367256 ',\n",
       " '  670000    67.472515     1000   0.68926634    10.524335 ',\n",
       " '  680000    69.978208     1000   0.66542812    10.681415 ',\n",
       " '  690000    72.413282     1000   0.63519621    10.838495 ',\n",
       " '  700000    74.888667     1000   0.63880495    10.995574 ',\n",
       " '  710000    77.344413     1000   0.68087394    11.152654 ',\n",
       " '  720000    79.774732     1000   0.63638214    11.309734 ',\n",
       " '  730000     82.23596     1000   0.63306381    11.466813 ',\n",
       " '  740000    84.757366     1000   0.69817288    11.623893 ',\n",
       " '  750000    87.234039     1000   0.69419198    11.780972 ',\n",
       " '  760000    89.702525     1000   0.65092879    11.938052 ',\n",
       " '  770000    92.144069     1000   0.60940155    12.095132 ',\n",
       " '  780000    94.631079     1000   0.63654456    12.252211 ',\n",
       " '  790000     97.08912     1000   0.66964868    12.409291 ',\n",
       " '  800000    99.520187     1000   0.62438338    12.566371 ',\n",
       " 'Loop time of 99.5202 on 1 procs for 400000 steps with 1000 atoms',\n",
       " '',\n",
       " 'Performance: 16408.852 tau/day, 4019.283 timesteps/s',\n",
       " '99.6% CPU use with 1 MPI tasks x 1 OpenMP threads',\n",
       " '',\n",
       " 'MPI task timing breakdown:',\n",
       " 'Section |  min time  |  avg time  |  max time  |%varavg| %total',\n",
       " '---------------------------------------------------------------',\n",
       " 'Pair    | 16.016     | 16.016     | 16.016     |   0.0 | 16.09',\n",
       " 'Neigh   | 0.11094    | 0.11094    | 0.11094    |   0.0 |  0.11',\n",
       " 'Comm    | 1.9579     | 1.9579     | 1.9579     |   0.0 |  1.97',\n",
       " 'Output  | 0.8361     | 0.8361     | 0.8361     |   0.0 |  0.84',\n",
       " 'Modify  | 79.526     | 79.526     | 79.526     |   0.0 | 79.91',\n",
       " 'Other   |            | 1.073      |            |       |  1.08',\n",
       " '',\n",
       " 'Nlocal:    1000 ave 1000 max 1000 min',\n",
       " 'Histogram: 1 0 0 0 0 0 0 0 0 0',\n",
       " 'Nghost:    297 ave 297 max 297 min',\n",
       " 'Histogram: 1 0 0 0 0 0 0 0 0 0',\n",
       " 'Neighs:    5304 ave 5304 max 5304 min',\n",
       " 'Histogram: 1 0 0 0 0 0 0 0 0 0',\n",
       " '',\n",
       " 'Total # of neighbors = 5304',\n",
       " 'Ave neighs/atom = 5.304',\n",
       " 'Neighbor list builds = 264',\n",
       " 'Dangerous builds = 0']"
      ]
     },
     "execution_count": 7,
     "metadata": {},
     "output_type": "execute_result"
    }
   ],
   "source": [
    "L.unfix(\"ins\")\n",
    "L.run(\"400000\")"
   ]
  },
  {
   "cell_type": "code",
   "execution_count": 8,
   "metadata": {},
   "outputs": [
    {
     "data": {
      "text/html": [
       "<video controls><source src=\"mov.mp4\"></video>"
      ],
      "text/plain": [
       "<IPython.core.display.HTML object>"
      ]
     },
     "execution_count": 8,
     "metadata": {},
     "output_type": "execute_result"
    }
   ],
   "source": [
    "L.undump(3)\n",
    "L.video(\"mov.mp4\")"
   ]
  }
 ],
 "metadata": {
  "kernelspec": {
   "display_name": "Python 3",
   "language": "python",
   "name": "python3"
  },
  "language_info": {
   "codemirror_mode": {
    "name": "ipython",
    "version": 3
   },
   "file_extension": ".py",
   "mimetype": "text/x-python",
   "name": "python",
   "nbconvert_exporter": "python",
   "pygments_lexer": "ipython3",
   "version": "3.7.0"
  }
 },
 "nbformat": 4,
 "nbformat_minor": 2
}
