{
 "cells": [
  {
   "cell_type": "markdown",
   "metadata": {},
   "source": [
    "# Jupyter Example\n",
    "## LAMMPS: flow/in.flow.pois\n",
    "Reference: https://github.com/lammps/lammps/blob/master/examples/flow/in.flow.pois  \n",
    "Required files: None  \n",
    "Description: 2-d LJ Poiseuille flow simulation"
   ]
  },
  {
   "cell_type": "code",
   "execution_count": 1,
   "metadata": {},
   "outputs": [],
   "source": [
    "from __future__ import print_function\n",
    "import random, math\n",
    "from lammps import IPyLammps"
   ]
  },
  {
   "cell_type": "code",
   "execution_count": 2,
   "metadata": {},
   "outputs": [
    {
     "name": "stdout",
     "output_type": "stream",
     "text": [
      "LAMMPS output is captured by PyLammps wrapper\n"
     ]
    },
    {
     "data": {
      "text/plain": [
       "['Setting atom values ...', '  60 settings made for type']"
      ]
     },
     "execution_count": 2,
     "metadata": {},
     "output_type": "execute_result"
    }
   ],
   "source": [
    "L = IPyLammps()\n",
    "L.dimension(\"2\")\n",
    "L.boundary(\"p s p\")\n",
    "L.atom_style(\"atomic\")\n",
    "L.neighbor(\"0.3 bin\")\n",
    "L.neigh_modify(\"delay 5\")\n",
    "\n",
    "# create geometry\n",
    "L.lattice(\"hex 0.7\")\n",
    "L.region(\"box block 0 20 0 10 -0.25 0.25\")\n",
    "L.create_box(\"3 box\")\n",
    "L.create_atoms(\"1 box\")\n",
    "L.mass(\"1 1.0\")\n",
    "L.mass(\"2 1.0\")\n",
    "L.mass(\"3 1.0\")\n",
    "\n",
    "# LJ potentials\n",
    "L.pair_style(\"lj/cut 1.12246\")\n",
    "L.pair_coeff(\"* * 1.0 1.0 1.12246\")\n",
    "\n",
    "# define groups\n",
    "L.region(\"1 block INF INF INF 1.25 INF INF\")\n",
    "L.group(\"lower region 1\")\n",
    "L.region(\"2 block INF INF 8.75 INF INF INF\")\n",
    "L.group(\"upper region 2\")\n",
    "L.group(\"boundary union lower upper\")\n",
    "L.group(\"flow subtract all boundary\")\n",
    "L.set(\"group lower type 2\")\n",
    "L.set(\"group upper type 3\")"
   ]
  },
  {
   "cell_type": "code",
   "execution_count": 3,
   "metadata": {},
   "outputs": [],
   "source": [
    "# initial velocities\n",
    "L.compute(\"mobile flow temp\")\n",
    "L.velocity(\"flow create 1.0 482748 temp mobile\")\n",
    "L.fix(\"1 all nve\")\n",
    "L.fix(\"2 flow temp/rescale 200 1.0 1.0 0.02 1.0\")\n",
    "L.fix_modify(\"2 temp mobile\")\n",
    "\n",
    "# Poiseuille flow\n",
    "L.velocity(\"boundary set 0.0 0.0 0.0\")\n",
    "L.fix(\"3 lower setforce 0.0 0.0 0.0\")\n",
    "L.fix(\"4 upper setforce 0.0 NULL 0.0\")\n",
    "L.fix(\"5 upper aveforce 0.0 -1.0 0.0\")\n",
    "L.fix(\"6 flow addforce 0.5 0.0 0.0\")\n",
    "L.fix(\"7 all enforce2d\")"
   ]
  },
  {
   "cell_type": "code",
   "execution_count": 4,
   "metadata": {},
   "outputs": [],
   "source": [
    "# output\n",
    "L.dump(\"1 all atom 500 dump.flow\")\n",
    "\n",
    "#L.dump(\"2 all image 100 image.*.jpg type type zoom 1.6 adiam 1\")\n",
    "#L.dump_modify(\"2 pad 5\")    \n",
    "\n",
    "L.dump(\"3 all movie 100 mov.mp4 type type zoom 1.6 adiam 1\")\n",
    "L.dump_modify(\"3 pad 5\")"
   ]
  },
  {
   "cell_type": "code",
   "execution_count": 5,
   "metadata": {},
   "outputs": [
    {
     "data": {
      "text/plain": [
       "['Neighbor list info ...',\n",
       " '  update every 1 steps, delay 5 steps, check yes',\n",
       " '  max neighbors/atom: 2000, page size: 100000',\n",
       " '  master list distance cutoff = 1.42246',\n",
       " '  ghost atom cutoff = 1.42246',\n",
       " '  binsize = 0.71123, bins = 37 32 1',\n",
       " '  1 neighbor lists, perpetual/occasional/extra = 1 0 0',\n",
       " '  (1) pair lj/cut, perpetual',\n",
       " '      attributes: half, newton on',\n",
       " '      pair build: half/bin/atomonly/newton',\n",
       " '      stencil: half/bin/2d/newton',\n",
       " '      bin: standard',\n",
       " 'Setting up Verlet run ...',\n",
       " '  Unit style    : lj',\n",
       " '  Current step  : 0',\n",
       " '  Time step     : 0.003',\n",
       " 'Per MPI rank memory allocation (min/avg/max) = 4.32 | 4.32 | 4.32 Mbytes',\n",
       " 'Step Temp E_pair E_mol TotEng Press Volume ',\n",
       " '       0            1            0            0   0.71190476   0.52314537    571.54286 ',\n",
       " '     500    1.0990751  -0.36396768            0   0.41846911     2.522517    575.55806 ',\n",
       " '    1000            1  -0.34609791            0   0.36580685    1.9736175    584.67179 ',\n",
       " '    1500    1.2112861  -0.39062708            0   0.47169327     1.521881    587.24778 ',\n",
       " '    2000            1  -0.39956949            0   0.31233527    1.2496669    583.00676 ',\n",
       " '    2500    1.2236323  -0.40128447            0   0.46982521     1.427689    570.03729 ',\n",
       " '    3000            1  -0.48849374            0   0.22341102    1.5091345    553.64637 ',\n",
       " '    3500    1.2404604  -0.63017693            0   0.25291274    1.7681156    535.22588 ',\n",
       " '    4000            1  -0.71303348            0 -0.001128721    2.2083475     516.7312 ',\n",
       " '    4500    1.2316246  -0.77421749            0   0.10258194    2.5788522     503.1817 ',\n",
       " '    5000            1   -0.7999552            0 -0.088050433    3.1546066    498.48431 ',\n",
       " '    5500    1.2347442  -0.74592478            0   0.13309548     2.695455    502.87799 ',\n",
       " '    6000            1  -0.67044678            0  0.041457981    2.2074541    513.82275 ',\n",
       " '    6500    1.2102356  -0.63751404            0   0.22405846    1.9921588    517.21223 ',\n",
       " '    7000            1  -0.65043667            0  0.061468095    1.8816222    517.22883 ',\n",
       " '    7500    1.2366099  -0.68011129            0   0.20023717    2.0387578    515.33777 ',\n",
       " '    8000            1  -0.72046833            0 -0.0085635721    2.1380846    510.42066 ',\n",
       " '    8500    1.2219154  -0.79786917            0  0.072018214    2.2824348    503.99311 ',\n",
       " '    9000            1  -0.78517366            0 -0.073268895    2.6920699    500.15016 ',\n",
       " '    9500    1.1934208   -0.7468438            0   0.10275813    2.4971524    501.17896 ',\n",
       " '   10000            1  -0.67478993            0  0.037114833    2.3681765    504.37054 ',\n",
       " 'Loop time of 1.02178 on 1 procs for 10000 steps with 420 atoms',\n",
       " '',\n",
       " 'Performance: 2536754.294 tau/day, 9786.861 timesteps/s',\n",
       " '78.2% CPU use with 1 MPI tasks x 1 OpenMP threads',\n",
       " '',\n",
       " 'MPI task timing breakdown:',\n",
       " 'Section |  min time  |  avg time  |  max time  |%varavg| %total',\n",
       " '---------------------------------------------------------------',\n",
       " 'Pair    | 0.086675   | 0.086675   | 0.086675   |   0.0 |  8.48',\n",
       " 'Neigh   | 0.023578   | 0.023578   | 0.023578   |   0.0 |  2.31',\n",
       " 'Comm    | 0.0074744  | 0.0074744  | 0.0074744  |   0.0 |  0.73',\n",
       " 'Output  | 0.80882    | 0.80882    | 0.80882    |   0.0 | 79.16',\n",
       " 'Modify  | 0.082631   | 0.082631   | 0.082631   |   0.0 |  8.09',\n",
       " 'Other   |            | 0.0126     |            |       |  1.23',\n",
       " '',\n",
       " 'Nlocal:    420 ave 420 max 420 min',\n",
       " 'Histogram: 1 0 0 0 0 0 0 0 0 0',\n",
       " 'Nghost:    51 ave 51 max 51 min',\n",
       " 'Histogram: 1 0 0 0 0 0 0 0 0 0',\n",
       " 'Neighs:    1150 ave 1150 max 1150 min',\n",
       " 'Histogram: 1 0 0 0 0 0 0 0 0 0',\n",
       " '',\n",
       " 'Total # of neighbors = 1150',\n",
       " 'Ave neighs/atom = 2.7381',\n",
       " 'Neighbor list builds = 563',\n",
       " 'Dangerous builds = 0']"
      ]
     },
     "execution_count": 5,
     "metadata": {},
     "output_type": "execute_result"
    }
   ],
   "source": [
    "# Run\n",
    "L.thermo(\"500\")\n",
    "L.thermo_modify(\"temp mobile\")\n",
    "L.timestep(\"0.003\")\n",
    "L.run(\"10000\")"
   ]
  },
  {
   "cell_type": "code",
   "execution_count": 6,
   "metadata": {},
   "outputs": [
    {
     "data": {
      "text/html": [
       "<video controls><source src=\"mov.mp4\"></video>"
      ],
      "text/plain": [
       "<IPython.core.display.HTML object>"
      ]
     },
     "execution_count": 6,
     "metadata": {},
     "output_type": "execute_result"
    }
   ],
   "source": [
    "L.undump(3)\n",
    "L.video(\"mov.mp4\")"
   ]
  }
 ],
 "metadata": {
  "kernelspec": {
   "display_name": "Python 3",
   "language": "python",
   "name": "python3"
  },
  "language_info": {
   "codemirror_mode": {
    "name": "ipython",
    "version": 3
   },
   "file_extension": ".py",
   "mimetype": "text/x-python",
   "name": "python",
   "nbconvert_exporter": "python",
   "pygments_lexer": "ipython3",
   "version": "3.7.0"
  }
 },
 "nbformat": 4,
 "nbformat_minor": 2
}
