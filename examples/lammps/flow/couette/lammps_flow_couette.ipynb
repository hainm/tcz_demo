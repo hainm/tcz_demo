{
 "cells": [
  {
   "cell_type": "markdown",
   "metadata": {},
   "source": [
    "# Jupyter Example\n",
    "## LAMMPS: flow/in.flow.couette\n",
    "Reference: https://github.com/lammps/lammps/blob/master/examples/flow/in.flow.couette  \n",
    "Required files: None  \n",
    "Description: 2-d LJ Couette flow simulation"
   ]
  },
  {
   "cell_type": "code",
   "execution_count": 1,
   "metadata": {},
   "outputs": [],
   "source": [
    "from __future__ import print_function\n",
    "import random, math\n",
    "from lammps import IPyLammps"
   ]
  },
  {
   "cell_type": "code",
   "execution_count": 2,
   "metadata": {},
   "outputs": [
    {
     "name": "stdout",
     "output_type": "stream",
     "text": [
      "LAMMPS output is captured by PyLammps wrapper\n"
     ]
    },
    {
     "data": {
      "text/plain": [
       "['Setting atom values ...', '  60 settings made for type']"
      ]
     },
     "execution_count": 2,
     "metadata": {},
     "output_type": "execute_result"
    }
   ],
   "source": [
    "L = IPyLammps()\n",
    "L.dimension(\"2\")\n",
    "L.boundary(\"p s p\")\n",
    "L.atom_style(\"atomic\")\n",
    "L.neighbor(\"0.3 bin\")\n",
    "L.neigh_modify(\"delay 5\")\n",
    "\n",
    "# create geometry\n",
    "L.lattice(\"hex 0.7\")\n",
    "L.region(\"box block 0 20 0 10 -0.25 0.25\")\n",
    "L.create_box(\"3 box\")\n",
    "L.create_atoms(\"1 box\")\n",
    "L.mass(\"1 1.0\")\n",
    "L.mass(\"2 1.0\")\n",
    "L.mass(\"3 1.0\")\n",
    "\n",
    "# LJ potentials\n",
    "L.pair_style(\"lj/cut 1.12246\")\n",
    "L.pair_coeff(\"* * 1.0 1.0 1.12246\")\n",
    "\n",
    "# define groups\n",
    "L.region(\"1 block INF INF INF 1.25 INF INF\")\n",
    "L.group(\"lower region 1\")\n",
    "L.region(\"2 block INF INF 8.75 INF INF INF\")\n",
    "L.group(\"upper region 2\")\n",
    "L.group(\"boundary union lower upper\")\n",
    "L.group(\"flow subtract all boundary\")\n",
    "L.set(\"group lower type 2\")\n",
    "L.set(\"group upper type 3\")"
   ]
  },
  {
   "cell_type": "code",
   "execution_count": 3,
   "metadata": {},
   "outputs": [],
   "source": [
    "# initial velocities\n",
    "L.compute(\"mobile flow temp\")\n",
    "L.velocity(\"flow create 1.0 482748 temp mobile\")\n",
    "L.fix(\"1 all nve\")\n",
    "L.fix(\"2 flow temp/rescale 200 1.0 1.0 0.02 1.0\")\n",
    "L.fix_modify(\"2 temp mobile\")\n",
    "\n",
    "# Couette flow\n",
    "L.velocity(\"lower set 0.0 0.0 0.0\")\n",
    "L.velocity(\"upper set 3.0 0.0 0.0\")\n",
    "L.fix(\"3 boundary setforce 0.0 0.0 0.0\")\n",
    "L.fix(\"4 all enforce2d\")"
   ]
  },
  {
   "cell_type": "code",
   "execution_count": 4,
   "metadata": {},
   "outputs": [],
   "source": [
    "# output\n",
    "L.dump(\"1 all atom 500 dump.flow\")\n",
    "\n",
    "#L.dump(\"2 all image 100 image.*.jpg type type zoom 1.6 adiam 1\")\n",
    "#L.dump_modify(\"2 pad 5\")    \n",
    "\n",
    "L.dump(\"3 all movie 100 mov.mp4 type type zoom 1.6 adiam 1\")\n",
    "L.dump_modify(\"3 pad 5\")"
   ]
  },
  {
   "cell_type": "code",
   "execution_count": 5,
   "metadata": {},
   "outputs": [
    {
     "data": {
      "text/plain": [
       "['Neighbor list info ...',\n",
       " '  update every 1 steps, delay 5 steps, check yes',\n",
       " '  max neighbors/atom: 2000, page size: 100000',\n",
       " '  master list distance cutoff = 1.42246',\n",
       " '  ghost atom cutoff = 1.42246',\n",
       " '  binsize = 0.71123, bins = 37 32 1',\n",
       " '  1 neighbor lists, perpetual/occasional/extra = 1 0 0',\n",
       " '  (1) pair lj/cut, perpetual',\n",
       " '      attributes: half, newton on',\n",
       " '      pair build: half/bin/atomonly/newton',\n",
       " '      stencil: half/bin/2d/newton',\n",
       " '      bin: standard',\n",
       " 'Setting up Verlet run ...',\n",
       " '  Unit style    : lj',\n",
       " '  Current step  : 0',\n",
       " '  Time step     : 0.003',\n",
       " 'Per MPI rank memory allocation (min/avg/max) = 4.32 | 4.32 | 4.32 Mbytes',\n",
       " 'Step Temp E_pair E_mol TotEng Press Volume ',\n",
       " '       0            1            0            0   0.71190476   0.52314537    571.54286 ',\n",
       " '     500    1.0644427  -0.31382888            0   0.44395296    3.0013076    571.54286 ',\n",
       " '    1000            1  -0.42965445            0   0.28225032    2.9612165    571.54286 ',\n",
       " '    1500    1.0739874  -0.41189772            0   0.35267901    2.5621951    571.54286 ',\n",
       " '    2000            1  -0.40814262            0   0.30376214    2.9229597    571.54286 ',\n",
       " '    2500     1.193035  -0.38493995            0   0.46438736    2.8340607    571.54286 ',\n",
       " '    3000            1  -0.45564537            0    0.2562594    2.7506498    571.54286 ',\n",
       " '    3500    1.0626882  -0.45013361            0   0.30639918    2.5530157    571.54286 ',\n",
       " '    4000            1  -0.39613722            0   0.31576755    2.4669827    571.54286 ',\n",
       " '    4500    1.0832856  -0.43003699            0   0.34115919    2.2569491    571.54286 ',\n",
       " '    5000            1  -0.42733451            0   0.28457025    2.4685826    571.54286 ',\n",
       " '    5500    1.0413391  -0.39346589            0   0.34786835    2.6348761    571.54286 ',\n",
       " '    6000            1  -0.42845926            0    0.2834455    2.4988125    571.54286 ',\n",
       " '    6500    1.0890296  -0.43775517            0   0.33753016    2.4384217    571.54286 ',\n",
       " '    7000            1  -0.46023483            0   0.25166993    2.4429964    571.54286 ',\n",
       " '    7500    1.0644341  -0.45175861            0    0.3060171    2.4324515    571.54286 ',\n",
       " '    8000            1  -0.43920605            0   0.27269871    2.6469713    571.54286 ',\n",
       " '    8500    1.0647184  -0.45399641            0    0.3039817    2.5748114    571.54286 ',\n",
       " '    9000            1  -0.46453995            0   0.24736482    2.6591355    571.54286 ',\n",
       " '    9500       1.0123  -0.44029216            0   0.28036906     2.413597    571.54286 ',\n",
       " '   10000            1  -0.43826448            0   0.27364028    2.3699706    571.54286 ',\n",
       " 'Loop time of 0.987838 on 1 procs for 10000 steps with 420 atoms',\n",
       " '',\n",
       " 'Performance: 2623911.939 tau/day, 10123.117 timesteps/s',\n",
       " '78.0% CPU use with 1 MPI tasks x 1 OpenMP threads',\n",
       " '',\n",
       " 'MPI task timing breakdown:',\n",
       " 'Section |  min time  |  avg time  |  max time  |%varavg| %total',\n",
       " '---------------------------------------------------------------',\n",
       " 'Pair    | 0.079249   | 0.079249   | 0.079249   |   0.0 |  8.02',\n",
       " 'Neigh   | 0.038888   | 0.038888   | 0.038888   |   0.0 |  3.94',\n",
       " 'Comm    | 0.0078661  | 0.0078661  | 0.0078661  |   0.0 |  0.80',\n",
       " 'Output  | 0.80983    | 0.80983    | 0.80983    |   0.0 | 81.98',\n",
       " 'Modify  | 0.04014    | 0.04014    | 0.04014    |   0.0 |  4.06',\n",
       " 'Other   |            | 0.01186    |            |       |  1.20',\n",
       " '',\n",
       " 'Nlocal:    420 ave 420 max 420 min',\n",
       " 'Histogram: 1 0 0 0 0 0 0 0 0 0',\n",
       " 'Nghost:    50 ave 50 max 50 min',\n",
       " 'Histogram: 1 0 0 0 0 0 0 0 0 0',\n",
       " 'Neighs:    946 ave 946 max 946 min',\n",
       " 'Histogram: 1 0 0 0 0 0 0 0 0 0',\n",
       " '',\n",
       " 'Total # of neighbors = 946',\n",
       " 'Ave neighs/atom = 2.25238',\n",
       " 'Neighbor list builds = 979',\n",
       " 'Dangerous builds = 0']"
      ]
     },
     "execution_count": 5,
     "metadata": {},
     "output_type": "execute_result"
    }
   ],
   "source": [
    "# Run\n",
    "L.thermo(\"500\")\n",
    "L.thermo_modify(\"temp mobile\")\n",
    "L.timestep(\"0.003\")\n",
    "L.run(\"10000\")"
   ]
  },
  {
   "cell_type": "code",
   "execution_count": 6,
   "metadata": {},
   "outputs": [
    {
     "data": {
      "text/html": [
       "<video controls><source src=\"mov.mp4\"></video>"
      ],
      "text/plain": [
       "<IPython.core.display.HTML object>"
      ]
     },
     "execution_count": 6,
     "metadata": {},
     "output_type": "execute_result"
    }
   ],
   "source": [
    "L.undump(3)\n",
    "L.video(\"mov.mp4\")"
   ]
  }
 ],
 "metadata": {
  "kernelspec": {
   "display_name": "Python 3",
   "language": "python",
   "name": "python3"
  },
  "language_info": {
   "codemirror_mode": {
    "name": "ipython",
    "version": 3
   },
   "file_extension": ".py",
   "mimetype": "text/x-python",
   "name": "python",
   "nbconvert_exporter": "python",
   "pygments_lexer": "ipython3",
   "version": "3.7.0"
  }
 },
 "nbformat": 4,
 "nbformat_minor": 2
}
